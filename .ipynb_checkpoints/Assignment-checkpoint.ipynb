{
 "cells": [
  {
   "cell_type": "code",
   "execution_count": 1,
   "metadata": {},
   "outputs": [
    {
     "name": "stdout",
     "output_type": "stream",
     "text": [
      "Enter First number2\n",
      "Enter second number2\n"
     ]
    },
    {
     "data": {
      "text/plain": [
       "2"
      ]
     },
     "execution_count": 1,
     "metadata": {},
     "output_type": "execute_result"
    }
   ],
   "source": [
    "a=int(input(\"Enter First number\"))\n",
    "b=int(input(\"Enter second number\"))\n",
    "max(a,b)"
   ]
  },
  {
   "cell_type": "code",
   "execution_count": 2,
   "metadata": {},
   "outputs": [
    {
     "name": "stdout",
     "output_type": "stream",
     "text": [
      "Enter First number34\n",
      "Enter second number56\n",
      "Enter Third number43\n"
     ]
    },
    {
     "data": {
      "text/plain": [
       "56"
      ]
     },
     "execution_count": 2,
     "metadata": {},
     "output_type": "execute_result"
    }
   ],
   "source": [
    "a=int(input(\"Enter First number\"))\n",
    "b=int(input(\"Enter second number\"))\n",
    "c=int(input(\"Enter Third number\"))\n",
    "max(a,b,c)"
   ]
  },
  {
   "cell_type": "code",
   "execution_count": 3,
   "metadata": {},
   "outputs": [
    {
     "name": "stdout",
     "output_type": "stream",
     "text": [
      "enter a number45\n",
      "positive\n"
     ]
    }
   ],
   "source": [
    "a=int(input(\"enter a number\"))\n",
    "if a>0:\n",
    "    print(\"positive\")\n",
    "elif a<0:\n",
    "    print(\"negative\")\n",
    "else:\n",
    "    print(\"zero\")"
   ]
  },
  {
   "cell_type": "code",
   "execution_count": 4,
   "metadata": {},
   "outputs": [
    {
     "name": "stdout",
     "output_type": "stream",
     "text": [
      "enter a number78\n",
      "Not divisible\n"
     ]
    }
   ],
   "source": [
    "a=int(input(\"enter a number\"))\n",
    "if a%5==0 and a%11==0:\n",
    "    print(\"Divisible by 5 and 11\")\n",
    "else:\n",
    "    print(\"Not divisible\")"
   ]
  },
  {
   "cell_type": "code",
   "execution_count": 5,
   "metadata": {},
   "outputs": [
    {
     "name": "stdout",
     "output_type": "stream",
     "text": [
      "Enter a number44\n",
      "Even\n"
     ]
    }
   ],
   "source": [
    "if(int(input(\"Enter a number\")))%2:\n",
    "    print(\"odd\")\n",
    "else:\n",
    "    print(\"Even\")"
   ]
  },
  {
   "cell_type": "code",
   "execution_count": 8,
   "metadata": {},
   "outputs": [
    {
     "name": "stdout",
     "output_type": "stream",
     "text": [
      "Enter a number468\n",
      "Leap year\n"
     ]
    }
   ],
   "source": [
    "a=int(input(\"Enter a number\"))\n",
    "if a%4==0 and a%100==0:\n",
    "    if a%400==0:\n",
    "        print(\"leap year\")\n",
    "    else:\n",
    "        print(\"Not a leap year\")\n",
    "elif a%4==0:\n",
    "    print(\"Leap year\")\n",
    "else:\n",
    "    print(\"Not a Leap year\")"
   ]
  },
  {
   "cell_type": "code",
   "execution_count": 9,
   "metadata": {},
   "outputs": [
    {
     "name": "stdout",
     "output_type": "stream",
     "text": [
      "Enter a numberasd\n",
      "Alphabet\n"
     ]
    }
   ],
   "source": [
    "if(input(\"Enter a number\")).isalpha():\n",
    "    print(\"Alphabet\")\n",
    "else:\n",
    "    print(\"Not\")"
   ]
  },
  {
   "cell_type": "code",
   "execution_count": 11,
   "metadata": {},
   "outputs": [
    {
     "name": "stdout",
     "output_type": "stream",
     "text": [
      "enterb\n",
      "consonent\n"
     ]
    }
   ],
   "source": [
    "a=input(\"enter\").lower().strip()\n",
    "if a==\"a\"  or a==\"e\"  or a==\"i\"  or a==\"o\" or a==\"u\" :\n",
    "    print(\"Vowel\")\n",
    "else:\n",
    "    print(\"consonent\")"
   ]
  },
  {
   "cell_type": "code",
   "execution_count": 12,
   "metadata": {},
   "outputs": [
    {
     "name": "stdout",
     "output_type": "stream",
     "text": [
      "Enter a number#\n",
      "Special Character\n"
     ]
    }
   ],
   "source": [
    "a=input(\"Enter a number\")\n",
    "if a.isalpha():\n",
    "    print(\"Alphabet\")\n",
    "elif a.isdigit():\n",
    "    print(\"Digit\")\n",
    "else:\n",
    "    print(\"Special Character\")"
   ]
  },
  {
   "cell_type": "code",
   "execution_count": 13,
   "metadata": {},
   "outputs": [
    {
     "name": "stdout",
     "output_type": "stream",
     "text": [
      "Enter a numberA\n",
      "Uppercase\n"
     ]
    }
   ],
   "source": [
    "if(input(\"Enter a number\")).isupper():\n",
    "    print(\"Uppercase\")\n",
    "else:\n",
    "    print(\"Lowercase\")"
   ]
  },
  {
   "cell_type": "code",
   "execution_count": 14,
   "metadata": {},
   "outputs": [
    {
     "name": "stdout",
     "output_type": "stream",
     "text": [
      "enter week number4\n",
      "Thursday\n"
     ]
    }
   ],
   "source": [
    "a=int(input(\"enter week number\"))\n",
    "if a==1:\n",
    "    print(\"Monday\")\n",
    "elif a==2:\n",
    "    print(\"Tuesday\")\n",
    "elif a==3:\n",
    "    print(\"Wednesday\")\n",
    "elif a==4:\n",
    "    print(\"Thursday\")\n",
    "elif a==5:\n",
    "    print(\"Friday\")\n",
    "elif a==6:\n",
    "    print(\"Saturday\")\n",
    "elif a==7:\n",
    "    print(\"Sunday\")\n",
    "else:\n",
    "    print(\"Invalid week number\")"
   ]
  },
  {
   "cell_type": "code",
   "execution_count": 15,
   "metadata": {},
   "outputs": [
    {
     "name": "stdout",
     "output_type": "stream",
     "text": [
      "enter month number2\n",
      "28/29 Days\n"
     ]
    }
   ],
   "source": [
    "a=int(input(\"enter month number\"))\n",
    "if a==1 or a==3 or a==5 or a==7 or a==8 or a==10 or a==12:\n",
    "    print(\" 31 Days \")\n",
    "elif a==2:\n",
    "    print(\"28/29 Days\")\n",
    "elif a==4 or a==6 or a==9 or a==11:\n",
    "    print(\"30 days\")\n",
    "else:\n",
    "    print(\"Invalid month number\")"
   ]
  },
  {
   "cell_type": "code",
   "execution_count": 16,
   "metadata": {},
   "outputs": [
    {
     "name": "stdout",
     "output_type": "stream",
     "text": [
      "1st angle90\n",
      "2st angle30\n",
      "3st angle60\n",
      "Triangle is valid\n"
     ]
    }
   ],
   "source": [
    "a=int(input(\"1st angle\"))\n",
    "b=int(input(\"2st angle\"))\n",
    "c=int(input(\"3st angle\"))\n",
    "if a+b+c==180:\n",
    "    print(\"Triangle is valid\")\n",
    "else:\n",
    "    print(\"Triangle is not valid\")"
   ]
  },
  {
   "cell_type": "code",
   "execution_count": 17,
   "metadata": {},
   "outputs": [
    {
     "name": "stdout",
     "output_type": "stream",
     "text": [
      "1st side4\n",
      "2st side5\n",
      "3st side6\n",
      "Triangle is valid\n"
     ]
    }
   ],
   "source": [
    "a=int(input(\"1st side\"))\n",
    "b=int(input(\"2st side\"))\n",
    "c=int(input(\"3st side\"))\n",
    "if a+b>c and b+c>a and c+a>b:\n",
    "    print(\"Triangle is valid\")\n",
    "else:\n",
    "    print(\"Triangle is not valid\")"
   ]
  },
  {
   "cell_type": "code",
   "execution_count": 18,
   "metadata": {},
   "outputs": [
    {
     "name": "stdout",
     "output_type": "stream",
     "text": [
      "1st side4\n",
      "2st side4\n",
      "3st side4\n",
      "Equivalent triangle\n"
     ]
    }
   ],
   "source": [
    "a=int(input(\"1st side\"))\n",
    "b=int(input(\"2st side\"))\n",
    "c=int(input(\"3st side\"))\n",
    "if a!=b and a!=c and b!=c:\n",
    "    print(\"Scalene triangle\")\n",
    "elif a==b!=c or a==c!=b or b==c!=a:\n",
    "    print(\"isosceles triangle\")\n",
    "elif a==b==c:\n",
    "    print(\"Equivalent triangle\")"
   ]
  },
  {
   "cell_type": "code",
   "execution_count": 23,
   "metadata": {},
   "outputs": [
    {
     "name": "stdout",
     "output_type": "stream",
     "text": [
      "Quadratic equation: a*x^2+b*x+c\n",
      "Enter a2\n",
      "Enter b9\n",
      "Enter c4\n",
      "Root 1=-0.5  Root 2=-4.0\n"
     ]
    }
   ],
   "source": [
    "print(\"Quadratic equation: a*x^2+b*x+c\")\n",
    "a=int(input(\"Enter a\"))\n",
    "b=int(input(\"Enter b\"))\n",
    "c=int(input(\"Enter c\"))\n",
    "r=(b**2)-4*(a*c)\n",
    "r1=r**(1/2)\n",
    "if r>0:\n",
    "    s1=((-b)+r1)/(2*a)\n",
    "    s2=((-b)-r1)/(2*a)\n",
    "    print(f\"Root 1={s1}  Root 2={s2}\")\n",
    "elif r==0:\n",
    "    s1=-b/2*a\n",
    "    print(f\"Root ={s1}\")\n",
    "else:\n",
    "    print(\"Invaid\")"
   ]
  },
  {
   "cell_type": "code",
   "execution_count": 24,
   "metadata": {},
   "outputs": [
    {
     "name": "stdout",
     "output_type": "stream",
     "text": [
      "Enter cost price2\n",
      "Enter selling price5\n",
      "Profit of 3\n"
     ]
    }
   ],
   "source": [
    "a=int(input(\"Enter cost price\"))\n",
    "b=int(input(\"Enter selling price\"))\n",
    "if a<b:\n",
    "    c=b-a\n",
    "    print(f\"Profit of {c}\")\n",
    "elif a>b:\n",
    "    c=a-b\n",
    "    print(f\"Loss of {c}\")\n",
    "else:\n",
    "    print(\"No Profit No Loss!! \")"
   ]
  },
  {
   "cell_type": "code",
   "execution_count": 25,
   "metadata": {},
   "outputs": [
    {
     "name": "stdout",
     "output_type": "stream",
     "text": [
      "Enter marks of subject1 ->78\n",
      "Enter marks of subject2 ->90\n",
      "Enter marks of subject3 ->99\n",
      "Enter marks of subject4 ->87\n",
      "Enter marks of subject5 ->79\n",
      "86.6\n",
      "Grade B\n"
     ]
    }
   ],
   "source": [
    "a=int(input(\"Enter marks of subject1 ->\"))\n",
    "b=int(input(\"Enter marks of subject2 ->\"))\n",
    "c=int(input(\"Enter marks of subject3 ->\"))\n",
    "d=int(input(\"Enter marks of subject4 ->\"))\n",
    "e=int(input(\"Enter marks of subject5 ->\"))\n",
    "per=((a+b+c+d+e)/500)*100\n",
    "print(per)\n",
    "if per>=90:\n",
    "    print(\"Grade A\")\n",
    "elif per>=80:\n",
    "    print(\"Grade B\")\n",
    "elif per>=70:\n",
    "    print(\"Grade c\")\n",
    "elif per>=60:\n",
    "    print(\"Grade D\")\n",
    "elif per>=40:\n",
    "    print(\"Grade E\")\n",
    "elif per<40:\n",
    "    print(\"Grade F\")"
   ]
  },
  {
   "cell_type": "code",
   "execution_count": 26,
   "metadata": {},
   "outputs": [
    {
     "name": "stdout",
     "output_type": "stream",
     "text": [
      "Enter salary20000\n",
      "Gross = 43000.0\n"
     ]
    }
   ],
   "source": [
    "sal=int(input(\"Enter salary\"))\n",
    "if sal<=10000:\n",
    "    har=sal*.2 \n",
    "    da=sal*.8\n",
    "elif sal<=20000:\n",
    "    har=sal*.25\n",
    "    da=sal*.9\n",
    "elif sal>20000:\n",
    "    har=sal*.3\n",
    "    da=sal*.95\n",
    "gross=sal+har+da\n",
    "print(f\"Gross = {gross}\")"
   ]
  },
  {
   "cell_type": "code",
   "execution_count": 27,
   "metadata": {},
   "outputs": [
    {
     "name": "stdout",
     "output_type": "stream",
     "text": [
      "Enter units consumed:400\n",
      "Total =534.0\n"
     ]
    }
   ],
   "source": [
    "unit=int(input(\"Enter units consumed:\"))\n",
    "if unit<=50:\n",
    "    amt=unit*.50\n",
    "elif unit<=150:\n",
    "    amt=25+(unit-50)*.75\n",
    "elif unit<=250:\n",
    "    amt=100+(unit-150)*1.20\n",
    "else:\n",
    "    amt=220+(unit-250)*1.50\n",
    "surcrg=amt*.2\n",
    "total=surcrg+amt\n",
    "print(f\"Total ={total}\")"
   ]
  },
  {
   "cell_type": "code",
   "execution_count": null,
   "metadata": {},
   "outputs": [],
   "source": []
  }
 ],
 "metadata": {
  "kernelspec": {
   "display_name": "Python 3",
   "language": "python",
   "name": "python3"
  },
  "language_info": {
   "codemirror_mode": {
    "name": "ipython",
    "version": 3
   },
   "file_extension": ".py",
   "mimetype": "text/x-python",
   "name": "python",
   "nbconvert_exporter": "python",
   "pygments_lexer": "ipython3",
   "version": "3.7.3"
  }
 },
 "nbformat": 4,
 "nbformat_minor": 2
}
