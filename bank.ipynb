{
 "cells": [
  {
   "cell_type": "code",
   "execution_count": 12,
   "metadata": {},
   "outputs": [
    {
     "name": "stdout",
     "output_type": "stream",
     "text": [
      "-.-.-.-.-.-.-.-.chose option.-.-.-.-.-.-.-.-.-\n",
      "1.banking\n",
      "2.Loan3\n",
      "******************invalid option******************\n"
     ]
    }
   ],
   "source": [
    "opt=int(input(\"-.-.-.-.-.-.-.-.chose option.-.-.-.-.-.-.-.-.-\\n1.banking\\n2.Loan\"))\n",
    "if opt==1:\n",
    "    banking()\n",
    "elif opt==2:\n",
    "    loan()\n",
    "else:\n",
    "    print(\"invalid option\".center(50,\"*\"))"
   ]
  },
  {
   "cell_type": "code",
   "execution_count": 17,
   "metadata": {},
   "outputs": [],
   "source": [
    "def banking():\n",
    "    print(\"-.-.-.-.-.-.-.-.-chose an option-.-.-.-.-.-.-.-.-\")\n",
    "    ch=int(input(\"1.Deposite\\n2.Withdrawl\\n3.Check Balance\\n4.New a/c Open\\n5.Edit information\\n6.Manager Login\\n\"))\n",
    "    if ch==1:\n",
    "        deposite()\n",
    "    if ch==2:\n",
    "        withdrawl()\n",
    "    if ch==3:\n",
    "        chk_bal()\n",
    "    if ch==4:\n",
    "        new_ac()\n",
    "    if ch==5:\n",
    "        edit_info()\n",
    "    if ch==6:\n",
    "        mgr()\n",
    "    else:\n",
    "        print(\"invalid option\".center(50,\"*\"))\n"
   ]
  },
  {
   "cell_type": "code",
   "execution_count": 18,
   "metadata": {},
   "outputs": [
    {
     "name": "stdout",
     "output_type": "stream",
     "text": [
      "-.-.-.-.-.-.-.-.-chose an option-.-.-.-.-.-.-.-.-\n",
      "1.Deposite\n",
      "2.Withdrawl\n",
      "3.Check Balance\n",
      "4.New a/c Open\n",
      "5.Edit information\n",
      "6.Manager Login\n",
      "7\n",
      "******************invalid option******************\n"
     ]
    }
   ],
   "source": [
    "banking()"
   ]
  },
  {
   "cell_type": "code",
   "execution_count": 2,
   "metadata": {},
   "outputs": [],
   "source": [
    "def deposite():\n",
    "    acn=input(\"Enter Your Account Number:-\")\n",
    "    fp=open(\"G://Workspace/Python/Bank/data.db\",\"r+\")\n",
    "    data=json.load(fp)\n",
    "    fp.close()\n",
    "    if acn not in data.keys():\n",
    "        print(\"acount number not available\".center(50,\"*\"))\n",
    "        return\n",
    "    amt=int(input(\"Enter amount to deposite:-\"))\n",
    "    data[acn]['bal']+=amt\n",
    "    fp=open(\"G://Workspace/Python/Bank/data.db\",\"w\")\n",
    "    json.dump(data,fp)\n",
    "    fp.close()"
   ]
  },
  {
   "cell_type": "code",
   "execution_count": 20,
   "metadata": {},
   "outputs": [],
   "source": [
    "import json\n",
    "data={\"12345\":{\"name\":\"peeyush\",\"bal\":30000}}\n",
    "fp=open(\"G://Workspace/Python/Bank/data.db\",\"w\")\n",
    "json.dump(data,fp)\n",
    "fp.close()\n"
   ]
  },
  {
   "cell_type": "code",
   "execution_count": 29,
   "metadata": {},
   "outputs": [
    {
     "name": "stdout",
     "output_type": "stream",
     "text": [
      "Enter Your Account Number:-12345\n",
      "Enter amount to deposite:-10000\n"
     ]
    }
   ],
   "source": [
    "deposite()"
   ]
  },
  {
   "cell_type": "code",
   "execution_count": 6,
   "metadata": {},
   "outputs": [],
   "source": [
    "def withdrawl():\n",
    "    acn=input(\"Enter Your Account Number:-\")\n",
    "    fp=open(\"G://Workspace/Python/Bank/data.db\",\"r+\")\n",
    "    data=json.load(fp)\n",
    "    fp.close()\n",
    "    if acn not in data.keys():\n",
    "        print(\"acount number not available\".center(50,\"*\"))\n",
    "        return\n",
    "    amt=int(input(\"Enter amount to withdraw:-\"))\n",
    "    if amt>data[acn]['bal']:\n",
    "        print(\"insufficiant balance\".center(50,\"*\"))\n",
    "        return\n",
    "    data[acn]['bal']-=amt\n",
    "    fp=open(\"G://Workspace/Python/Bank/data.db\",\"w\")\n",
    "    json.dump(data,fp)\n",
    "    fp.close()"
   ]
  },
  {
   "cell_type": "code",
   "execution_count": 9,
   "metadata": {},
   "outputs": [
    {
     "name": "stdout",
     "output_type": "stream",
     "text": [
      "Enter Your Account Number:-12345\n",
      "Enter amount to withdraw:-20000\n"
     ]
    }
   ],
   "source": [
    "withdrawl()"
   ]
  },
  {
   "cell_type": "code",
   "execution_count": 1,
   "metadata": {},
   "outputs": [],
   "source": [
    "import json"
   ]
  },
  {
   "cell_type": "code",
   "execution_count": 5,
   "metadata": {},
   "outputs": [],
   "source": [
    "def chk_bal():\n",
    "    acn=input(\"Enter Your Account Number:-\")\n",
    "    fp=open(\"G://Workspace/Python/Bank/data.db\",\"r+\")\n",
    "    data=json.load(fp)\n",
    "    fp.close()\n",
    "    if acn not in data.keys():\n",
    "        print(\"acount number not available\".center(50,\"*\"))\n",
    "        return\n",
    "    print(f\"Acount number->{acn}\\nholder\\'s name->{data[acn]['name']}\\nAvailable balance->{data[acn]['bal']}\")    "
   ]
  },
  {
   "cell_type": "code",
   "execution_count": 22,
   "metadata": {},
   "outputs": [],
   "source": [
    "d1.setdefault(\"one\",1);d1.setdefault(\"two\",2);"
   ]
  },
  {
   "cell_type": "code",
   "execution_count": 28,
   "metadata": {},
   "outputs": [],
   "source": [
    "def new_ac():\n",
    "    fname=input(\"enter your first name:-\")\n",
    "    lname=input(\"enter your last name:-\")\n",
    "    mbn=int(input(\"enter your mobile numbre:-\"))\n",
    "    adrs=input(\"enter your permanent address:-\")\n",
    "    dob=input(\"enter your date of birth(yyyy-mm-dd):-\")\n",
    "    uname=input(\"enter your user name:-\")\n",
    "    password=input(\"enter your password:-\")\n",
    "    fp=open(\"G://Workspace/Python/Bank/data.db\",\"r+\")\n",
    "    data=json.load(fp)\n",
    "    fp.close()\n",
    "    d={}\n",
    "    d.setdefault(\"fname\",fname);d.setdefault(\"lname\",lname);d.setdefault(\"mobile\",mbn)\n",
    "    d.setdefault(\"address\",adrs);d.setdefault(\"dob\",dob);d.setdefault(\"user\",uname)\n",
    "    d.setdefault(\"password\",password)\n",
    "    d.setdefault(\"bal\",0);d.setdefault(\"loan\",0)\n",
    "    data.setdefault(\"12346\",d)\n",
    "    fp=open(\"G://Workspace/Python/Bank/data.db\",\"w\")\n",
    "    json.dump(data,fp)\n",
    "    fp.close()"
   ]
  },
  {
   "cell_type": "code",
   "execution_count": 32,
   "metadata": {},
   "outputs": [
    {
     "name": "stdout",
     "output_type": "stream",
     "text": [
      "enter your first name:-peeyush\n",
      "enter your last name:-bhaduka\n",
      "enter your mobile numbre:-8385886099\n",
      "enter your permanent address:-murlipura scheme,jaipur\n",
      "enter your date of birth(yyyy-mm-dd):-2000-05-25\n",
      "enter your user name:-peeyush2505\n",
      "enter your password:-bhaduka\n"
     ]
    }
   ],
   "source": [
    "new_ac()\n"
   ]
  },
  {
   "cell_type": "code",
   "execution_count": 33,
   "metadata": {},
   "outputs": [
    {
     "name": "stdout",
     "output_type": "stream",
     "text": [
      "peeyush\n",
      "8385886099\n",
      "murlipura scheme,jaipur\n",
      "0\n",
      "0\n"
     ]
    }
   ],
   "source": [
    "fp=open(\"G://Workspace/Python/Bank/data.db\",\"r+\")\n",
    "data=json.load(fp)\n",
    "fp.close()\n",
    "print(data['12346']['fname'])\n",
    "print(data['12346']['mobile'])\n",
    "print(data['12346']['address'])\n",
    "print(data['12346']['bal'])\n",
    "print(data['12346']['loan'])"
   ]
  },
  {
   "cell_type": "code",
   "execution_count": 34,
   "metadata": {},
   "outputs": [],
   "source": [
    "def edit_info():\n",
    "    acn=input(\"Enter Your Account Number:-\")\n",
    "    fp=open(\"G://Workspace/Python/Bank/data.db\",\"r+\")\n",
    "    data=json.load(fp)\n",
    "    fp.close()\n",
    "    if acn not in data.keys():\n",
    "        print(\"acount number not available\".center(50,\"*\"))\n",
    "        return\n",
    "    print(\"-.-.-.-.-.-.-.-.-What you want to edit-.-.-.-.-.-.-.-.-\")\n",
    "    ch=int(input(\"1.fname\\n2.lname\\n3.mobilenumber\\n4.password\\n5.address\\n\"))\n",
    "    if ch==1:\n",
    "        x=input(\"enter new first name:-\")\n",
    "        data[acn]['fname']=x\n",
    "    elif ch==2:\n",
    "        x=input(\"enter new last name:-\")\n",
    "        data[acn]['lname']=x\n",
    "    elif ch==3:\n",
    "        x=input(\"enter new mobile number:-\")\n",
    "        data[acn]['mobile']=x\n",
    "    elif ch==4:\n",
    "        x=input(\"enter new password:-\")\n",
    "        data[acn]['password']=x\n",
    "    elif ch==5:\n",
    "        x=input(\"enter new address:-\")\n",
    "        data[acn]['address']=x\n",
    "    else:\n",
    "        print(\"invalid option\".center(50,\"*\"))\n",
    "    fp=open(\"G://Workspace/Python/Bank/data.db\",\"w\")\n",
    "    json.dump(data,fp)\n",
    "    fp.close()"
   ]
  },
  {
   "cell_type": "code",
   "execution_count": 35,
   "metadata": {},
   "outputs": [
    {
     "name": "stdout",
     "output_type": "stream",
     "text": [
      "Enter Your Account Number:-12346\n",
      "-.-.-.-.-.-.-.-.-What you want to edit-.-.-.-.-.-.-.-.-\n",
      "1.fname\n",
      "2.lname\n",
      "3.mobilenumber\n",
      "4.password\n",
      "5.address\n",
      "3\n",
      "enter new mobile number:-9772236778\n"
     ]
    }
   ],
   "source": [
    "edit_info()"
   ]
  },
  {
   "cell_type": "code",
   "execution_count": 24,
   "metadata": {},
   "outputs": [],
   "source": [
    "def mgr():\n",
    "    usr_nm=input(\"Enter user name:-\")\n",
    "    paswd=input(\"Enter password:-\")\n",
    "    fp=open(\"G://Workspace/Python/Bank/data.db\",\"r+\")\n",
    "    data=json.load(fp)\n",
    "    fp.close()\n",
    "    if usr_nm!=data['mgr']['user'] or paswd!=data['mgr']['pass']:\n",
    "        print(\"username or password incorrect\".center(50,\"*\"))\n",
    "        return\n",
    "    acn=input(\"enter account number to see details:-\")\n",
    "    if acn not in data.keys():\n",
    "        print(\"acount number not available\".center(50,\"*\"))\n",
    "        return\n",
    "    print(\"details of given account number\".center(50,\"*\"))\n",
    "    print(f\"account number->{acn}\\nfirst name->{data[acn]['fname']}\\nlast name->{data[acn]['lname']}\\nmobile number->{data[acn]['mobile']}\")\n",
    "    print(f\"address->{data[acn]['address']}\\nAvailable balance->{data[acn]['bal']}\\ngranted loan->{data[acn]['loan']}\")\n",
    "          "
   ]
  },
  {
   "cell_type": "code",
   "execution_count": 1,
   "metadata": {},
   "outputs": [],
   "source": [
    "import json"
   ]
  },
  {
   "cell_type": "code",
   "execution_count": 11,
   "metadata": {},
   "outputs": [],
   "source": [
    "fp=open(\"G://Workspace/Python/Bank/data.db\",\"r+\")\n",
    "data=json.load(fp)\n",
    "fp.close()"
   ]
  },
  {
   "cell_type": "code",
   "execution_count": 6,
   "metadata": {},
   "outputs": [
    {
     "data": {
      "text/plain": [
       "{'12345': {'name': 'peeyush', 'bal': 40000},\n",
       " '12346': {'fname': 'peeyush',\n",
       "  'lname': 'bhaduka',\n",
       "  'mobile': '9772236778',\n",
       "  'address': 'murlipura scheme,jaipur',\n",
       "  'dob': '2000-05-25',\n",
       "  'user': 'peeyush2505',\n",
       "  'password': 'bhaduka',\n",
       "  'bal': 0,\n",
       "  'loan': 0}}"
      ]
     },
     "execution_count": 6,
     "metadata": {},
     "output_type": "execute_result"
    }
   ],
   "source": [
    "data\n"
   ]
  },
  {
   "cell_type": "code",
   "execution_count": 7,
   "metadata": {},
   "outputs": [
    {
     "data": {
      "text/plain": [
       "{'user': 'pb2505', 'pass': '123456'}"
      ]
     },
     "execution_count": 7,
     "metadata": {},
     "output_type": "execute_result"
    }
   ],
   "source": [
    "data.setdefault('mgr',{'user':'pb2505','pass':'123456'})"
   ]
  },
  {
   "cell_type": "code",
   "execution_count": 14,
   "metadata": {},
   "outputs": [],
   "source": [
    "fp=open(\"G://Workspace/Python/Bank/data.db\",\"r+\")\n",
    "json.dump(data,fp)\n",
    "fp.close()"
   ]
  },
  {
   "cell_type": "code",
   "execution_count": 27,
   "metadata": {},
   "outputs": [
    {
     "name": "stdout",
     "output_type": "stream",
     "text": [
      "Enter user name:-pb2505\n",
      "Enter password:-123456\n",
      "enter account number to see details:-12346\n",
      "*********details of given account number**********\n",
      "account number->12346\n",
      "first name->peeyush\n",
      "last name->bhaduka\n",
      "mobile number->9772236778\n",
      "address->murlipura scheme,jaipur\n",
      "Available balance->0\n",
      "granted loan->0\n"
     ]
    }
   ],
   "source": [
    "mgr()"
   ]
  },
  {
   "cell_type": "code",
   "execution_count": 23,
   "metadata": {},
   "outputs": [
    {
     "data": {
      "text/plain": [
       "{'12345': {'name': 'peeyush', 'bal': 40000},\n",
       " '12346': {'fname': 'peeyush',\n",
       "  'lname': 'bhaduka',\n",
       "  'mobile': '9772236778',\n",
       "  'address': 'murlipura scheme,jaipur',\n",
       "  'dob': '2000-05-25',\n",
       "  'user': 'peeyush2505',\n",
       "  'password': 'bhaduka',\n",
       "  'bal': 0,\n",
       "  'loan': 0},\n",
       " 'mgr': {'user': 'pb2505', 'pass': '123456'}}"
      ]
     },
     "execution_count": 23,
     "metadata": {},
     "output_type": "execute_result"
    }
   ],
   "source": [
    "data\n"
   ]
  },
  {
   "cell_type": "code",
   "execution_count": 8,
   "metadata": {},
   "outputs": [
    {
     "name": "stdout",
     "output_type": "stream",
     "text": [
      "Enter Your Account Number:-12345\n",
      "Enter amount to deposite:-10\n"
     ]
    }
   ],
   "source": [
    "deposite()"
   ]
  },
  {
   "cell_type": "code",
   "execution_count": 9,
   "metadata": {},
   "outputs": [
    {
     "name": "stdout",
     "output_type": "stream",
     "text": [
      "Enter Your Account Number:-12345\n",
      "Acount number->12345\n",
      "holder's name->peeyush\n",
      "Available balance->40010\n"
     ]
    }
   ],
   "source": [
    "chk_bal()"
   ]
  },
  {
   "cell_type": "code",
   "execution_count": 12,
   "metadata": {},
   "outputs": [
    {
     "data": {
      "text/plain": [
       "{'12345': {'name': 'peeyush', 'bal': 40010},\n",
       " '12346': {'fname': 'peeyush',\n",
       "  'lname': 'bhaduka',\n",
       "  'mobile': '9772236778',\n",
       "  'address': 'murlipura scheme,jaipur',\n",
       "  'dob': '2000-05-25',\n",
       "  'user': 'peeyush2505',\n",
       "  'password': 'bhaduka',\n",
       "  'bal': 5000000,\n",
       "  'loan': 0},\n",
       " 'mgr': {'user': 'pb2505', 'pass': '123456'}}"
      ]
     },
     "execution_count": 12,
     "metadata": {},
     "output_type": "execute_result"
    }
   ],
   "source": [
    "data"
   ]
  },
  {
   "cell_type": "code",
   "execution_count": 1,
   "metadata": {},
   "outputs": [],
   "source": [
    "def loan():\n",
    "    acn=input(\"Enter Your Account Number:-\")\n",
    "    fp=open(\"G://Workspace/Python/Bank/data.db\",\"r+\")\n",
    "    data=json.load(fp)\n",
    "    fp.close()\n",
    "    if acn not in data.keys():\n",
    "        print(\"acount number not available\".center(50,\"*\"))\n",
    "        return\n",
    "    print(\"-.-.-.-.-.-.-.-.-Select your Profession-.-.-.-.-.-.-.-.-\")\n",
    "    ch=int(input(\"1.Govt. employee\\n2.Private Employee\\n3.Businessman\\n4.Student\\n5.Unemployeed\\n\"))\n",
    "    if ch==1:\n",
    "        govt(acn)\n",
    "    if ch==2:\n",
    "        pvt_emp(acn)\n",
    "    if ch==3:\n",
    "        business(acn)\n",
    "    if ch==4 or ch==5:\n",
    "        print(\"loan not granted\")\n",
    "    else:\n",
    "        print(\"invalid option\".center(50,\"*\"))"
   ]
  },
  {
   "cell_type": "code",
   "execution_count": 6,
   "metadata": {},
   "outputs": [
    {
     "name": "stdout",
     "output_type": "stream",
     "text": [
      "Enter Your Account Number:-12345\n",
      "-.-.-.-.-.-.-.-.-Select your Profession-.-.-.-.-.-.-.-.-\n",
      "1.Govt. employee\n",
      "2.Private Employee\n",
      "3.Businessman\n",
      "4.Student\n",
      "5.Unemployeed\n",
      "8\n",
      "******************invalid option******************\n"
     ]
    }
   ],
   "source": [
    "loan()"
   ]
  },
  {
   "cell_type": "code",
   "execution_count": 14,
   "metadata": {},
   "outputs": [],
   "source": [
    "def govt(acn):\n",
    "    data=get_data()\n",
    "    if data[acn]['loan']!=0:\n",
    "        print(\"Loan is already granted:- \")\n",
    "        return\n",
    "    salary=int(input(\"what is your monthly salary:- \"))\n",
    "    pay_slip=''\n",
    "    while pay_slip!='yes' and pay_slip!='no':\n",
    "        pay_slip=input(\"Do yo have pay slip(Yes/no):- \").strip().lower()\n",
    "        if pay_slip!='yes' or pay_slip!='no':\n",
    "            print(\"  please answer in Yes/No  \")\n",
    "    if pay_slip==\"no\":\n",
    "        print(\"  Loan can not be granted without pay slip \")\n",
    "        return\n",
    "    if salary<20000:\n",
    "        print(\"loan can not granted\")\n",
    "    elif salary>=20000 and salary<50000:\n",
    "        print(\"A loan of 100000 is granted\")\n",
    "        data[acn]['loan']=100000\n",
    "        data[acn]['bal']+=100000\n",
    "    elif salary>=50000 and salary<100000:\n",
    "        print(\"A loan of 300000 is granted\")\n",
    "        data[acn]['loan']=200000\n",
    "        data[acn]['bal']+=200000\n",
    "    elif salary>=100000 and salary<500000:\n",
    "        print(\"A loan of 400000 is granted\")\n",
    "        data[acn]['loan']=400000\n",
    "        data[acn]['bal']+=400000\n",
    "    elif salary>=500000:\n",
    "        print(\"A loan of 1000000 is granted\")\n",
    "        data[acn]['loan']=1000000\n",
    "        data[acn]['bal']+=1000000\n",
    "    put_data(data)"
   ]
  },
  {
   "cell_type": "code",
   "execution_count": 4,
   "metadata": {},
   "outputs": [],
   "source": [
    "def get_data():\n",
    "    fp=open(\"G://Workspace/Python/Bank/data.db\",\"r+\")\n",
    "    data=json.load(fp)\n",
    "    fp.close()\n",
    "    return data"
   ]
  },
  {
   "cell_type": "code",
   "execution_count": 5,
   "metadata": {},
   "outputs": [],
   "source": [
    "def get_data():\n",
    "    fp=open(\"G://Workspace/Python/Bank/data.db\",\"r+\")\n",
    "    data=json.load(fp)\n",
    "    fp.close()\n",
    "    return data\n",
    "def put_data(data):\n",
    "    fp=open(\"G://Workspace/Python/Bank/data.db\",\"w\")\n",
    "    json.dump(data,fp)\n",
    "    fp.close()"
   ]
  },
  {
   "cell_type": "code",
   "execution_count": 15,
   "metadata": {},
   "outputs": [
    {
     "name": "stdout",
     "output_type": "stream",
     "text": [
      "Loan is already granted:- \n"
     ]
    }
   ],
   "source": [
    "govt('12346')"
   ]
  },
  {
   "cell_type": "code",
   "execution_count": 12,
   "metadata": {},
   "outputs": [],
   "source": [
    "data=get_data()"
   ]
  },
  {
   "cell_type": "code",
   "execution_count": 13,
   "metadata": {},
   "outputs": [
    {
     "data": {
      "text/plain": [
       "{'12345': {'name': 'peeyush', 'bal': 40010},\n",
       " '12346': {'fname': 'peeyush',\n",
       "  'lname': 'bhaduka',\n",
       "  'mobile': '9772236778',\n",
       "  'address': 'murlipura scheme,jaipur',\n",
       "  'dob': '2000-05-25',\n",
       "  'user': 'peeyush2505',\n",
       "  'password': 'bhaduka',\n",
       "  'bal': 5400000,\n",
       "  'loan': 400000},\n",
       " 'mgr': {'user': 'pb2505', 'pass': '123456'}}"
      ]
     },
     "execution_count": 13,
     "metadata": {},
     "output_type": "execute_result"
    }
   ],
   "source": [
    "data"
   ]
  },
  {
   "cell_type": "code",
   "execution_count": 27,
   "metadata": {},
   "outputs": [],
   "source": [
    "def pvt_emp(acn):\n",
    "    data=get_data()\n",
    "    if data[acn]['loan']!=0:\n",
    "        print(\"Loan is already granted:- \")\n",
    "        return\n",
    "    salary=int(input(\"what is your monthly salary:- \"))\n",
    "    prop=''\n",
    "    while prop!='yes' and prop!='no':\n",
    "        prop=input(\"Loan can be granted againest property\\nAre you agree (Yes/no):- \").strip().lower()\n",
    "        if prop!='yes' and prop!='no':\n",
    "            print(\"  please answer in Yes/No  \")\n",
    "    if prop==\"no\":\n",
    "        print(\"  Loan can not be granted without property papers \")\n",
    "        return\n",
    "    if salary<50000:\n",
    "        print(\"loan can not granted\")\n",
    "    elif salary>=50000 and salary<100000:\n",
    "        print(\"A loan of 200000 is granted\")\n",
    "        data[acn]['loan']=200000\n",
    "        data[acn]['bal']+=200000\n",
    "    elif salary>=100000 and salary<300000:\n",
    "        print(\"A loan of 300000 is granted\")\n",
    "        data[acn]['loan']=300000\n",
    "        data[acn]['bal']+=300000\n",
    "    elif salary>=300000:\n",
    "        print(\"A loan of 500000 is granted\")\n",
    "        data[acn]['loan']=500000\n",
    "        data[acn]['bal']+=500000\n",
    "    put_data(data)"
   ]
  },
  {
   "cell_type": "code",
   "execution_count": 26,
   "metadata": {
    "scrolled": true
   },
   "outputs": [
    {
     "name": "stdout",
     "output_type": "stream",
     "text": [
      "what is your monthly salary:- 60000\n",
      "Loan can be granted againest property\n",
      "Are you agree (Yes/no):- yes\n",
      "A loan of 200000 is granted\n"
     ]
    }
   ],
   "source": [
    "pvt_emp('12346')"
   ]
  },
  {
   "cell_type": "code",
   "execution_count": 22,
   "metadata": {},
   "outputs": [
    {
     "data": {
      "text/plain": [
       "{'12345': {'name': 'peeyush', 'bal': 40010},\n",
       " '12346': {'fname': 'peeyush',\n",
       "  'lname': 'bhaduka',\n",
       "  'mobile': '9772236778',\n",
       "  'address': 'murlipura scheme,jaipur',\n",
       "  'dob': '2000-05-25',\n",
       "  'user': 'peeyush2505',\n",
       "  'password': 'bhaduka',\n",
       "  'bal': 900000,\n",
       "  'loan': 500000},\n",
       " 'mgr': {'user': 'pb2505', 'pass': '123456'}}"
      ]
     },
     "execution_count": 22,
     "metadata": {},
     "output_type": "execute_result"
    }
   ],
   "source": [
    "get_data()"
   ]
  },
  {
   "cell_type": "code",
   "execution_count": 28,
   "metadata": {},
   "outputs": [],
   "source": [
    "def business(acn):\n",
    "    data=get_data()\n",
    "    if data[acn]['loan']!=0:\n",
    "        print(\"Loan is already granted:- \")\n",
    "        return\n",
    "    salary=int(input(\"what is your monthly salary:- \"))\n",
    "    ITR=''\n",
    "    while ITR!='yes' and ITR!='no':\n",
    "        ITR=input(\"Do you have ITR-V(Income Tax Return Verification) (Yes/no):- \").strip().lower()\n",
    "        if ITR!='yes' and ITR!='no':\n",
    "            print(\"  please answer in Yes/No  \")\n",
    "    if ITR==\"no\":\n",
    "        print(\"  Loan can not be granted without ITR \")\n",
    "        return\n",
    "    if salary<50000:\n",
    "        print(\"loan can not granted\")\n",
    "    elif salary>=50000 and salary<100000:\n",
    "        print(\"A loan of 50000 is granted\")\n",
    "        data[acn]['loan']=50000\n",
    "        data[acn]['bal']+=50000\n",
    "    elif salary>=100000 and salary<300000:\n",
    "        print(\"A loan of 120000 is granted\")\n",
    "        data[acn]['loan']=120000\n",
    "        data[acn]['bal']+=120000\n",
    "    elif salary>=300000:\n",
    "        print(\"A loan of 500000 is granted\")\n",
    "        data[acn]['loan']=500000\n",
    "        data[acn]['bal']+=500000\n",
    "    put_data(data)"
   ]
  },
  {
   "cell_type": "code",
   "execution_count": 29,
   "metadata": {},
   "outputs": [],
   "source": [
    "data=get_data()\n",
    "data['12346']['loan']=0\n",
    "put_data(data)"
   ]
  },
  {
   "cell_type": "code",
   "execution_count": 31,
   "metadata": {},
   "outputs": [
    {
     "name": "stdout",
     "output_type": "stream",
     "text": [
      "what is your monthly salary:- 700000\n",
      "Do you have ITR-V(Income Tax Return Verification) (Yes/no):- YeS\n",
      "A loan of 500000 is granted\n"
     ]
    }
   ],
   "source": [
    "business('12346')"
   ]
  },
  {
   "cell_type": "code",
   "execution_count": 32,
   "metadata": {},
   "outputs": [
    {
     "data": {
      "text/plain": [
       "{'12345': {'name': 'peeyush', 'bal': 40010},\n",
       " '12346': {'fname': 'peeyush',\n",
       "  'lname': 'bhaduka',\n",
       "  'mobile': '9772236778',\n",
       "  'address': 'murlipura scheme,jaipur',\n",
       "  'dob': '2000-05-25',\n",
       "  'user': 'peeyush2505',\n",
       "  'password': 'bhaduka',\n",
       "  'bal': 1290000,\n",
       "  'loan': 500000},\n",
       " 'mgr': {'user': 'pb2505', 'pass': '123456'}}"
      ]
     },
     "execution_count": 32,
     "metadata": {},
     "output_type": "execute_result"
    }
   ],
   "source": [
    "get_data()"
   ]
  },
  {
   "cell_type": "code",
   "execution_count": 33,
   "metadata": {},
   "outputs": [],
   "source": [
    "def deposite():\n",
    "    acn=input(\"Enter Your Account Number:-\")\n",
    "    data=get_data()\n",
    "    if acn not in data.keys():\n",
    "        print(\"acount number not available\".center(50,\"*\"))\n",
    "        return\n",
    "    amt=int(input(\"Enter amount to deposite:-\"))\n",
    "    data[acn]['bal']+=amt\n",
    "    put_data(data)"
   ]
  },
  {
   "cell_type": "code",
   "execution_count": 34,
   "metadata": {},
   "outputs": [
    {
     "data": {
      "text/plain": [
       "{'12345': {'name': 'peeyush', 'bal': 40010},\n",
       " '12346': {'fname': 'peeyush',\n",
       "  'lname': 'bhaduka',\n",
       "  'mobile': '9772236778',\n",
       "  'address': 'murlipura scheme,jaipur',\n",
       "  'dob': '2000-05-25',\n",
       "  'user': 'peeyush2505',\n",
       "  'password': 'bhaduka',\n",
       "  'bal': 790000,\n",
       "  'loan': 0},\n",
       " 'mgr': {'user': 'pb2505', 'pass': '123456'}}"
      ]
     },
     "execution_count": 34,
     "metadata": {},
     "output_type": "execute_result"
    }
   ],
   "source": [
    "data\n"
   ]
  },
  {
   "cell_type": "code",
   "execution_count": 35,
   "metadata": {},
   "outputs": [
    {
     "data": {
      "text/plain": [
       "1000"
      ]
     },
     "execution_count": 35,
     "metadata": {},
     "output_type": "execute_result"
    }
   ],
   "source": [
    "data.setdefault('key',1000)"
   ]
  },
  {
   "cell_type": "code",
   "execution_count": 36,
   "metadata": {},
   "outputs": [],
   "source": [
    "put_data(data)"
   ]
  },
  {
   "cell_type": "code",
   "execution_count": 37,
   "metadata": {},
   "outputs": [
    {
     "data": {
      "text/plain": [
       "{'12345': {'name': 'peeyush', 'bal': 40010},\n",
       " '12346': {'fname': 'peeyush',\n",
       "  'lname': 'bhaduka',\n",
       "  'mobile': '9772236778',\n",
       "  'address': 'murlipura scheme,jaipur',\n",
       "  'dob': '2000-05-25',\n",
       "  'user': 'peeyush2505',\n",
       "  'password': 'bhaduka',\n",
       "  'bal': 790000,\n",
       "  'loan': 0},\n",
       " 'mgr': {'user': 'pb2505', 'pass': '123456'},\n",
       " 'key': 1000}"
      ]
     },
     "execution_count": 37,
     "metadata": {},
     "output_type": "execute_result"
    }
   ],
   "source": [
    "get_data()"
   ]
  },
  {
   "cell_type": "code",
   "execution_count": 43,
   "metadata": {},
   "outputs": [],
   "source": [
    "from getpass import getpass\n",
    "def new_ac():\n",
    "    fname=input(\"enter your first name:-\")\n",
    "    lname=input(\"enter your last name:-\")\n",
    "    mbn=int(input(\"enter your mobile numbre:-\"))\n",
    "    adrs=input(\"enter your permanent address:-\")\n",
    "    dob=input(\"enter your date of birth(yyyy-mm-dd):-\")\n",
    "    uname=input(\"enter your user name:-\")\n",
    "    password=getpass(\"enter your password:-\")\n",
    "    data=get_data()\n",
    "    ky=data['key']\n",
    "    data['key']+=1\n",
    "    d={}\n",
    "    d.setdefault(\"fname\",fname);d.setdefault(\"lname\",lname);d.setdefault(\"mobile\",mbn)\n",
    "    d.setdefault(\"address\",adrs);d.setdefault(\"dob\",dob);d.setdefault(\"user\",uname)\n",
    "    d.setdefault(\"password\",password)\n",
    "    d.setdefault(\"bal\",0);d.setdefault(\"loan\",0)\n",
    "    data.setdefault(str(ky+1),d)\n",
    "    put_data(data)"
   ]
  },
  {
   "cell_type": "code",
   "execution_count": 44,
   "metadata": {},
   "outputs": [
    {
     "name": "stdout",
     "output_type": "stream",
     "text": [
      "enter your first name:-kanishk\n",
      "enter your last name:-rajawat\n",
      "enter your mobile numbre:-12344\n",
      "enter your permanent address:-dafsdgfdfgdvdv\n",
      "enter your date of birth(yyyy-mm-dd):-1111-11-11\n",
      "enter your user name:-kps\n",
      "enter your password:-········\n"
     ]
    }
   ],
   "source": [
    "new_ac()"
   ]
  },
  {
   "cell_type": "code",
   "execution_count": 45,
   "metadata": {},
   "outputs": [
    {
     "data": {
      "text/plain": [
       "{'12345': {'name': 'peeyush', 'bal': 40010},\n",
       " '12346': {'fname': 'peeyush',\n",
       "  'lname': 'bhaduka',\n",
       "  'mobile': '9772236778',\n",
       "  'address': 'murlipura scheme,jaipur',\n",
       "  'dob': '2000-05-25',\n",
       "  'user': 'peeyush2505',\n",
       "  'password': 'bhaduka',\n",
       "  'bal': 790000,\n",
       "  'loan': 0},\n",
       " 'mgr': {'user': 'pb2505', 'pass': '123456'},\n",
       " 'key': 1003,\n",
       " '1001': {'fname': 'ishank',\n",
       "  'lname': 'gupta',\n",
       "  'mobile': 1234321,\n",
       "  'address': 'djiusfuguf',\n",
       "  'dob': '1234-11-21',\n",
       "  'user': 'ally',\n",
       "  'password': 'qwer',\n",
       "  'bal': 0,\n",
       "  'loan': 0},\n",
       " '1002': {'fname': 'lokendra',\n",
       "  'lname': 'singh',\n",
       "  'mobile': 123455667,\n",
       "  'address': 'sdcsfdg',\n",
       "  'dob': '1234-09-22',\n",
       "  'user': 'loky',\n",
       "  'password': 'asdf',\n",
       "  'bal': 0,\n",
       "  'loan': 0},\n",
       " '1003': {'fname': 'kanishk',\n",
       "  'lname': 'rajawat',\n",
       "  'mobile': 12344,\n",
       "  'address': 'dafsdgfdfgdvdv',\n",
       "  'dob': '1111-11-11',\n",
       "  'user': 'kps',\n",
       "  'password': 'qwert',\n",
       "  'bal': 0,\n",
       "  'loan': 0}}"
      ]
     },
     "execution_count": 45,
     "metadata": {},
     "output_type": "execute_result"
    }
   ],
   "source": [
    "get_data()"
   ]
  },
  {
   "cell_type": "code",
   "execution_count": 50,
   "metadata": {},
   "outputs": [],
   "source": [
    "def withdrawl():\n",
    "    acn=input(\"Enter Your Account Number:-\")\n",
    "    data=get_data()\n",
    "    if acn not in data.keys():\n",
    "        print(\"acount number not available\".center(50,\"*\"))\n",
    "        return\n",
    "    usr_nm=input(\"Enter user name:-\")\n",
    "    paswd=getpass(\"Enter password:-\")\n",
    "    data=get_data()\n",
    "    if usr_nm!=data[acn]['user'] or paswd!=data[acn]['password']:\n",
    "        print(\"username or password incorrect\".center(50,\"*\"))\n",
    "        return\n",
    "    amt=int(input(\"Enter amount to withdraw:-\"))\n",
    "    if amt>data[acn]['bal']:\n",
    "        print(\"insufficiant balance\".center(50,\"*\"))\n",
    "        return\n",
    "    data[acn]['bal']-=amt\n",
    "    print(\"transation successful\".center(50,\"*\"))\n",
    "    put_data(data)"
   ]
  },
  {
   "cell_type": "code",
   "execution_count": 51,
   "metadata": {},
   "outputs": [
    {
     "name": "stdout",
     "output_type": "stream",
     "text": [
      "Enter Your Account Number:-12346\n",
      "Enter user name:-peeyush2505\n",
      "Enter password:-········\n",
      "Enter amount to withdraw:-45\n",
      "**************transation successful***************\n"
     ]
    }
   ],
   "source": [
    "withdrawl()"
   ]
  },
  {
   "cell_type": "code",
   "execution_count": 52,
   "metadata": {},
   "outputs": [
    {
     "ename": "NameError",
     "evalue": "name 'chk_bal' is not defined",
     "output_type": "error",
     "traceback": [
      "\u001b[1;31m---------------------------------------------------------------------------\u001b[0m",
      "\u001b[1;31mNameError\u001b[0m                                 Traceback (most recent call last)",
      "\u001b[1;32m<ipython-input-52-87106aab7c31>\u001b[0m in \u001b[0;36m<module>\u001b[1;34m\u001b[0m\n\u001b[1;32m----> 1\u001b[1;33m \u001b[0mchk_bal\u001b[0m\u001b[1;33m(\u001b[0m\u001b[1;33m)\u001b[0m\u001b[1;33m\u001b[0m\u001b[1;33m\u001b[0m\u001b[0m\n\u001b[0m",
      "\u001b[1;31mNameError\u001b[0m: name 'chk_bal' is not defined"
     ]
    }
   ],
   "source": [
    "chk_bal()"
   ]
  },
  {
   "cell_type": "code",
   "execution_count": 56,
   "metadata": {},
   "outputs": [],
   "source": [
    "from time import sleep\n",
    "def load():\n",
    "    print(\"Loading\",end='')\n",
    "    for var in range(6):\n",
    "        sleep(0.4)\n",
    "        print('.',end='')"
   ]
  },
  {
   "cell_type": "code",
   "execution_count": 58,
   "metadata": {},
   "outputs": [
    {
     "name": "stdout",
     "output_type": "stream",
     "text": [
      "Loading......"
     ]
    }
   ],
   "source": [
    "load()"
   ]
  },
  {
   "cell_type": "code",
   "execution_count": 66,
   "metadata": {},
   "outputs": [],
   "source": [
    "def dec(str):\n",
    "    print(\"-.\"*(100).center(200))\n",
    "    print(\"*\"*(50).center(200))\n",
    "    print(\"*\"+str+\"*\".center(200))\n",
    "    print(\"*\"*(50).center(200))\n",
    "    print(\"-.\"*(100).center(200))"
   ]
  },
  {
   "cell_type": "code",
   "execution_count": 67,
   "metadata": {},
   "outputs": [
    {
     "ename": "AttributeError",
     "evalue": "'int' object has no attribute 'center'",
     "output_type": "error",
     "traceback": [
      "\u001b[1;31m---------------------------------------------------------------------------\u001b[0m",
      "\u001b[1;31mAttributeError\u001b[0m                            Traceback (most recent call last)",
      "\u001b[1;32m<ipython-input-67-c1dcba5fe172>\u001b[0m in \u001b[0;36m<module>\u001b[1;34m\u001b[0m\n\u001b[1;32m----> 1\u001b[1;33m \u001b[0mdec\u001b[0m\u001b[1;33m(\u001b[0m\u001b[1;34m\"HELLO\"\u001b[0m\u001b[1;33m)\u001b[0m\u001b[1;33m\u001b[0m\u001b[1;33m\u001b[0m\u001b[0m\n\u001b[0m",
      "\u001b[1;32m<ipython-input-66-c86455eb78ff>\u001b[0m in \u001b[0;36mdec\u001b[1;34m(str)\u001b[0m\n\u001b[0;32m      1\u001b[0m \u001b[1;32mdef\u001b[0m \u001b[0mdec\u001b[0m\u001b[1;33m(\u001b[0m\u001b[0mstr\u001b[0m\u001b[1;33m)\u001b[0m\u001b[1;33m:\u001b[0m\u001b[1;33m\u001b[0m\u001b[1;33m\u001b[0m\u001b[0m\n\u001b[1;32m----> 2\u001b[1;33m     \u001b[0mprint\u001b[0m\u001b[1;33m(\u001b[0m\u001b[1;34m\"-.\"\u001b[0m\u001b[1;33m*\u001b[0m\u001b[1;33m(\u001b[0m\u001b[1;36m100\u001b[0m\u001b[1;33m)\u001b[0m\u001b[1;33m.\u001b[0m\u001b[0mcenter\u001b[0m\u001b[1;33m(\u001b[0m\u001b[1;36m200\u001b[0m\u001b[1;33m)\u001b[0m\u001b[1;33m)\u001b[0m\u001b[1;33m\u001b[0m\u001b[1;33m\u001b[0m\u001b[0m\n\u001b[0m\u001b[0;32m      3\u001b[0m     \u001b[0mprint\u001b[0m\u001b[1;33m(\u001b[0m\u001b[1;34m\"*\"\u001b[0m\u001b[1;33m*\u001b[0m\u001b[1;33m(\u001b[0m\u001b[1;36m50\u001b[0m\u001b[1;33m)\u001b[0m\u001b[1;33m.\u001b[0m\u001b[0mcenter\u001b[0m\u001b[1;33m(\u001b[0m\u001b[1;36m200\u001b[0m\u001b[1;33m)\u001b[0m\u001b[1;33m)\u001b[0m\u001b[1;33m\u001b[0m\u001b[1;33m\u001b[0m\u001b[0m\n\u001b[0;32m      4\u001b[0m     \u001b[0mprint\u001b[0m\u001b[1;33m(\u001b[0m\u001b[1;34m\"*\"\u001b[0m\u001b[1;33m+\u001b[0m\u001b[0mstr\u001b[0m\u001b[1;33m+\u001b[0m\u001b[1;34m\"*\"\u001b[0m\u001b[1;33m.\u001b[0m\u001b[0mcenter\u001b[0m\u001b[1;33m(\u001b[0m\u001b[1;36m200\u001b[0m\u001b[1;33m)\u001b[0m\u001b[1;33m)\u001b[0m\u001b[1;33m\u001b[0m\u001b[1;33m\u001b[0m\u001b[0m\n\u001b[0;32m      5\u001b[0m     \u001b[0mprint\u001b[0m\u001b[1;33m(\u001b[0m\u001b[1;34m\"*\"\u001b[0m\u001b[1;33m*\u001b[0m\u001b[1;33m(\u001b[0m\u001b[1;36m50\u001b[0m\u001b[1;33m)\u001b[0m\u001b[1;33m.\u001b[0m\u001b[0mcenter\u001b[0m\u001b[1;33m(\u001b[0m\u001b[1;36m200\u001b[0m\u001b[1;33m)\u001b[0m\u001b[1;33m)\u001b[0m\u001b[1;33m\u001b[0m\u001b[1;33m\u001b[0m\u001b[0m\n",
      "\u001b[1;31mAttributeError\u001b[0m: 'int' object has no attribute 'center'"
     ]
    }
   ],
   "source": [
    "dec(\"HELLO\")"
   ]
  },
  {
   "cell_type": "code",
   "execution_count": 1,
   "metadata": {},
   "outputs": [],
   "source": [
    "def dec1():\n",
    "    print((\"*\"*40).center(120))\n",
    "    print(\"-ABCD Bank-\")\n",
    "    print((\"*\"*40).center(120))"
   ]
  },
  {
   "cell_type": "code",
   "execution_count": 2,
   "metadata": {},
   "outputs": [],
   "source": [
    "def dec1():\n",
    "    print((\"*\"*40).center(120))\n",
    "    print(\"-ABCD Bank-\")\n",
    "    print((\"*\"*40).center(120))\n",
    "\n",
    "def dec():\n",
    "    print((\"-.\"*240))"
   ]
  },
  {
   "cell_type": "code",
   "execution_count": 1,
   "metadata": {},
   "outputs": [],
   "source": [
    "import json\n",
    "from time import sleep\n",
    "import os\n",
    "from getpass import getpass\n",
    "\n",
    "def dec1():\n",
    "    print((\"*\"*40).center(120))\n",
    "    print(\"-ABCD Bank-\".center(120))\n",
    "    print((\"*\"*40).center(120))\n",
    "    print(\"\\n\")\n",
    "\n",
    "def dec():\n",
    "    print(\"\\n\\n\\n\")\n",
    "    print((\"-.\"*240))\n",
    "\n",
    "def clear():\n",
    "    os.system(\"cls\")\n",
    "    dec()\n",
    "    dec1()\n",
    "\n",
    "\n",
    "def get_data():\n",
    "    fp=open(\"G://Workspace/Python/Bank/data.db\",\"r+\")\n",
    "    data=json.load(fp)\n",
    "    fp.close()\n",
    "    return data\n",
    "\n",
    "def put_data(data):\n",
    "    fp=open(\"G://Workspace/Python/Bank/data.db\",\"w\")\n",
    "    json.dump(data,fp)\n",
    "    fp.close()\n",
    "\n",
    "def load():\n",
    "    print(\"Loading\",end='')\n",
    "    for var in range(6):\n",
    "        sleep(0.4)\n",
    "        print('.',end='')\n",
    "\n",
    "\n",
    "def banking():\n",
    "    clear()\n",
    "    print(\"\\n\\n-.-.-.-.-.-.-.-.-chose an option-.-.-.-.-.-.-.-.-\".center(120))\n",
    "    ch=int(input(\"\\n1.Deposite\\n2.Withdrawal\\n3.Check Balance\\n4.New a/c Open\\n5.Edit information\\n6.Manager Login\\n\"))\n",
    "    if ch==1:\n",
    "        load()\n",
    "        deposite()\n",
    "    elif ch==2:\n",
    "        load()\n",
    "        withdrawal()\n",
    "    elif ch==3:\n",
    "        load()\n",
    "        chk_bal()\n",
    "    elif ch==4:\n",
    "        load()\n",
    "        new_ac()\n",
    "    elif ch==5:\n",
    "        load()\n",
    "        edit_info()\n",
    "    elif ch==6:\n",
    "        load()\n",
    "        mgr()\n",
    "    else:\n",
    "        load()\n",
    "        clear()\n",
    "        print(\"\\n\\ninvalid option  Try Again\".center(50,\"*\"))\n",
    "\n",
    "def deposite():\n",
    "    clear()\n",
    "    acn=input(\"\\nEnter Your Account Number:-\")\n",
    "    data=get_data()\n",
    "    if acn not in data.keys():\n",
    "        print(\"acount number not available try again\".center(50,\"*\"))\n",
    "        load()\n",
    "        deposite()\n",
    "    amt=int(input(\"Enter amount to deposite:-\"))\n",
    "    data[acn]['bal']+=amt\n",
    "    put_data(data)\n",
    "    clear()\n",
    "    print(\"\\n\\n\")\n",
    "    print(\"Transaction successful\".center(120,\"*\"))\n",
    "    dec()\n",
    "\n",
    "def withdrawal():\n",
    "    clear()\n",
    "    acn=input(\"\\nEnter Your Account Number:-\")\n",
    "    data=get_data()\n",
    "    if acn not in data.keys():\n",
    "        print(\"\\nacount number not available please try again\".center(120,\"*\"))\n",
    "        load()\n",
    "        withdrawal()\n",
    "    usr_nm=input(\"Enter user name:-\")\n",
    "    paswd=getpass(\"Enter password:-\")\n",
    "    data=get_data()\n",
    "    if usr_nm!=data[acn]['user'] or paswd!=data[acn]['password']:\n",
    "        clear()\n",
    "        print(\"Transaction Failed\".center(120,\"*\"))\n",
    "        print(\"username or password incorrect\".center(120,\"*\"))\n",
    "        dec()\n",
    "        return\n",
    "    amt=int(input(\"Enter amount to withdraw:-\"))\n",
    "    if amt>data[acn]['bal']:\n",
    "        load()\n",
    "        clear()\n",
    "        print(\"insufficiant balance\".center(120,\"*\"))\n",
    "        dec()\n",
    "        load()\n",
    "        return\n",
    "    data[acn]['bal']-=amt\n",
    "    load()\n",
    "    put_data(data)\n",
    "    clear()\n",
    "    print(\"transation successful\".center(120,\"*\"))\n",
    "    dec()\n",
    "\n",
    "def chk_bal():\n",
    "    clear()\n",
    "    acn=input(\"Enter Your Account Number:-\")\n",
    "    data=get_data()\n",
    "    if acn not in data.keys():\n",
    "        print(\"acount number not available please try again\".center(120,\"*\"))\n",
    "        load()\n",
    "        chk_bal()\n",
    "    clear()\n",
    "    print(f\"Acount number->{acn}\\nholder\\'s name->{data[acn]['fname']}\\nAvailable balance->{data[acn]['bal']}\")\n",
    "    dec()\n",
    "\n",
    "def new_ac():\n",
    "    clear()\n",
    "    fname=input(\"enter your first name:-\")\n",
    "    lname=input(\"enter your last name:-\")\n",
    "    mbn=int(input(\"enter your mobile numbre:-\"))\n",
    "    adrs=input(\"enter your permanent address:-\")\n",
    "    dob=input(\"enter your date of birth(yyyy-mm-dd):-\")\n",
    "    uname=input(\"enter your user name:-\")\n",
    "    password=getpass(\"enter your password:-\")\n",
    "    data=get_data()\n",
    "    ky=data['key']\n",
    "    data['key']+=1\n",
    "    d={}\n",
    "    d.setdefault(\"fname\",fname);d.setdefault(\"lname\",lname);d.setdefault(\"mobile\",mbn)\n",
    "    d.setdefault(\"address\",adrs);d.setdefault(\"dob\",dob);d.setdefault(\"user\",uname)\n",
    "    d.setdefault(\"password\",password)\n",
    "    d.setdefault(\"bal\",0);d.setdefault(\"loan\",0)\n",
    "    data.setdefault(str(ky),d)\n",
    "    put_data(data)\n",
    "    clear()\n",
    "    load()\n",
    "    clear()\n",
    "    print(\"New account created\".center(120,\"*\"))\n",
    "    dec()\n",
    "\n",
    "def edit_info():\n",
    "    clear()\n",
    "    acn=input(\"Enter Your Account Number:-\")\n",
    "    data=get_data()\n",
    "    if acn not in data.keys():\n",
    "        clear()\n",
    "        print(\"acount number not available please try again\".center(120,\"*\"))\n",
    "        load()\n",
    "        edit_info()\n",
    "    print(\"-.-.-.-.-.-.-.-.-What you want to edit-.-.-.-.-.-.-.-.-\")\n",
    "    ch=int(input(\"1.fname\\n2.lname\\n3.mobilenumber\\n4.password\\n5.address\\n\"))\n",
    "    clear()\n",
    "    if ch==1:\n",
    "        x=input(\"enter new first name:-\")\n",
    "        data[acn]['fname']=x\n",
    "    elif ch==2:\n",
    "        x=input(\"enter new last name:-\")\n",
    "        data[acn]['lname']=x\n",
    "    elif ch==3:\n",
    "        x=input(\"enter new mobile number:-\")\n",
    "        data[acn]['mobile']=x\n",
    "    elif ch==4:\n",
    "        x=input(\"enter new password:-\")\n",
    "        data[acn]['password']=x\n",
    "    elif ch==5:\n",
    "        x=input(\"enter new address:-\")\n",
    "        data[acn]['address']=x\n",
    "    else:\n",
    "        print(\"invalid option\".center(120,\"*\"))\n",
    "    put_data(data)\n",
    "    clear()\n",
    "    laod()\n",
    "    clear()\n",
    "    print(\"Change Successful\".center(120,\"*\"))\n",
    "    dec()\n",
    "\n",
    "def mgr():\n",
    "    clear()\n",
    "    usr_nm=input(\"Enter user name:-\")\n",
    "    paswd=getpass(\"Enter password:-\")\n",
    "    data=get_data()\n",
    "    if usr_nm!=data['mgr']['user'] or paswd!=data['mgr']['pass']:\n",
    "        clear()\n",
    "        print(\"Transaction Failed\".center(120,\"*\"))\n",
    "        print(\"username or password incorrect\".center(120,\"*\"))\n",
    "        load()\n",
    "        return\n",
    "    acn=input(\"enter account number to see details:-\")\n",
    "    while acn not in data.keys():\n",
    "        acn=input(\"enter account number to see details:-\")\n",
    "        clear()\n",
    "        print(\"acount number not available please try again\".center(120,\"*\"))\n",
    "    clear()\n",
    "    load()\n",
    "    clear()\n",
    "    print(\"details of given account number\".center(50,\"*\"))\n",
    "    print(f\"account number->{acn}\\nfirst name->{data[acn]['fname']}\\nlast name->{data[acn]['lname']}\\nmobile number->{data[acn]['mobile']}\")\n",
    "    print(f\"address->{data[acn]['address']}\\nAvailable balance->{data[acn]['bal']}\\ngranted loan->{data[acn]['loan']}\")\n",
    "    dec()\n",
    "\n",
    "\n",
    "def loan():\n",
    "    clear()\n",
    "    acn=input(\"Enter Your Account Number:-\")\n",
    "    data=get_data()\n",
    "    if acn not in data.keys():\n",
    "        clear()\n",
    "        print(\"acount number not available please try again\".center(120,\"*\"))\n",
    "        load()\n",
    "        loan()\n",
    "    clear()\n",
    "    print(\"-.-.-.-.-.-.-.-.-Select your Profession-.-.-.-.-.-.-.-.-\")\n",
    "    ch=int(input(\"1.Govt. employee\\n2.Private Employee\\n3.Businessman\\n4.Student\\n5.Unemployeed\\n\"))\n",
    "    if ch==1:\n",
    "        load()\n",
    "        govt(acn)\n",
    "    if ch==2:\n",
    "        load()\n",
    "        pvt_emp(acn)\n",
    "    if ch==3:\n",
    "        load()\n",
    "        business(acn)\n",
    "    if ch==4 or ch==5:\n",
    "        loan()\n",
    "        print(\"loan not granted\")\n",
    "    else:\n",
    "        clear()\n",
    "        print(\"invalid option\".center(120,\"*\"))\n",
    "        dec()\n",
    "\n",
    "\n",
    "def govt(acn):\n",
    "    clear()\n",
    "    data=get_data()\n",
    "    if data[acn]['loan']!=0:\n",
    "        load()\n",
    "        clear()\n",
    "        print(\"Loan is already granted:- \".center(120,\"*\"))\n",
    "        return\n",
    "    clear()\n",
    "    salary=int(input(\"what is your monthly salary:- \"))\n",
    "    pay_slip=''\n",
    "    while pay_slip!='yes' and pay_slip!='no':\n",
    "        clear()\n",
    "        pay_slip=input(\"Do yo have pay slip(Yes/no):- \").strip().lower()\n",
    "        if pay_slip!='yes' or pay_slip!='no':\n",
    "            print(\"  please answer in Yes/No  \")\n",
    "        load()\n",
    "    load()\n",
    "    clear()\n",
    "    if pay_slip==\"no\":\n",
    "        load()\n",
    "        clear()\n",
    "        print(\"  Loan can not be granted without pay slip \")\n",
    "        dec()\n",
    "        return\n",
    "    if salary<20000:\n",
    "        load()\n",
    "        clear()\n",
    "        print(\"loan can not granted\")\n",
    "        dec()\n",
    "    elif salary>=20000 and salary<50000:\n",
    "        print(\"A loan of 100000 is granted\")\n",
    "        data[acn]['loan']=100000\n",
    "        data[acn]['bal']+=100000\n",
    "    elif salary>=50000 and salary<100000:\n",
    "        print(\"A loan of 300000 is granted\")\n",
    "        data[acn]['loan']=200000\n",
    "        data[acn]['bal']+=200000\n",
    "    elif salary>=100000 and salary<500000:\n",
    "        print(\"A loan of 400000 is granted\")\n",
    "        data[acn]['loan']=400000\n",
    "        data[acn]['bal']+=400000\n",
    "    elif salary>=500000:\n",
    "        print(\"A loan of 1000000 is granted\")\n",
    "        data[acn]['loan']=1000000\n",
    "        data[acn]['bal']+=1000000\n",
    "    dec()\n",
    "    put_data(data)\n",
    "\n",
    "\n",
    "def pvt_emp(acn):\n",
    "    clear()\n",
    "    data=get_data()\n",
    "    if data[acn]['loan']!=0:\n",
    "        load()\n",
    "        clear()\n",
    "        print(\"Loan is already granted:- \")\n",
    "        dec()\n",
    "        return\n",
    "    salary=int(input(\"what is your monthly salary:- \"))\n",
    "    prop=''\n",
    "    while prop!='yes' and prop!='no':\n",
    "        clear()\n",
    "        prop=input(\"Loan can be granted againest property\\nAre you agree (Yes/no):- \").strip().lower()\n",
    "        if prop!='yes' and prop!='no':\n",
    "            print(\"  please answer in Yes/No  \")\n",
    "    if prop==\"no\":\n",
    "        load()\n",
    "        clear()\n",
    "        print(\"  Loan can not be granted without property papers \")\n",
    "        dec()\n",
    "        return\n",
    "    load()\n",
    "    clear()\n",
    "    if salary<50000:\n",
    "        print(\"loan can not granted\")\n",
    "    elif salary>=50000 and salary<100000:\n",
    "        print(\"A loan of 200000 is granted\")\n",
    "        data[acn]['loan']=200000\n",
    "        data[acn]['bal']+=200000\n",
    "    elif salary>=100000 and salary<300000:\n",
    "        print(\"A loan of 300000 is granted\")\n",
    "        data[acn]['loan']=300000\n",
    "        data[acn]['bal']+=300000\n",
    "    elif salary>=300000:\n",
    "        print(\"A loan of 500000 is granted\")\n",
    "        data[acn]['loan']=500000\n",
    "        data[acn]['bal']+=500000\n",
    "    dec()\n",
    "    put_data(data)\n",
    "\n",
    "\n",
    "def business(acn):\n",
    "    clear()\n",
    "    data=get_data()\n",
    "    if data[acn]['loan']!=0:\n",
    "        load()\n",
    "        clear()\n",
    "        print(\"Loan is already granted:- \")\n",
    "        dec()\n",
    "        return\n",
    "    salary=int(input(\"what is your monthly salary:- \"))\n",
    "    ITR=''\n",
    "    while ITR!='yes' and ITR!='no':\n",
    "        ITR=input(\"Do you have ITR-V(Income Tax Return Verification) (Yes/no):- \").strip().lower()\n",
    "        if ITR!='yes' and ITR!='no':\n",
    "            clear()\n",
    "            print(\"  please answer in Yes/No  \")\n",
    "    if ITR==\"no\":\n",
    "        load()\n",
    "        clear()\n",
    "        print(\"  Loan can not be granted without ITR \")\n",
    "        dec()\n",
    "        return\n",
    "    clear()\n",
    "    if salary<50000:\n",
    "        print(\"loan can not granted\")\n",
    "    elif salary>=50000 and salary<100000:\n",
    "        print(\"A loan of 50000 is granted\")\n",
    "        data[acn]['loan']=50000\n",
    "        data[acn]['bal']+=50000\n",
    "    elif salary>=100000 and salary<300000:\n",
    "        print(\"A loan of 120000 is granted\")\n",
    "        data[acn]['loan']=120000\n",
    "        data[acn]['bal']+=120000\n",
    "    elif salary>=300000:\n",
    "        print(\"A loan of 500000 is granted\")\n",
    "        data[acn]['loan']=500000\n",
    "        data[acn]['bal']+=500000\n",
    "    dec()\n",
    "    put_data(data)\n"
   ]
  },
  {
   "cell_type": "code",
   "execution_count": 2,
   "metadata": {},
   "outputs": [],
   "source": [
    "data=get_data()"
   ]
  },
  {
   "cell_type": "code",
   "execution_count": 10,
   "metadata": {},
   "outputs": [],
   "source": [
    "data['12346'][loan]=0"
   ]
  },
  {
   "cell_type": "code",
   "execution_count": 12,
   "metadata": {},
   "outputs": [
    {
     "ename": "TypeError",
     "evalue": "keys must be str, int, float, bool or None, not function",
     "output_type": "error",
     "traceback": [
      "\u001b[1;31m---------------------------------------------------------------------------\u001b[0m",
      "\u001b[1;31mTypeError\u001b[0m                                 Traceback (most recent call last)",
      "\u001b[1;32m<ipython-input-12-f50af3c70b07>\u001b[0m in \u001b[0;36m<module>\u001b[1;34m\u001b[0m\n\u001b[0;32m      1\u001b[0m \u001b[0mfp\u001b[0m\u001b[1;33m=\u001b[0m\u001b[0mopen\u001b[0m\u001b[1;33m(\u001b[0m\u001b[1;34m\"G://Workspace/Python/Bank/data.db\"\u001b[0m\u001b[1;33m,\u001b[0m\u001b[1;34m\"w\"\u001b[0m\u001b[1;33m)\u001b[0m\u001b[1;33m\u001b[0m\u001b[1;33m\u001b[0m\u001b[0m\n\u001b[1;32m----> 2\u001b[1;33m \u001b[0mjson\u001b[0m\u001b[1;33m.\u001b[0m\u001b[0mdump\u001b[0m\u001b[1;33m(\u001b[0m\u001b[0mdata\u001b[0m\u001b[1;33m,\u001b[0m\u001b[0mfp\u001b[0m\u001b[1;33m)\u001b[0m\u001b[1;33m\u001b[0m\u001b[1;33m\u001b[0m\u001b[0m\n\u001b[0m\u001b[0;32m      3\u001b[0m \u001b[0mfp\u001b[0m\u001b[1;33m.\u001b[0m\u001b[0mclose\u001b[0m\u001b[1;33m(\u001b[0m\u001b[1;33m)\u001b[0m\u001b[1;33m\u001b[0m\u001b[1;33m\u001b[0m\u001b[0m\n",
      "\u001b[1;32mC:\\ProgramData\\Anaconda3\\lib\\json\\__init__.py\u001b[0m in \u001b[0;36mdump\u001b[1;34m(obj, fp, skipkeys, ensure_ascii, check_circular, allow_nan, cls, indent, separators, default, sort_keys, **kw)\u001b[0m\n\u001b[0;32m    177\u001b[0m     \u001b[1;31m# could accelerate with writelines in some versions of Python, at\u001b[0m\u001b[1;33m\u001b[0m\u001b[1;33m\u001b[0m\u001b[1;33m\u001b[0m\u001b[0m\n\u001b[0;32m    178\u001b[0m     \u001b[1;31m# a debuggability cost\u001b[0m\u001b[1;33m\u001b[0m\u001b[1;33m\u001b[0m\u001b[1;33m\u001b[0m\u001b[0m\n\u001b[1;32m--> 179\u001b[1;33m     \u001b[1;32mfor\u001b[0m \u001b[0mchunk\u001b[0m \u001b[1;32min\u001b[0m \u001b[0miterable\u001b[0m\u001b[1;33m:\u001b[0m\u001b[1;33m\u001b[0m\u001b[1;33m\u001b[0m\u001b[0m\n\u001b[0m\u001b[0;32m    180\u001b[0m         \u001b[0mfp\u001b[0m\u001b[1;33m.\u001b[0m\u001b[0mwrite\u001b[0m\u001b[1;33m(\u001b[0m\u001b[0mchunk\u001b[0m\u001b[1;33m)\u001b[0m\u001b[1;33m\u001b[0m\u001b[1;33m\u001b[0m\u001b[0m\n\u001b[0;32m    181\u001b[0m \u001b[1;33m\u001b[0m\u001b[0m\n",
      "\u001b[1;32mC:\\ProgramData\\Anaconda3\\lib\\json\\encoder.py\u001b[0m in \u001b[0;36m_iterencode\u001b[1;34m(o, _current_indent_level)\u001b[0m\n\u001b[0;32m    429\u001b[0m             \u001b[1;32myield\u001b[0m \u001b[1;32mfrom\u001b[0m \u001b[0m_iterencode_list\u001b[0m\u001b[1;33m(\u001b[0m\u001b[0mo\u001b[0m\u001b[1;33m,\u001b[0m \u001b[0m_current_indent_level\u001b[0m\u001b[1;33m)\u001b[0m\u001b[1;33m\u001b[0m\u001b[1;33m\u001b[0m\u001b[0m\n\u001b[0;32m    430\u001b[0m         \u001b[1;32melif\u001b[0m \u001b[0misinstance\u001b[0m\u001b[1;33m(\u001b[0m\u001b[0mo\u001b[0m\u001b[1;33m,\u001b[0m \u001b[0mdict\u001b[0m\u001b[1;33m)\u001b[0m\u001b[1;33m:\u001b[0m\u001b[1;33m\u001b[0m\u001b[1;33m\u001b[0m\u001b[0m\n\u001b[1;32m--> 431\u001b[1;33m             \u001b[1;32myield\u001b[0m \u001b[1;32mfrom\u001b[0m \u001b[0m_iterencode_dict\u001b[0m\u001b[1;33m(\u001b[0m\u001b[0mo\u001b[0m\u001b[1;33m,\u001b[0m \u001b[0m_current_indent_level\u001b[0m\u001b[1;33m)\u001b[0m\u001b[1;33m\u001b[0m\u001b[1;33m\u001b[0m\u001b[0m\n\u001b[0m\u001b[0;32m    432\u001b[0m         \u001b[1;32melse\u001b[0m\u001b[1;33m:\u001b[0m\u001b[1;33m\u001b[0m\u001b[1;33m\u001b[0m\u001b[0m\n\u001b[0;32m    433\u001b[0m             \u001b[1;32mif\u001b[0m \u001b[0mmarkers\u001b[0m \u001b[1;32mis\u001b[0m \u001b[1;32mnot\u001b[0m \u001b[1;32mNone\u001b[0m\u001b[1;33m:\u001b[0m\u001b[1;33m\u001b[0m\u001b[1;33m\u001b[0m\u001b[0m\n",
      "\u001b[1;32mC:\\ProgramData\\Anaconda3\\lib\\json\\encoder.py\u001b[0m in \u001b[0;36m_iterencode_dict\u001b[1;34m(dct, _current_indent_level)\u001b[0m\n\u001b[0;32m    403\u001b[0m                 \u001b[1;32melse\u001b[0m\u001b[1;33m:\u001b[0m\u001b[1;33m\u001b[0m\u001b[1;33m\u001b[0m\u001b[0m\n\u001b[0;32m    404\u001b[0m                     \u001b[0mchunks\u001b[0m \u001b[1;33m=\u001b[0m \u001b[0m_iterencode\u001b[0m\u001b[1;33m(\u001b[0m\u001b[0mvalue\u001b[0m\u001b[1;33m,\u001b[0m \u001b[0m_current_indent_level\u001b[0m\u001b[1;33m)\u001b[0m\u001b[1;33m\u001b[0m\u001b[1;33m\u001b[0m\u001b[0m\n\u001b[1;32m--> 405\u001b[1;33m                 \u001b[1;32myield\u001b[0m \u001b[1;32mfrom\u001b[0m \u001b[0mchunks\u001b[0m\u001b[1;33m\u001b[0m\u001b[1;33m\u001b[0m\u001b[0m\n\u001b[0m\u001b[0;32m    406\u001b[0m         \u001b[1;32mif\u001b[0m \u001b[0mnewline_indent\u001b[0m \u001b[1;32mis\u001b[0m \u001b[1;32mnot\u001b[0m \u001b[1;32mNone\u001b[0m\u001b[1;33m:\u001b[0m\u001b[1;33m\u001b[0m\u001b[1;33m\u001b[0m\u001b[0m\n\u001b[0;32m    407\u001b[0m             \u001b[0m_current_indent_level\u001b[0m \u001b[1;33m-=\u001b[0m \u001b[1;36m1\u001b[0m\u001b[1;33m\u001b[0m\u001b[1;33m\u001b[0m\u001b[0m\n",
      "\u001b[1;32mC:\\ProgramData\\Anaconda3\\lib\\json\\encoder.py\u001b[0m in \u001b[0;36m_iterencode_dict\u001b[1;34m(dct, _current_indent_level)\u001b[0m\n\u001b[0;32m    374\u001b[0m                 \u001b[1;32mcontinue\u001b[0m\u001b[1;33m\u001b[0m\u001b[1;33m\u001b[0m\u001b[0m\n\u001b[0;32m    375\u001b[0m             \u001b[1;32melse\u001b[0m\u001b[1;33m:\u001b[0m\u001b[1;33m\u001b[0m\u001b[1;33m\u001b[0m\u001b[0m\n\u001b[1;32m--> 376\u001b[1;33m                 raise TypeError(f'keys must be str, int, float, bool or None, '\n\u001b[0m\u001b[0;32m    377\u001b[0m                                 f'not {key.__class__.__name__}')\n\u001b[0;32m    378\u001b[0m             \u001b[1;32mif\u001b[0m \u001b[0mfirst\u001b[0m\u001b[1;33m:\u001b[0m\u001b[1;33m\u001b[0m\u001b[1;33m\u001b[0m\u001b[0m\n",
      "\u001b[1;31mTypeError\u001b[0m: keys must be str, int, float, bool or None, not function"
     ]
    }
   ],
   "source": [
    "fp=open(\"G://Workspace/Python/Bank/data.db\",\"w\")\n",
    "json.dump(data,fp)\n",
    "fp.close()"
   ]
  },
  {
   "cell_type": "code",
   "execution_count": 16,
   "metadata": {},
   "outputs": [],
   "source": [
    "data={}"
   ]
  },
  {
   "cell_type": "code",
   "execution_count": 17,
   "metadata": {},
   "outputs": [
    {
     "data": {
      "text/plain": [
       "1000"
      ]
     },
     "execution_count": 17,
     "metadata": {},
     "output_type": "execute_result"
    }
   ],
   "source": [
    "data.setdefault(\"key\",1000)"
   ]
  },
  {
   "cell_type": "code",
   "execution_count": 18,
   "metadata": {},
   "outputs": [
    {
     "data": {
      "text/plain": [
       "{'user': 'pb2505', 'pass': 'bhaduka'}"
      ]
     },
     "execution_count": 18,
     "metadata": {},
     "output_type": "execute_result"
    }
   ],
   "source": [
    "data.setdefault(\"mgr\",{\"user\":\"pb2505\",\"pass\":\"bhaduka\"})"
   ]
  },
  {
   "cell_type": "code",
   "execution_count": 19,
   "metadata": {},
   "outputs": [],
   "source": [
    "put_data(data)"
   ]
  },
  {
   "cell_type": "code",
   "execution_count": 20,
   "metadata": {},
   "outputs": [
    {
     "ename": "NameError",
     "evalue": "name 'new_an' is not defined",
     "output_type": "error",
     "traceback": [
      "\u001b[1;31m---------------------------------------------------------------------------\u001b[0m",
      "\u001b[1;31mNameError\u001b[0m                                 Traceback (most recent call last)",
      "\u001b[1;32m<ipython-input-20-94d03020e292>\u001b[0m in \u001b[0;36m<module>\u001b[1;34m\u001b[0m\n\u001b[1;32m----> 1\u001b[1;33m \u001b[0mnew_an\u001b[0m\u001b[1;33m(\u001b[0m\u001b[1;33m)\u001b[0m\u001b[1;33m\u001b[0m\u001b[1;33m\u001b[0m\u001b[0m\n\u001b[0m",
      "\u001b[1;31mNameError\u001b[0m: name 'new_an' is not defined"
     ]
    }
   ],
   "source": [
    "new_an()"
   ]
  },
  {
   "cell_type": "code",
   "execution_count": 23,
   "metadata": {},
   "outputs": [
    {
     "name": "stdout",
     "output_type": "stream",
     "text": [
      "\n",
      "\n",
      "\n",
      "\n",
      "-.-.-.-.-.-.-.-.-.-.-.-.-.-.-.-.-.-.-.-.-.-.-.-.-.-.-.-.-.-.-.-.-.-.-.-.-.-.-.-.-.-.-.-.-.-.-.-.-.-.-.-.-.-.-.-.-.-.-.-.-.-.-.-.-.-.-.-.-.-.-.-.-.-.-.-.-.-.-.-.-.-.-.-.-.-.-.-.-.-.-.-.-.-.-.-.-.-.-.-.-.-.-.-.-.-.-.-.-.-.-.-.-.-.-.-.-.-.-.-.-.-.-.-.-.-.-.-.-.-.-.-.-.-.-.-.-.-.-.-.-.-.-.-.-.-.-.-.-.-.-.-.-.-.-.-.-.-.-.-.-.-.-.-.-.-.-.-.-.-.-.-.-.-.-.-.-.-.-.-.-.-.-.-.-.-.-.-.-.-.-.-.-.-.-.-.-.-.-.-.-.-.-.-.-.-.-.-.-.-.-.-.-.-.-.-.-.-.-.-.-.-.-.-.-.-.-.-.-.-.-.-.-.-.-.-.-.-.-.-.\n",
      "                                        ****************************************                                        \n",
      "                                                      -ABCD Bank-                                                       \n",
      "                                        ****************************************                                        \n",
      "\n",
      "\n",
      "enter your first name:-kanishk\n",
      "enter your last name:-rajawat\n",
      "enter your mobile numbre:-0987654321\n",
      "enter your permanent address:-JLN marg,jaipur\n",
      "enter your date of birth(yyyy-mm-dd):-1998-11-07\n",
      "enter your user name:-kpsr007\n",
      "enter your password:-········\n",
      "\n",
      "\n",
      "\n",
      "\n",
      "-.-.-.-.-.-.-.-.-.-.-.-.-.-.-.-.-.-.-.-.-.-.-.-.-.-.-.-.-.-.-.-.-.-.-.-.-.-.-.-.-.-.-.-.-.-.-.-.-.-.-.-.-.-.-.-.-.-.-.-.-.-.-.-.-.-.-.-.-.-.-.-.-.-.-.-.-.-.-.-.-.-.-.-.-.-.-.-.-.-.-.-.-.-.-.-.-.-.-.-.-.-.-.-.-.-.-.-.-.-.-.-.-.-.-.-.-.-.-.-.-.-.-.-.-.-.-.-.-.-.-.-.-.-.-.-.-.-.-.-.-.-.-.-.-.-.-.-.-.-.-.-.-.-.-.-.-.-.-.-.-.-.-.-.-.-.-.-.-.-.-.-.-.-.-.-.-.-.-.-.-.-.-.-.-.-.-.-.-.-.-.-.-.-.-.-.-.-.-.-.-.-.-.-.-.-.-.-.-.-.-.-.-.-.-.-.-.-.-.-.-.-.-.-.-.-.-.-.-.-.-.-.-.-.-.-.-.-.-.-.\n",
      "                                        ****************************************                                        \n",
      "                                                      -ABCD Bank-                                                       \n",
      "                                        ****************************************                                        \n",
      "\n",
      "\n",
      "Loading......\n",
      "\n",
      "\n",
      "\n",
      "-.-.-.-.-.-.-.-.-.-.-.-.-.-.-.-.-.-.-.-.-.-.-.-.-.-.-.-.-.-.-.-.-.-.-.-.-.-.-.-.-.-.-.-.-.-.-.-.-.-.-.-.-.-.-.-.-.-.-.-.-.-.-.-.-.-.-.-.-.-.-.-.-.-.-.-.-.-.-.-.-.-.-.-.-.-.-.-.-.-.-.-.-.-.-.-.-.-.-.-.-.-.-.-.-.-.-.-.-.-.-.-.-.-.-.-.-.-.-.-.-.-.-.-.-.-.-.-.-.-.-.-.-.-.-.-.-.-.-.-.-.-.-.-.-.-.-.-.-.-.-.-.-.-.-.-.-.-.-.-.-.-.-.-.-.-.-.-.-.-.-.-.-.-.-.-.-.-.-.-.-.-.-.-.-.-.-.-.-.-.-.-.-.-.-.-.-.-.-.-.-.-.-.-.-.-.-.-.-.-.-.-.-.-.-.-.-.-.-.-.-.-.-.-.-.-.-.-.-.-.-.-.-.-.-.-.-.-.-.-.\n",
      "                                        ****************************************                                        \n",
      "                                                      -ABCD Bank-                                                       \n",
      "                                        ****************************************                                        \n",
      "\n",
      "\n",
      "**************************************************New account created***************************************************\n",
      "\n",
      "\n",
      "\n",
      "\n",
      "-.-.-.-.-.-.-.-.-.-.-.-.-.-.-.-.-.-.-.-.-.-.-.-.-.-.-.-.-.-.-.-.-.-.-.-.-.-.-.-.-.-.-.-.-.-.-.-.-.-.-.-.-.-.-.-.-.-.-.-.-.-.-.-.-.-.-.-.-.-.-.-.-.-.-.-.-.-.-.-.-.-.-.-.-.-.-.-.-.-.-.-.-.-.-.-.-.-.-.-.-.-.-.-.-.-.-.-.-.-.-.-.-.-.-.-.-.-.-.-.-.-.-.-.-.-.-.-.-.-.-.-.-.-.-.-.-.-.-.-.-.-.-.-.-.-.-.-.-.-.-.-.-.-.-.-.-.-.-.-.-.-.-.-.-.-.-.-.-.-.-.-.-.-.-.-.-.-.-.-.-.-.-.-.-.-.-.-.-.-.-.-.-.-.-.-.-.-.-.-.-.-.-.-.-.-.-.-.-.-.-.-.-.-.-.-.-.-.-.-.-.-.-.-.-.-.-.-.-.-.-.-.-.-.-.-.-.-.-.-.\n"
     ]
    }
   ],
   "source": [
    "new_ac()"
   ]
  },
  {
   "cell_type": "code",
   "execution_count": 5,
   "metadata": {},
   "outputs": [
    {
     "name": "stdout",
     "output_type": "stream",
     "text": [
      "{'1002', '1001', '1000'}\n"
     ]
    }
   ],
   "source": [
    "print(data.keys()-['key','mgr'])"
   ]
  },
  {
   "cell_type": "code",
   "execution_count": 9,
   "metadata": {},
   "outputs": [
    {
     "data": {
      "text/plain": [
       "True"
      ]
     },
     "execution_count": 9,
     "metadata": {},
     "output_type": "execute_result"
    }
   ],
   "source": [
    "'mgr' in (data.keys())"
   ]
  },
  {
   "cell_type": "code",
   "execution_count": 10,
   "metadata": {},
   "outputs": [],
   "source": [
    "a=12345678\n"
   ]
  },
  {
   "cell_type": "code",
   "execution_count": 12,
   "metadata": {},
   "outputs": [
    {
     "data": {
      "text/plain": [
       "8"
      ]
     },
     "execution_count": 12,
     "metadata": {},
     "output_type": "execute_result"
    }
   ],
   "source": [
    "len(str(a))"
   ]
  },
  {
   "cell_type": "code",
   "execution_count": 25,
   "metadata": {},
   "outputs": [],
   "source": [
    "d='2s00-05-25'"
   ]
  },
  {
   "cell_type": "code",
   "execution_count": 15,
   "metadata": {},
   "outputs": [
    {
     "data": {
      "text/plain": [
       "'2000'"
      ]
     },
     "execution_count": 15,
     "metadata": {},
     "output_type": "execute_result"
    }
   ],
   "source": [
    "d[0:4]"
   ]
  },
  {
   "cell_type": "code",
   "execution_count": 17,
   "metadata": {},
   "outputs": [
    {
     "data": {
      "text/plain": [
       "'-'"
      ]
     },
     "execution_count": 17,
     "metadata": {},
     "output_type": "execute_result"
    }
   ],
   "source": [
    "d[4]"
   ]
  },
  {
   "cell_type": "code",
   "execution_count": 18,
   "metadata": {},
   "outputs": [
    {
     "data": {
      "text/plain": [
       "True"
      ]
     },
     "execution_count": 18,
     "metadata": {},
     "output_type": "execute_result"
    }
   ],
   "source": [
    "d[4]==d[7]=='-'"
   ]
  },
  {
   "cell_type": "code",
   "execution_count": 26,
   "metadata": {},
   "outputs": [
    {
     "data": {
      "text/plain": [
       "False"
      ]
     },
     "execution_count": 26,
     "metadata": {},
     "output_type": "execute_result"
    }
   ],
   "source": [
    "d[0:4].isdigit() and d[4]==d[7]=='-' and d[5:7].isdigit()"
   ]
  },
  {
   "cell_type": "code",
   "execution_count": 3,
   "metadata": {},
   "outputs": [
    {
     "name": "stdout",
     "output_type": "stream",
     "text": [
      "enter your date of birth(yyyy-mm-dd):-1999-02-29\n",
      "*-* invalid date please try again *-*\n",
      "enter your date of birth(yyyy-mm-dd):-2000-05-25\n"
     ]
    }
   ],
   "source": [
    "i=0\n",
    "while i==0:\n",
    "    dob=input(\"enter your date of birth(yyyy-mm-dd):-\")\n",
    "    if dob[0:4].isdigit() and dob[4]==dob[7]=='-' and dob[5:7].isdigit() and dob[8:10].isdigit() and len(dob)==10:\n",
    "        if int(dob[5:7]) in range(1,13):\n",
    "            if int(dob[5:7]) in [1,3,5,7,8,10,12] and int(dob[8:10]) in range(1,32):\n",
    "                i=1\n",
    "                break\n",
    "            elif int(dob[5:7]) in [4,6,9,11] and int(dob[8:10]) in range(1,31):\n",
    "                i=1\n",
    "                break\n",
    "            elif int(dob[5:7])==2:\n",
    "                x=leap(int(dob[0:4]))\n",
    "                if x==1 and int(dob[8:10]) in range(1,30):\n",
    "                    i=1\n",
    "                    break\n",
    "                elif x==0 and int(dob[8:10]) in range(1,29):\n",
    "                    i=1\n",
    "                    break\n",
    "                else:print(\"*-* invalid date please try again *-*\")\n",
    "            else:print(\"*-* invalid date please try again *-*\")\n",
    "        else:print(\"*-* invalid date please try again *-*\")\n",
    "    else:print(\"*-* invalid date please try again *-*\")"
   ]
  },
  {
   "cell_type": "code",
   "execution_count": 1,
   "metadata": {},
   "outputs": [],
   "source": [
    "def leap(a):\n",
    "    if a%4==0 and a%100==0:\n",
    "        if a%400==0:\n",
    "            return 1\n",
    "        else:\n",
    "            return 0\n",
    "    elif a%4==0:\n",
    "        return 1\n",
    "    else:\n",
    "        return 0"
   ]
  },
  {
   "cell_type": "code",
   "execution_count": 29,
   "metadata": {},
   "outputs": [
    {
     "name": "stdout",
     "output_type": "stream",
     "text": [
      "Enter user name:-peeyush2505\n",
      "Enter password:-········\n"
     ]
    }
   ],
   "source": [
    "i=0\n",
    "while i==0:\n",
    "    usr_nm=input(\"Enter user name:-\")\n",
    "    paswd=getpass(\"Enter password:-\")\n",
    "    if usr_nm!='peeyush2505' or paswd!='qwert':\n",
    "        clear(\"Edit information\")\n",
    "        print(\"Transaction Failed\".center(120,\"*\"))\n",
    "        print(\"username or password incorrect please try again\".center(120,\"*\"))\n",
    "    else:\n",
    "        i=1"
   ]
  },
  {
   "cell_type": "code",
   "execution_count": 17,
   "metadata": {},
   "outputs": [],
   "source": [
    "else:\n",
    "                print(\"--Password is too short-- \\n--Password length must be more than 5 --\")"
   ]
  },
  {
   "cell_type": "code",
   "execution_count": 24,
   "metadata": {},
   "outputs": [
    {
     "name": "stdout",
     "output_type": "stream",
     "text": [
      "enter your mobile numbre:-1234567890\n",
      "1\n"
     ]
    }
   ],
   "source": [
    "i=0\n",
    "while i==0:\n",
    "    mbn=int(input(\"enter your mobile numbre:-\"))\n",
    "    if len(str(mbn))!=10:\n",
    "        print(\"*-* invalid mobile number please try again *-*\")\n",
    "    else:\n",
    "        i=1\n",
    "print(i)"
   ]
  },
  {
   "cell_type": "code",
   "execution_count": 20,
   "metadata": {},
   "outputs": [],
   "source": [
    "def dec1(str):\n",
    "    print(\"*\"*120)\n",
    "    print((\"--\"+str+\"--\").center(120))\n",
    "    print(\"*\"*120)\n",
    "    print(\"\\n\")\n",
    "\n",
    "\n",
    "def clear(str):\n",
    "    os.system(\"cls\")\n",
    "    dec1(str)"
   ]
  },
  {
   "cell_type": "code",
   "execution_count": 21,
   "metadata": {},
   "outputs": [
    {
     "name": "stdout",
     "output_type": "stream",
     "text": [
      "************************************************************************************************************************\n",
      "                                                       --hello--                                                        \n",
      "************************************************************************************************************************\n",
      "\n",
      "\n"
     ]
    }
   ],
   "source": [
    "\"  You are not eligible for a loan without pay slip \")\n",
    "        load()\n",
    "        load()"
   ]
  },
  {
   "cell_type": "code",
   "execution_count": null,
   "metadata": {},
   "outputs": [],
   "source": [
    "import json\n",
    "from time import sleep\n",
    "import os\n",
    "from getpass import getpass\n",
    "\n",
    "def dec1(str):\n",
    "    print(\"*\"*120)\n",
    "    print((\"--\"+str+\"--\").center(120))\n",
    "    print(\"*\"*120)\n",
    "    print(\"\\n\")\n",
    "\n",
    "\n",
    "def clear():\n",
    "    os.system(\"cls\")\n",
    "\n",
    "\n",
    "def get_data():\n",
    "    fp=open(\"G://Workspace/Python/Bank/data.db\",\"r+\")\n",
    "    data=json.load(fp)\n",
    "    fp.close()\n",
    "    return data\n",
    "\n",
    "def leap(a):\n",
    "    if a%4==0 and a%100==0:\n",
    "        if a%400==0:\n",
    "            return 1\n",
    "        else:\n",
    "            return 0\n",
    "    elif a%4==0:\n",
    "        return 1\n",
    "    else:\n",
    "        return 0\n",
    "\n",
    "def put_data(data):\n",
    "    fp=open(\"G://Workspace/Python/Bank/data.db\",\"w\")\n",
    "    json.dump(data,fp)\n",
    "    fp.close()\n",
    "\n",
    "def load():\n",
    "    \n",
    "    print(\"Loading\",end='')\n",
    "    \n",
    "    for var in range(6):\n",
    "        sleep(0.4)\n",
    "        print('.',end='')\n",
    "\n",
    "def loan():\n",
    "    clear(\"Loan \")\n",
    "    acn=input(\"Enter Your Account Number:-\")\n",
    "    data=get_data()\n",
    "    if acn not in (data.keys()-['mgr','key']):\n",
    "        clear(\"Loan\")\n",
    "        print(\"acount number not available please try again\".center(120,\"*\"))\n",
    "        load()\n",
    "        loan()\n",
    "    i=0\n",
    "    while i==0:\n",
    "        usr_nm=input(\"Enter user name:-\")\n",
    "        paswd=getpass(\"Enter password:-\")\n",
    "        data=get_data()\n",
    "        if usr_nm!=data[acn]['user'] or paswd!=data[acn]['password']:\n",
    "            clear(\"Withdrawal\")\n",
    "            print(\"Transaction Failed\".center(120,\"*\"))\n",
    "            print(\"username or password incorrect please try again\".center(120,\"*\"))\n",
    "        else:\n",
    "            i=1\n",
    "    clear(\"Loan\")\n",
    "    print(\"-.-.-.-.-.-.-.-.-Select your Profession-.-.-.-.-.-.-.-.-\")\n",
    "    ch=int(input(\"1.Govt. employee\\n2.Private Employee\\n3.Businessman\\n4.Student\\n5.Unemployeed\\n\"))\n",
    "    if ch==1:\n",
    "        load()\n",
    "        govt(acn)\n",
    "    if ch==2:\n",
    "        load()\n",
    "        pvt_emp(acn)\n",
    "    if ch==3:\n",
    "        load()\n",
    "        business(acn)\n",
    "    if ch==4 or ch==5:\n",
    "        loan()\n",
    "        print(\"You are Not Eligible for loan\")\n",
    "    else:\n",
    "        clear()\n",
    "        print(\"invalid option Try Again\".center(120,\"*\"))\n",
    "        loan()\n",
    "\n",
    "\n",
    "\n",
    "def govt(acn):\n",
    "    clear(\"Loan\")\n",
    "    data=get_data()\n",
    "    if data[acn]['loan']!=0:\n",
    "        load()\n",
    "        clear(\"Loan\")\n",
    "        print(\"Loan is already granted:- \".center(120,\"*\"))\n",
    "        return\n",
    "    clear(\"loan\")\n",
    "    salary=int(input(\"what is your monthly salary:- \"))\n",
    "    pay_slip=''\n",
    "    while pay_slip!='yes' and pay_slip!='no':\n",
    "        pay_slip=input(\"Do yo have pay slip(Yes/no):- \").strip().lower()\n",
    "        if pay_slip!='yes' or pay_slip!='no':\n",
    "            print(\"  please answer in Yes/No  \")\n",
    "        load()\n",
    "    load()\n",
    "    clear(\"Loan\")\n",
    "    if pay_slip==\"no\":\n",
    "        load()\n",
    "        clear(\"Loan\")\n",
    "        print(\"  You are not eligible for a loan without pay slip \")\n",
    "        return\n",
    "    if salary<20000:\n",
    "        load()\n",
    "        clear()\n",
    "        print(\"  You are not eligible for a loan  \")\n",
    "    elif salary>=20000 and salary<50000:\n",
    "        print(\"A loan of 100000 is Approved\")\n",
    "        data[acn]['loan']=100000\n",
    "        data[acn]['bal']+=100000\n",
    "    elif salary>=50000 and salary<100000:\n",
    "        print(\"A loan of 300000 is Approved\")\n",
    "        data[acn]['loan']=200000\n",
    "        data[acn]['bal']+=200000\n",
    "    elif salary>=100000 and salary<500000:\n",
    "        print(\"A loan of 400000 is Approved\")\n",
    "        data[acn]['loan']=400000\n",
    "        data[acn]['bal']+=400000\n",
    "    elif salary>=500000:\n",
    "        print(\"A loan of 1000000 is Approved\")\n",
    "        data[acn]['loan']=1000000\n",
    "        data[acn]['bal']+=1000000\n",
    "    put_data(data)\n",
    "    op=input(\"DO you want to continue \").strip().lower()\n",
    "    if op=='yes':\n",
    "        start()\n",
    "    else:\n",
    "        exit()\n",
    "\n",
    "\n",
    "def pvt_emp(acn):\n",
    "    clear(\"Loan\")\n",
    "    data=get_data()\n",
    "    if data[acn]['loan']!=0:\n",
    "        load()\n",
    "        clear(\"Loan\")\n",
    "        print(\"A Loan is already Approved to you:- \")\n",
    "        return\n",
    "    salary=int(input(\"what is your monthly salary:- \"))\n",
    "    prop=''\n",
    "    while prop!='yes' and prop!='no':\n",
    "        clear()\n",
    "        prop=input(\"Loan can be granted againest property\\nAre you agree (Yes/no):- \").strip().lower()\n",
    "        if prop!='yes' and prop!='no':\n",
    "            print(\"  please answer in Yes/No  \")\n",
    "    if prop==\"no\":\n",
    "        load()\n",
    "        clear(\"Loan\")\n",
    "        print(\"  Loan can not be granted without property papers \")\n",
    "        return\n",
    "    load()\n",
    "    clear(\"Loan\")\n",
    "    if salary<50000:\n",
    "        print(\"You are not Eligible for loan\")\n",
    "    elif salary>=50000 and salary<100000:\n",
    "        print(\"A loan of 200000 is Approved\")\n",
    "        data[acn]['loan']=200000\n",
    "        data[acn]['bal']+=200000\n",
    "    elif salary>=100000 and salary<300000:\n",
    "        print(\"A loan of 300000 is Approved\")\n",
    "        data[acn]['loan']=300000\n",
    "        data[acn]['bal']+=300000\n",
    "    elif salary>=300000:\n",
    "        print(\"A loan of 500000 is Approved\")\n",
    "        data[acn]['loan']=500000\n",
    "        data[acn]['bal']+=500000\n",
    "    put_data(data)\n",
    "    op=input(\"DO you want to continue \").strip().lower()\n",
    "    if op=='yes':\n",
    "        start()\n",
    "    else:\n",
    "        exit()\n",
    "\n",
    "\n",
    "def business(acn):\n",
    "    clear(\"Loan\")\n",
    "    data=get_data()\n",
    "    if data[acn]['loan']!=0:\n",
    "        load()\n",
    "        clear(\"Loan\")\n",
    "        print(\"Loan is already Approved to you:- \")\n",
    "        return\n",
    "    salary=int(input(\"what is your monthly salary:- \"))\n",
    "    ITR=''\n",
    "    while ITR!='yes' and ITR!='no':\n",
    "        ITR=input(\"Do you have GST number (Yes/no):- \").strip().lower()\n",
    "        if ITR!='yes' and ITR!='no':\n",
    "            print(\"  please answer in Yes/No  \")\n",
    "    if ITR==\"no\":\n",
    "        load()\n",
    "        clear(\"Loan\")\n",
    "        print(\"  Loan can not be Approved without GST Number \")\n",
    "        return\n",
    "    clear(\"Loan\")\n",
    "    if salary<50000:\n",
    "        print(\"You are not Eligible for Loan\")\n",
    "    elif salary>=50000 and salary<100000:\n",
    "        print(\"A loan of 50000 is Approved\")\n",
    "        data[acn]['loan']=50000\n",
    "        data[acn]['bal']+=50000\n",
    "    elif salary>=100000 and salary<300000:\n",
    "        print(\"A loan of 120000 is Approved\")\n",
    "        data[acn]['loan']=120000\n",
    "        data[acn]['bal']+=120000\n",
    "    elif salary>=300000:\n",
    "        print(\"A loan of 500000 is Approved\")\n",
    "        data[acn]['loan']=500000\n",
    "        data[acn]['bal']+=500000\n",
    "    put_data(data)\n",
    "    op=input(\"DO you want to continue \").strip().lower()\n",
    "    if op=='yes':\n",
    "        start()\n",
    "    else:\n",
    "        exit()"
   ]
  }
 ],
 "metadata": {
  "kernelspec": {
   "display_name": "Python 3",
   "language": "python",
   "name": "python3"
  },
  "language_info": {
   "codemirror_mode": {
    "name": "ipython",
    "version": 3
   },
   "file_extension": ".py",
   "mimetype": "text/x-python",
   "name": "python",
   "nbconvert_exporter": "python",
   "pygments_lexer": "ipython3",
   "version": "3.7.3"
  }
 },
 "nbformat": 4,
 "nbformat_minor": 2
}
