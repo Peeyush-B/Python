{
 "cells": [
  {
   "cell_type": "code",
   "execution_count": 1,
   "metadata": {},
   "outputs": [
    {
     "name": "stdout",
     "output_type": "stream",
     "text": [
      "hello 1 time\n",
      "hello 2 time\n",
      "hello 3 time\n",
      "hello 4 time\n",
      "hello 5 time\n",
      "hello 6 time\n",
      "hello 7 time\n",
      "hello 8 time\n",
      "hello 9 time\n"
     ]
    }
   ],
   "source": [
    "i=1\n",
    "while i<10:\n",
    "    print(f\"hello {i} time\")\n",
    "    i+=1\n"
   ]
  },
  {
   "cell_type": "code",
   "execution_count": 2,
   "metadata": {},
   "outputs": [
    {
     "name": "stdout",
     "output_type": "stream",
     "text": [
      "enter a number5\n",
      "5x1= 5\n",
      "5x2= 10\n",
      "5x3= 15\n",
      "5x4= 20\n",
      "5x5= 25\n",
      "5x6= 30\n",
      "5x7= 35\n",
      "5x8= 40\n",
      "5x9= 45\n",
      "5x10= 50\n"
     ]
    }
   ],
   "source": [
    "n=int(input(\"enter a number\"))\n",
    "i=1\n",
    "while i<=10:\n",
    "    print(f\"{n}x{i}=\",(n*i))\n",
    "    i=i+1\n"
   ]
  },
  {
   "cell_type": "code",
   "execution_count": 3,
   "metadata": {},
   "outputs": [
    {
     "name": "stdout",
     "output_type": "stream",
     "text": [
      "\n",
      "*\n",
      "**\n",
      "***\n",
      "****\n",
      "*****\n"
     ]
    }
   ],
   "source": [
    "i=0\n",
    "while i<6:\n",
    "    print(\"*\"*i)\n",
    "    i+=1"
   ]
  },
  {
   "cell_type": "code",
   "execution_count": 4,
   "metadata": {},
   "outputs": [
    {
     "name": "stdout",
     "output_type": "stream",
     "text": [
      "\n",
      "1\n",
      "22\n",
      "333\n",
      "4444\n",
      "55555\n"
     ]
    }
   ],
   "source": [
    "i=0\n",
    "while i<6:\n",
    "    print(f\"{i}\"*i)\n",
    "    i+=1"
   ]
  },
  {
   "cell_type": "code",
   "execution_count": 6,
   "metadata": {},
   "outputs": [
    {
     "name": "stdout",
     "output_type": "stream",
     "text": [
      "1\n",
      "2\n",
      "3\n",
      "4\n",
      "5\n",
      "6\n",
      "7\n",
      "8\n",
      "9\n",
      "10\n",
      "[1, 2, 3, 4, 5, 6, 7, 8, 9, 10]\n"
     ]
    }
   ],
   "source": [
    "l=[]\n",
    "i=0\n",
    "while i<10:\n",
    "    l.append(int(input()))\n",
    "    i+=1\n",
    "print(l)"
   ]
  },
  {
   "cell_type": "code",
   "execution_count": 8,
   "metadata": {},
   "outputs": [],
   "source": [
    "l1=list(range(0,10))"
   ]
  },
  {
   "cell_type": "code",
   "execution_count": 9,
   "metadata": {},
   "outputs": [
    {
     "data": {
      "text/plain": [
       "[0, 1, 2, 3, 4, 5, 6, 7, 8, 9]"
      ]
     },
     "execution_count": 9,
     "metadata": {},
     "output_type": "execute_result"
    }
   ],
   "source": [
    "l1"
   ]
  },
  {
   "cell_type": "code",
   "execution_count": 10,
   "metadata": {},
   "outputs": [],
   "source": [
    "l2=list(range(0,101,2))"
   ]
  },
  {
   "cell_type": "code",
   "execution_count": 12,
   "metadata": {},
   "outputs": [
    {
     "name": "stdout",
     "output_type": "stream",
     "text": [
      "[0, 2, 4, 6, 8, 10, 12, 14, 16, 18, 20, 22, 24, 26, 28, 30, 32, 34, 36, 38, 40, 42, 44, 46, 48, 50, 52, 54, 56, 58, 60, 62, 64, 66, 68, 70, 72, 74, 76, 78, 80, 82, 84, 86, 88, 90, 92, 94, 96, 98, 100]\n"
     ]
    }
   ],
   "source": [
    "print(l2)"
   ]
  },
  {
   "cell_type": "code",
   "execution_count": 5,
   "metadata": {},
   "outputs": [
    {
     "name": "stdout",
     "output_type": "stream",
     "text": [
      "enter a number:-12345\n",
      "54321\n",
      "number is not pallindrome\n"
     ]
    }
   ],
   "source": [
    "n=int(input(\"enter a number:-\"))\n",
    "a=n\n",
    "rev=0\n",
    "while n>0:\n",
    "    r=n%10\n",
    "    n=n//10\n",
    "    rev=(rev*10)+r\n",
    "print(rev)\n",
    "if a==rev:\n",
    "    print(\"number is pallindrome\")\n",
    "else:\n",
    "    print(\"number is not pallindrome\")"
   ]
  },
  {
   "cell_type": "code",
   "execution_count": 3,
   "metadata": {},
   "outputs": [
    {
     "name": "stdout",
     "output_type": "stream",
     "text": [
      "enter a number:-1000000\n",
      "even\n"
     ]
    }
   ],
   "source": [
    "a=int(input(\"enter a number:-\"))\n",
    "while a>0:\n",
    "    a=a-2\n",
    "if a==0:\n",
    "    print(\"even\")\n",
    "else:\n",
    "    print('odd')"
   ]
  },
  {
   "cell_type": "code",
   "execution_count": 7,
   "metadata": {},
   "outputs": [
    {
     "name": "stdout",
     "output_type": "stream",
     "text": [
      "0\n",
      "1\n",
      "2\n",
      "3\n",
      "4\n",
      "5\n"
     ]
    }
   ],
   "source": [
    "i = 0\n",
    "while i<=10:\n",
    "    print(i)\n",
    "    if i==5:\n",
    "        break\n",
    "    i+=1"
   ]
  },
  {
   "cell_type": "code",
   "execution_count": 8,
   "metadata": {},
   "outputs": [
    {
     "name": "stdout",
     "output_type": "stream",
     "text": [
      "5\n",
      "6\n",
      "7\n",
      "8\n",
      "9\n",
      "done\n"
     ]
    }
   ],
   "source": [
    "while i<10:\n",
    "    print(i)\n",
    "    i+=1\n",
    "else:\n",
    "    print('done')"
   ]
  },
  {
   "cell_type": "code",
   "execution_count": 9,
   "metadata": {},
   "outputs": [
    {
     "name": "stdout",
     "output_type": "stream",
     "text": [
      "0\n",
      "1\n",
      "2\n",
      "3\n",
      "4\n",
      "5\n"
     ]
    }
   ],
   "source": [
    "i=0\n",
    "while i<10:\n",
    "    print(i)\n",
    "    if i==5:\n",
    "        break\n",
    "    i+=1\n",
    "else:\n",
    "    print('done')"
   ]
  },
  {
   "cell_type": "code",
   "execution_count": 41,
   "metadata": {},
   "outputs": [
    {
     "name": "stdout",
     "output_type": "stream",
     "text": [
      "[16, 24, 46, 27, 4, 56, 8, 74, 91, 63]\n"
     ]
    }
   ],
   "source": [
    "from random import randint\n",
    "l=[]\n",
    "while len(l)<10:\n",
    "    l.append(randint(0,100))\n",
    "print(l)"
   ]
  },
  {
   "cell_type": "code",
   "execution_count": 42,
   "metadata": {},
   "outputs": [
    {
     "name": "stdout",
     "output_type": "stream",
     "text": [
      "[27, 91, 63]\n"
     ]
    }
   ],
   "source": [
    "i=0\n",
    "while i<len(l):\n",
    "    if l[i]%2==0:\n",
    "        l.pop(i)\n",
    "    else:\n",
    "        i+=1\n",
    "print(l)"
   ]
  },
  {
   "cell_type": "code",
   "execution_count": 43,
   "metadata": {},
   "outputs": [
    {
     "name": "stdout",
     "output_type": "stream",
     "text": [
      "[29, 96, 72, 16, 58, 44, 34, 82, 59, 88]\n"
     ]
    }
   ],
   "source": [
    "from random import randint\n",
    "l=[]\n",
    "while len(l)<10:\n",
    "    l.append(randint(0,100))\n",
    "print(l)"
   ]
  },
  {
   "cell_type": "code",
   "execution_count": 44,
   "metadata": {},
   "outputs": [
    {
     "name": "stdout",
     "output_type": "stream",
     "text": [
      "[29, 59]\n"
     ]
    }
   ],
   "source": [
    "i=0\n",
    "while i<len(l):\n",
    "    if l[i]%2==0:\n",
    "        l.pop(i) #or l.remove(l[i])\n",
    "        continue\n",
    "    i+=1\n",
    "print(l)"
   ]
  },
  {
   "cell_type": "code",
   "execution_count": 45,
   "metadata": {},
   "outputs": [
    {
     "data": {
      "text/plain": [
       "'abc'"
      ]
     },
     "execution_count": 45,
     "metadata": {},
     "output_type": "execute_result"
    }
   ],
   "source": [
    "''.join(['a','b','c'])"
   ]
  },
  {
   "cell_type": "code",
   "execution_count": 52,
   "metadata": {},
   "outputs": [
    {
     "name": "stdout",
     "output_type": "stream",
     "text": [
      "enter a string:-abcd\n",
      "enter a character:-a\n",
      "abcda\n"
     ]
    }
   ],
   "source": [
    "s=input(\"enter a string:-\")\n",
    "l=list(s)\n",
    "i=0\n",
    "a=input(\"enter a character:-\")\n",
    "while i<(len(l)-1):\n",
    "    if a==l[0]:\n",
    "        l.append(a)\n",
    "        break\n",
    "    elif a==l[i]:\n",
    "        l.insert((~i)+1,a)\n",
    "        break\n",
    "    i+=1\n",
    "s=''.join(l)\n",
    "print(s)"
   ]
  },
  {
   "cell_type": "code",
   "execution_count": 2,
   "metadata": {},
   "outputs": [
    {
     "name": "stdout",
     "output_type": "stream",
     "text": [
      "enter the number of list element:-3\n",
      "enter 1 element3\n",
      "enter 2 element33\n",
      "enter 3 element333\n",
      "enter number you want to count in list:-3\n",
      "list-> [3, 33, 333]\n",
      "number of times 3 appear 6\n"
     ]
    }
   ],
   "source": [
    "l=[]\n",
    "i=0\n",
    "counter=0\n",
    "n=int(input(\"enter the number of list element:-\"))\n",
    "while i<n:\n",
    "    l.append(int(input(f\"enter {i+1} element\")))\n",
    "    i+=1\n",
    "y=int(input(\"enter number you want to count in list:-\"))\n",
    "i=0\n",
    "while i<len(l):\n",
    "    x=l[i]\n",
    "    while x>0:\n",
    "        f=x%10\n",
    "        x//=10\n",
    "        if f==y:\n",
    "            counter+=1\n",
    "    i+=1\n",
    "print(\"list->\",l)\n",
    "print(f\"number of times {y} appear\",counter)\n",
    "\n"
   ]
  },
  {
   "cell_type": "code",
   "execution_count": 53,
   "metadata": {},
   "outputs": [
    {
     "name": "stdout",
     "output_type": "stream",
     "text": [
      "enter a string:-abcd\n",
      "enter a character:-a\n",
      "abcd\n"
     ]
    }
   ],
   "source": [
    "s=input(\"enter a string:-\")\n",
    "l=list(s)\n",
    "a=input(\"enter a character:-\")\n",
    "i=l.index(a)\n",
    "l=l[::-1]\n",
    "l.insert(i,a)\n",
    "str=''.join(l)\n",
    "print(s)"
   ]
  },
  {
   "cell_type": "code",
   "execution_count": 6,
   "metadata": {},
   "outputs": [
    {
     "name": "stdout",
     "output_type": "stream",
     "text": [
      "enter the number of list element:-3\n",
      "enter 1 element33\n",
      "enter 2 element33\n",
      "enter 3 element33\n",
      "enter number you want to count in list:-3\n"
     ]
    },
    {
     "ename": "TypeError",
     "evalue": "'str' object is not callable",
     "output_type": "error",
     "traceback": [
      "\u001b[1;31m---------------------------------------------------------------------------\u001b[0m",
      "\u001b[1;31mTypeError\u001b[0m                                 Traceback (most recent call last)",
      "\u001b[1;32m<ipython-input-6-e46c3af294b7>\u001b[0m in \u001b[0;36m<module>\u001b[1;34m\u001b[0m\n\u001b[0;32m      7\u001b[0m     \u001b[0mi\u001b[0m\u001b[1;33m+=\u001b[0m\u001b[1;36m1\u001b[0m\u001b[1;33m\u001b[0m\u001b[1;33m\u001b[0m\u001b[0m\n\u001b[0;32m      8\u001b[0m \u001b[0my\u001b[0m\u001b[1;33m=\u001b[0m\u001b[0mint\u001b[0m\u001b[1;33m(\u001b[0m\u001b[0minput\u001b[0m\u001b[1;33m(\u001b[0m\u001b[1;34m\"enter number you want to count in list:-\"\u001b[0m\u001b[1;33m)\u001b[0m\u001b[1;33m)\u001b[0m\u001b[1;33m\u001b[0m\u001b[1;33m\u001b[0m\u001b[0m\n\u001b[1;32m----> 9\u001b[1;33m \u001b[0mprint\u001b[0m\u001b[1;33m(\u001b[0m\u001b[0mstr\u001b[0m\u001b[1;33m(\u001b[0m\u001b[0ml\u001b[0m\u001b[1;33m)\u001b[0m\u001b[1;33m.\u001b[0m\u001b[0mcount\u001b[0m\u001b[1;33m(\u001b[0m\u001b[0my\u001b[0m\u001b[1;33m)\u001b[0m\u001b[1;33m)\u001b[0m\u001b[1;33m\u001b[0m\u001b[1;33m\u001b[0m\u001b[0m\n\u001b[0m",
      "\u001b[1;31mTypeError\u001b[0m: 'str' object is not callable"
     ]
    }
   ],
   "source": [
    "l=[]\n",
    "i=0\n",
    "counter=0\n",
    "n=int(input(\"enter the number of list element:-\"))\n",
    "while i<n:\n",
    "    l.append(int(input(f\"enter {i+1} element\")))\n",
    "    i+=1\n",
    "y=int(input(\"enter number you want to count in list:-\"))\n",
    "print(str(l).count(y))"
   ]
  },
  {
   "cell_type": "code",
   "execution_count": 7,
   "metadata": {},
   "outputs": [],
   "source": [
    "s=\"hello world\""
   ]
  },
  {
   "cell_type": "code",
   "execution_count": 10,
   "metadata": {},
   "outputs": [
    {
     "name": "stdout",
     "output_type": "stream",
     "text": [
      "h\n",
      "e\n",
      "l\n",
      "l\n",
      "o\n",
      " \n",
      "w\n",
      "o\n",
      "r\n",
      "l\n",
      "d\n"
     ]
    }
   ],
   "source": [
    "from time import sleep\n",
    "for char in s:\n",
    "    sleep(0.5)\n",
    "    print(char)"
   ]
  },
  {
   "cell_type": "code",
   "execution_count": 1,
   "metadata": {},
   "outputs": [],
   "source": [
    "l=list(range(1,11))"
   ]
  },
  {
   "cell_type": "code",
   "execution_count": 2,
   "metadata": {},
   "outputs": [
    {
     "data": {
      "text/plain": [
       "[1, 2, 3, 4, 5, 6, 7, 8, 9, 10]"
      ]
     },
     "execution_count": 2,
     "metadata": {},
     "output_type": "execute_result"
    }
   ],
   "source": [
    "l\n"
   ]
  },
  {
   "cell_type": "code",
   "execution_count": 3,
   "metadata": {},
   "outputs": [
    {
     "name": "stdout",
     "output_type": "stream",
     "text": [
      "1\n",
      "2\n",
      "3\n",
      "4\n",
      "5\n",
      "6\n",
      "7\n",
      "8\n",
      "9\n",
      "10\n"
     ]
    }
   ],
   "source": [
    "for var in range(1,11):\n",
    "    print(var)"
   ]
  },
  {
   "cell_type": "code",
   "execution_count": 5,
   "metadata": {},
   "outputs": [
    {
     "name": "stdout",
     "output_type": "stream",
     "text": [
      "5\n",
      "5 X 1= 5\n",
      "5 X 2= 10\n",
      "5 X 3= 15\n",
      "5 X 4= 20\n",
      "5 X 5= 25\n",
      "5 X 6= 30\n",
      "5 X 7= 35\n",
      "5 X 8= 40\n",
      "5 X 9= 45\n",
      "5 X 10= 50\n"
     ]
    }
   ],
   "source": [
    "n=int(input())\n",
    "for var in range(1,11):\n",
    "    print(f\"{n} X {var}=\",n*var)"
   ]
  },
  {
   "cell_type": "code",
   "execution_count": 6,
   "metadata": {},
   "outputs": [],
   "source": [
    "d={\"one\":1,'two':2,'three':3,'four':4}"
   ]
  },
  {
   "cell_type": "code",
   "execution_count": 7,
   "metadata": {},
   "outputs": [
    {
     "name": "stdout",
     "output_type": "stream",
     "text": [
      "one\n",
      "two\n",
      "three\n",
      "four\n"
     ]
    }
   ],
   "source": [
    "for var in d:\n",
    "    print(var)"
   ]
  },
  {
   "cell_type": "code",
   "execution_count": 8,
   "metadata": {},
   "outputs": [
    {
     "name": "stdout",
     "output_type": "stream",
     "text": [
      "('one', 1)\n",
      "('two', 2)\n",
      "('three', 3)\n",
      "('four', 4)\n"
     ]
    }
   ],
   "source": [
    "for var in d.items():\n",
    "    print(var)"
   ]
  },
  {
   "cell_type": "code",
   "execution_count": 9,
   "metadata": {},
   "outputs": [
    {
     "name": "stdout",
     "output_type": "stream",
     "text": [
      "one-->1\n",
      "two-->2\n",
      "three-->3\n",
      "four-->4\n"
     ]
    }
   ],
   "source": [
    "for key,value in d.items():\n",
    "    print(f\"{key}-->{value}\")"
   ]
  },
  {
   "cell_type": "code",
   "execution_count": 11,
   "metadata": {},
   "outputs": [
    {
     "name": "stdout",
     "output_type": "stream",
     "text": [
      "[1, 2, 3, 4, 5]\n",
      "sum = 15\n"
     ]
    }
   ],
   "source": [
    "l=['1','2','3','4','5']\n",
    "for i in l:\n",
    "    l[l.index(i)]=int(l[l.index(i)])\n",
    "print(l)\n",
    "sum=0\n",
    "for i in l:\n",
    "    sum+=i\n",
    "print(\"sum =\",sum)"
   ]
  },
  {
   "cell_type": "code",
   "execution_count": 13,
   "metadata": {},
   "outputs": [
    {
     "name": "stdout",
     "output_type": "stream",
     "text": [
      "enter length of list:-3\n",
      "enter 1 element:-1\n",
      "enter 2 element:-2\n",
      "enter 3 element:-hello\n",
      "['1', '2', 'hello']\n",
      "[1, 2, 'hello']\n"
     ]
    }
   ],
   "source": [
    "l=[]\n",
    "n=int(input('enter length of list:-'))\n",
    "for i in range(0,n):\n",
    "    l.append(input(f\"enter {i+1} element:-\"))\n",
    "print(l)\n",
    "for i in l:\n",
    "    if i.isdigit():\n",
    "        l[l.index(i)]=int(l[l.index(i)])\n",
    "print(l)\n"
   ]
  },
  {
   "cell_type": "code",
   "execution_count": 23,
   "metadata": {},
   "outputs": [
    {
     "name": "stdout",
     "output_type": "stream",
     "text": [
      "enter length of list:-5\n",
      "enter 1 element:-12\n",
      "enter 2 element:-321\n",
      "enter 3 element:-1\n",
      "enter 4 element:-33\n",
      "enter 5 element:-4\n",
      "[12, 321, 1, 33, 4]\n",
      "[1, 4, 12, 33, 321]\n"
     ]
    }
   ],
   "source": [
    "#bubble sort\n",
    "l=[]\n",
    "n=int(input('enter length of list:-'))\n",
    "for i in range(0,n):\n",
    "    l.append(int(input(f\"enter {i+1} element:-\")))\n",
    "print(l)\n",
    "for i in range(0,len(l)):\n",
    "    for j in range(1,len(l)-i):\n",
    "        if l[j-1]>l[j]:\n",
    "            l[j-1],l[j]=l[j],l[j-1]\n",
    "print(l)"
   ]
  },
  {
   "cell_type": "code",
   "execution_count": 18,
   "metadata": {},
   "outputs": [
    {
     "name": "stdout",
     "output_type": "stream",
     "text": [
      "enter length of list:-5\n",
      "enter 1 element:-13\n",
      "enter 2 element:-100\n",
      "enter 3 element:-0\n",
      "enter 4 element:-45\n",
      "enter 5 element:-65\n",
      "[13, 100, 0, 45, 65]\n",
      "min=0\n",
      "max=100\n"
     ]
    }
   ],
   "source": [
    "l=[]\n",
    "n=int(input('enter length of list:-'))\n",
    "for i in range(0,n):\n",
    "    l.append(int(input(f\"enter {i+1} element:-\")))\n",
    "print(l)\n",
    "mn=l[0]\n",
    "mx=l[0]\n",
    "for i in range(0,len(l)):\n",
    "    if mn>l[i]:\n",
    "        mn=l[i]\n",
    "    if mx<l[i]:\n",
    "        mx=l[i]\n",
    "print(f\"min={mn}\\nmax={mx}\")"
   ]
  },
  {
   "cell_type": "code",
   "execution_count": 27,
   "metadata": {},
   "outputs": [
    {
     "name": "stdout",
     "output_type": "stream",
     "text": [
      "[1, 1.2, 22, 22.33, (1+2j), 'hello']\n",
      "int=2\n",
      "float=2\n",
      "string=1\n",
      "complax=1\n"
     ]
    }
   ],
   "source": [
    "l=[1,1.2,22,22.33,(1+2j),'hello']\n",
    "c1=0\n",
    "c2=0\n",
    "c3=0\n",
    "c4=0\n",
    "print(l)\n",
    "for i in l:\n",
    "    if type(i)==int:\n",
    "        c1+=1\n",
    "    elif type(i)==float:\n",
    "        c2+=1\n",
    "    elif type(i)==complex:\n",
    "        c3+=1\n",
    "    elif type(i)==str:\n",
    "        c4+=1\n",
    "print(f\"int={c1}\\nfloat={c2}\\nstring={c3}\\ncomplax={c4}\")"
   ]
  },
  {
   "cell_type": "code",
   "execution_count": 26,
   "metadata": {},
   "outputs": [
    {
     "name": "stdout",
     "output_type": "stream",
     "text": [
      "enter length of list:-6\n",
      "[81, 35, 48, 23, 72, 10]\n",
      "[10, 23, 35, 48, 72, 81]\n"
     ]
    }
   ],
   "source": [
    "#selection sort\n",
    "from random import randint\n",
    "l=[]\n",
    "n=int(input('enter length of list:-'))\n",
    "for i in range(0,n):\n",
    "    l.append(randint(0,100))\n",
    "print(l)\n",
    "le =len(l)\n",
    "for i in range(le):\n",
    "    for j in range(le):\n",
    "        if l[j]>l[i]:\n",
    "            l[j],l[i]=l[i],l[j]\n",
    "print(l)"
   ]
  },
  {
   "cell_type": "code",
   "execution_count": 37,
   "metadata": {},
   "outputs": [
    {
     "name": "stdout",
     "output_type": "stream",
     "text": [
      "[2, 4, 6, 8]\n"
     ]
    }
   ],
   "source": [
    "l=[1,2,3,4,5,6,7,8]\n",
    "lc =l.copy()\n",
    "for var in lc:\n",
    "    if var%2==1:\n",
    "        l.remove(var)\n",
    "print(l)"
   ]
  },
  {
   "cell_type": "code",
   "execution_count": 29,
   "metadata": {},
   "outputs": [],
   "source": [
    "l=[]"
   ]
  },
  {
   "cell_type": "code",
   "execution_count": 30,
   "metadata": {},
   "outputs": [],
   "source": [
    "a=1\n",
    "b=0\n",
    "l.append((a,b))\n"
   ]
  },
  {
   "cell_type": "code",
   "execution_count": 31,
   "metadata": {},
   "outputs": [
    {
     "data": {
      "text/plain": [
       "[(1, 0)]"
      ]
     },
     "execution_count": 31,
     "metadata": {},
     "output_type": "execute_result"
    }
   ],
   "source": [
    "l"
   ]
  },
  {
   "cell_type": "code",
   "execution_count": 38,
   "metadata": {},
   "outputs": [
    {
     "name": "stdout",
     "output_type": "stream",
     "text": [
      "[(0, 1), (1, 45), (2, 76), (3, 22), (4, 89), (5, 13)]\n"
     ]
    }
   ],
   "source": [
    "l=[1,45,76,22,89,13]\n",
    "l2=[]\n",
    "for i in l:\n",
    "    l2.append((l.index(i),i))\n",
    "print(l2)\n"
   ]
  },
  {
   "cell_type": "code",
   "execution_count": 39,
   "metadata": {},
   "outputs": [],
   "source": [
    "l=[1,2,3,22,45,5,6,7]"
   ]
  },
  {
   "cell_type": "code",
   "execution_count": 40,
   "metadata": {},
   "outputs": [],
   "source": [
    "l2=[12,565,54,33,123,778,765,45,3]"
   ]
  },
  {
   "cell_type": "code",
   "execution_count": 41,
   "metadata": {},
   "outputs": [
    {
     "name": "stdout",
     "output_type": "stream",
     "text": [
      "[(1, 12), (2, 565), (3, 54), (22, 33), (45, 123), (5, 778), (6, 765), (7, 45)]\n"
     ]
    }
   ],
   "source": [
    "ll=[]\n",
    "for i in range(0,min(len(l),len(l2))):\n",
    "    ll.append((l[i],l2[i]))\n",
    "print(ll)"
   ]
  },
  {
   "cell_type": "code",
   "execution_count": 42,
   "metadata": {},
   "outputs": [],
   "source": [
    "l=['peeyush','loky','ishank','kanishk','peeyush','loky']"
   ]
  },
  {
   "cell_type": "code",
   "execution_count": 50,
   "metadata": {},
   "outputs": [
    {
     "name": "stdout",
     "output_type": "stream",
     "text": [
      "{('ishank', 1), ('kanishk', 1), ('peeyush', 2), ('loky', 2)}\n"
     ]
    }
   ],
   "source": [
    "s=set()\n",
    "for var in l:\n",
    "    s.add((var,l.count(var)))\n",
    "print(s)"
   ]
  },
  {
   "cell_type": "code",
   "execution_count": 56,
   "metadata": {},
   "outputs": [
    {
     "name": "stdout",
     "output_type": "stream",
     "text": [
      "0\n",
      "1\n",
      "2\n",
      "3\n",
      "4\n",
      "5\n"
     ]
    }
   ],
   "source": [
    "for var in range(0,10):\n",
    "    print(var)\n",
    "    if var==5:\n",
    "        break\n",
    "else:\n",
    "    print(\"done\")"
   ]
  },
  {
   "cell_type": "code",
   "execution_count": 1,
   "metadata": {},
   "outputs": [
    {
     "data": {
      "text/plain": [
       "2.0"
      ]
     },
     "execution_count": 1,
     "metadata": {},
     "output_type": "execute_result"
    }
   ],
   "source": [
    "4**(1/2)"
   ]
  },
  {
   "cell_type": "code",
   "execution_count": 4,
   "metadata": {},
   "outputs": [
    {
     "name": "stdout",
     "output_type": "stream",
     "text": [
      "[1, 2, 3, 4, 5, 6]\n"
     ]
    }
   ],
   "source": [
    "l=[1,2,3]\n",
    "i=4\n",
    "for var in range(len(l)):\n",
    "    l.append(i)\n",
    "    i+=1\n",
    "print(l)"
   ]
  },
  {
   "cell_type": "code",
   "execution_count": null,
   "metadata": {},
   "outputs": [],
   "source": [
    "l=[1,2,3]\n",
    "for i in l:\n",
    "    l.append(i)\n"
   ]
  },
  {
   "cell_type": "code",
   "execution_count": 3,
   "metadata": {},
   "outputs": [
    {
     "ename": "RuntimeError",
     "evalue": "Set changed size during iteration",
     "output_type": "error",
     "traceback": [
      "\u001b[1;31m---------------------------------------------------------------------------\u001b[0m",
      "\u001b[1;31mRuntimeError\u001b[0m                              Traceback (most recent call last)",
      "\u001b[1;32m<ipython-input-3-8a8efbe7da33>\u001b[0m in \u001b[0;36m<module>\u001b[1;34m\u001b[0m\n\u001b[0;32m      1\u001b[0m \u001b[0ms\u001b[0m \u001b[1;33m=\u001b[0m\u001b[1;33m{\u001b[0m\u001b[1;36m1\u001b[0m\u001b[1;33m,\u001b[0m\u001b[1;36m2\u001b[0m\u001b[1;33m,\u001b[0m\u001b[1;36m3\u001b[0m\u001b[1;33m,\u001b[0m\u001b[1;36m4\u001b[0m\u001b[1;33m}\u001b[0m\u001b[1;33m\u001b[0m\u001b[1;33m\u001b[0m\u001b[0m\n\u001b[0;32m      2\u001b[0m \u001b[0mn\u001b[0m\u001b[1;33m=\u001b[0m\u001b[1;36m5\u001b[0m\u001b[1;33m\u001b[0m\u001b[1;33m\u001b[0m\u001b[0m\n\u001b[1;32m----> 3\u001b[1;33m \u001b[1;32mfor\u001b[0m \u001b[0mi\u001b[0m \u001b[1;32min\u001b[0m \u001b[0ms\u001b[0m\u001b[1;33m:\u001b[0m\u001b[1;33m\u001b[0m\u001b[1;33m\u001b[0m\u001b[0m\n\u001b[0m\u001b[0;32m      4\u001b[0m     \u001b[0ms\u001b[0m\u001b[1;33m.\u001b[0m\u001b[0madd\u001b[0m\u001b[1;33m(\u001b[0m\u001b[0mn\u001b[0m\u001b[1;33m)\u001b[0m\u001b[1;33m\u001b[0m\u001b[1;33m\u001b[0m\u001b[0m\n\u001b[0;32m      5\u001b[0m     \u001b[0mn\u001b[0m\u001b[1;33m+=\u001b[0m\u001b[1;36m1\u001b[0m\u001b[1;33m\u001b[0m\u001b[1;33m\u001b[0m\u001b[0m\n",
      "\u001b[1;31mRuntimeError\u001b[0m: Set changed size during iteration"
     ]
    }
   ],
   "source": [
    "s ={1,2,3,4}\n",
    "n=5\n",
    "for i in s:\n",
    "    s.add(n)\n",
    "    n+=1\n"
   ]
  },
  {
   "cell_type": "code",
   "execution_count": 2,
   "metadata": {},
   "outputs": [],
   "source": [
    "l=list(range(0,11))\n"
   ]
  },
  {
   "cell_type": "code",
   "execution_count": 5,
   "metadata": {},
   "outputs": [
    {
     "data": {
      "text/plain": [
       "[0, 1, 2, 3, 4, 5, 6, 7, 8, 9, 10]"
      ]
     },
     "execution_count": 5,
     "metadata": {},
     "output_type": "execute_result"
    }
   ],
   "source": [
    "l"
   ]
  },
  {
   "cell_type": "code",
   "execution_count": 6,
   "metadata": {},
   "outputs": [
    {
     "name": "stdout",
     "output_type": "stream",
     "text": [
      "0\n",
      "1\n",
      "2\n",
      "3\n",
      "4\n",
      "5\n",
      "6\n",
      "7\n",
      "8\n",
      "9\n",
      "10\n"
     ]
    }
   ],
   "source": [
    "for i in l:\n",
    "    print(i)"
   ]
  },
  {
   "cell_type": "code",
   "execution_count": 7,
   "metadata": {},
   "outputs": [
    {
     "name": "stdout",
     "output_type": "stream",
     "text": [
      "0\n",
      "1\n",
      "2\n",
      "3\n",
      "4\n",
      "5\n",
      "6\n",
      "7\n",
      "8\n",
      "9\n",
      "10\n"
     ]
    },
    {
     "ename": "IndexError",
     "evalue": "list index out of range",
     "output_type": "error",
     "traceback": [
      "\u001b[1;31m---------------------------------------------------------------------------\u001b[0m",
      "\u001b[1;31mIndexError\u001b[0m                                Traceback (most recent call last)",
      "\u001b[1;32m<ipython-input-7-99817fa41b07>\u001b[0m in \u001b[0;36m<module>\u001b[1;34m\u001b[0m\n\u001b[0;32m      1\u001b[0m \u001b[0mi\u001b[0m\u001b[1;33m=\u001b[0m\u001b[1;36m0\u001b[0m\u001b[1;33m\u001b[0m\u001b[1;33m\u001b[0m\u001b[0m\n\u001b[0;32m      2\u001b[0m \u001b[1;32mwhile\u001b[0m \u001b[1;32mTrue\u001b[0m\u001b[1;33m:\u001b[0m\u001b[1;33m\u001b[0m\u001b[1;33m\u001b[0m\u001b[0m\n\u001b[1;32m----> 3\u001b[1;33m     \u001b[0mprint\u001b[0m\u001b[1;33m(\u001b[0m\u001b[0ml\u001b[0m\u001b[1;33m[\u001b[0m\u001b[0mi\u001b[0m\u001b[1;33m]\u001b[0m\u001b[1;33m)\u001b[0m\u001b[1;33m\u001b[0m\u001b[1;33m\u001b[0m\u001b[0m\n\u001b[0m\u001b[0;32m      4\u001b[0m     \u001b[0mi\u001b[0m\u001b[1;33m+=\u001b[0m\u001b[1;36m1\u001b[0m\u001b[1;33m\u001b[0m\u001b[1;33m\u001b[0m\u001b[0m\n",
      "\u001b[1;31mIndexError\u001b[0m: list index out of range"
     ]
    }
   ],
   "source": [
    "i=0\n",
    "while True:\n",
    "    print(l[i])\n",
    "    i+=1"
   ]
  },
  {
   "cell_type": "code",
   "execution_count": 7,
   "metadata": {},
   "outputs": [],
   "source": [
    "z=iter(l)"
   ]
  },
  {
   "cell_type": "code",
   "execution_count": 8,
   "metadata": {},
   "outputs": [
    {
     "name": "stdout",
     "output_type": "stream",
     "text": [
      "0\n",
      "1\n",
      "2\n",
      "3\n",
      "4\n",
      "5\n",
      "6\n",
      "7\n",
      "8\n",
      "9\n",
      "10\n"
     ]
    }
   ],
   "source": [
    "for var in z:\n",
    "    print(var)"
   ]
  },
  {
   "cell_type": "code",
   "execution_count": 14,
   "metadata": {},
   "outputs": [],
   "source": [
    "for var in z:\n",
    "    print(var)"
   ]
  },
  {
   "cell_type": "code",
   "execution_count": 10,
   "metadata": {},
   "outputs": [
    {
     "ename": "TypeError",
     "evalue": "'list_iterator' object is not subscriptable",
     "output_type": "error",
     "traceback": [
      "\u001b[1;31m---------------------------------------------------------------------------\u001b[0m",
      "\u001b[1;31mTypeError\u001b[0m                                 Traceback (most recent call last)",
      "\u001b[1;32m<ipython-input-10-ca39e048e7a8>\u001b[0m in \u001b[0;36m<module>\u001b[1;34m\u001b[0m\n\u001b[0;32m      2\u001b[0m \u001b[0mi\u001b[0m\u001b[1;33m=\u001b[0m\u001b[1;36m0\u001b[0m\u001b[1;33m\u001b[0m\u001b[1;33m\u001b[0m\u001b[0m\n\u001b[0;32m      3\u001b[0m \u001b[1;32mwhile\u001b[0m \u001b[1;32mTrue\u001b[0m\u001b[1;33m:\u001b[0m\u001b[1;33m\u001b[0m\u001b[1;33m\u001b[0m\u001b[0m\n\u001b[1;32m----> 4\u001b[1;33m     \u001b[0mprint\u001b[0m\u001b[1;33m(\u001b[0m\u001b[0mz\u001b[0m\u001b[1;33m[\u001b[0m\u001b[0mi\u001b[0m\u001b[1;33m]\u001b[0m\u001b[1;33m)\u001b[0m\u001b[1;33m\u001b[0m\u001b[1;33m\u001b[0m\u001b[0m\n\u001b[0m\u001b[0;32m      5\u001b[0m     \u001b[0mi\u001b[0m\u001b[1;33m+=\u001b[0m\u001b[1;36m1\u001b[0m\u001b[1;33m\u001b[0m\u001b[1;33m\u001b[0m\u001b[0m\n",
      "\u001b[1;31mTypeError\u001b[0m: 'list_iterator' object is not subscriptable"
     ]
    }
   ],
   "source": [
    "z=iter(l)\n",
    "i=0\n",
    "while True:\n",
    "    print(z[i])\n",
    "    i+=1"
   ]
  },
  {
   "cell_type": "code",
   "execution_count": 11,
   "metadata": {},
   "outputs": [
    {
     "name": "stdout",
     "output_type": "stream",
     "text": [
      "0\n",
      "1\n",
      "2\n",
      "3\n",
      "4\n",
      "5\n",
      "6\n",
      "7\n",
      "8\n",
      "9\n",
      "10\n"
     ]
    },
    {
     "ename": "StopIteration",
     "evalue": "",
     "output_type": "error",
     "traceback": [
      "\u001b[1;31m---------------------------------------------------------------------------\u001b[0m",
      "\u001b[1;31mStopIteration\u001b[0m                             Traceback (most recent call last)",
      "\u001b[1;32m<ipython-input-11-8e0d4d40eaac>\u001b[0m in \u001b[0;36m<module>\u001b[1;34m\u001b[0m\n\u001b[0;32m      1\u001b[0m \u001b[0mz\u001b[0m\u001b[1;33m=\u001b[0m\u001b[0miter\u001b[0m\u001b[1;33m(\u001b[0m\u001b[0ml\u001b[0m\u001b[1;33m)\u001b[0m\u001b[1;33m\u001b[0m\u001b[1;33m\u001b[0m\u001b[0m\n\u001b[0;32m      2\u001b[0m \u001b[1;32mwhile\u001b[0m \u001b[1;32mTrue\u001b[0m\u001b[1;33m:\u001b[0m\u001b[1;33m\u001b[0m\u001b[1;33m\u001b[0m\u001b[0m\n\u001b[1;32m----> 3\u001b[1;33m     \u001b[0mprint\u001b[0m\u001b[1;33m(\u001b[0m\u001b[0mnext\u001b[0m\u001b[1;33m(\u001b[0m\u001b[0mz\u001b[0m\u001b[1;33m)\u001b[0m\u001b[1;33m)\u001b[0m\u001b[1;33m\u001b[0m\u001b[1;33m\u001b[0m\u001b[0m\n\u001b[0m",
      "\u001b[1;31mStopIteration\u001b[0m: "
     ]
    }
   ],
   "source": [
    "z=iter(l)\n",
    "while True:\n",
    "    print(next(z))"
   ]
  },
  {
   "cell_type": "code",
   "execution_count": 1,
   "metadata": {},
   "outputs": [],
   "source": [
    "quit()"
   ]
  },
  {
   "cell_type": "code",
   "execution_count": 1,
   "metadata": {},
   "outputs": [],
   "source": [
    "exit()"
   ]
  },
  {
   "cell_type": "code",
   "execution_count": 2,
   "metadata": {},
   "outputs": [
    {
     "data": {
      "text/plain": [
       "<enumerate at 0x1b1ac243af8>"
      ]
     },
     "execution_count": 2,
     "metadata": {},
     "output_type": "execute_result"
    }
   ],
   "source": [
    "enumerate(\"abcdefgh\")"
   ]
  },
  {
   "cell_type": "code",
   "execution_count": 3,
   "metadata": {},
   "outputs": [],
   "source": [
    "l=[1,2,3,0,4,5]"
   ]
  },
  {
   "cell_type": "code",
   "execution_count": 6,
   "metadata": {},
   "outputs": [],
   "source": [
    "z=enumerate(l)\n"
   ]
  },
  {
   "cell_type": "code",
   "execution_count": 7,
   "metadata": {},
   "outputs": [
    {
     "data": {
      "text/plain": [
       "<enumerate at 0x1b1ac24fb88>"
      ]
     },
     "execution_count": 7,
     "metadata": {},
     "output_type": "execute_result"
    }
   ],
   "source": [
    "z"
   ]
  },
  {
   "cell_type": "code",
   "execution_count": 8,
   "metadata": {},
   "outputs": [
    {
     "name": "stdout",
     "output_type": "stream",
     "text": [
      "(0, 1)\n",
      "(1, 2)\n",
      "(2, 3)\n",
      "(3, 0)\n",
      "(4, 4)\n",
      "(5, 5)\n"
     ]
    }
   ],
   "source": [
    "for var in z:\n",
    "    print(var)"
   ]
  },
  {
   "cell_type": "code",
   "execution_count": 9,
   "metadata": {},
   "outputs": [
    {
     "name": "stdout",
     "output_type": "stream",
     "text": [
      "enter anything[1,2,3,4,5]\n"
     ]
    },
    {
     "data": {
      "text/plain": [
       "[1, 2, 3, 4, 5]"
      ]
     },
     "execution_count": 9,
     "metadata": {},
     "output_type": "execute_result"
    }
   ],
   "source": [
    "eval(input('enter anything'))"
   ]
  },
  {
   "cell_type": "code",
   "execution_count": 10,
   "metadata": {},
   "outputs": [
    {
     "name": "stdout",
     "output_type": "stream",
     "text": [
      "enter anything2+3+4*45-54//2//1**2\n"
     ]
    },
    {
     "data": {
      "text/plain": [
       "158"
      ]
     },
     "execution_count": 10,
     "metadata": {},
     "output_type": "execute_result"
    }
   ],
   "source": [
    "eval(input('enter anything'))"
   ]
  },
  {
   "cell_type": "code",
   "execution_count": 13,
   "metadata": {},
   "outputs": [
    {
     "name": "stdout",
     "output_type": "stream",
     "text": [
      "hello world\n"
     ]
    }
   ],
   "source": [
    "exec(\"print('hello world')\")"
   ]
  },
  {
   "cell_type": "code",
   "execution_count": 14,
   "metadata": {},
   "outputs": [
    {
     "name": "stdout",
     "output_type": "stream",
     "text": [
      "\n",
      "\n"
     ]
    }
   ],
   "source": [
    "print('\\n')"
   ]
  },
  {
   "cell_type": "code",
   "execution_count": 15,
   "metadata": {},
   "outputs": [
    {
     "name": "stdout",
     "output_type": "stream",
     "text": [
      "'\\n'\n"
     ]
    }
   ],
   "source": [
    "print(repr('\\n'))"
   ]
  },
  {
   "cell_type": "code",
   "execution_count": 16,
   "metadata": {},
   "outputs": [
    {
     "data": {
      "text/plain": [
       "25"
      ]
     },
     "execution_count": 16,
     "metadata": {},
     "output_type": "execute_result"
    }
   ],
   "source": [
    "round(25.2)"
   ]
  },
  {
   "cell_type": "code",
   "execution_count": 17,
   "metadata": {},
   "outputs": [
    {
     "data": {
      "text/plain": [
       "True"
      ]
     },
     "execution_count": 17,
     "metadata": {},
     "output_type": "execute_result"
    }
   ],
   "source": [
    "a=5\n",
    "isinstance(a,int)"
   ]
  },
  {
   "cell_type": "code",
   "execution_count": 18,
   "metadata": {},
   "outputs": [
    {
     "data": {
      "text/plain": [
       "65"
      ]
     },
     "execution_count": 18,
     "metadata": {},
     "output_type": "execute_result"
    }
   ],
   "source": [
    "ord(\"A\")"
   ]
  },
  {
   "cell_type": "code",
   "execution_count": 19,
   "metadata": {},
   "outputs": [
    {
     "data": {
      "text/plain": [
       "97"
      ]
     },
     "execution_count": 19,
     "metadata": {},
     "output_type": "execute_result"
    }
   ],
   "source": [
    "ord(\"a\")"
   ]
  },
  {
   "cell_type": "code",
   "execution_count": 20,
   "metadata": {},
   "outputs": [
    {
     "data": {
      "text/plain": [
       "48"
      ]
     },
     "execution_count": 20,
     "metadata": {},
     "output_type": "execute_result"
    }
   ],
   "source": [
    "ord(\"0\")"
   ]
  },
  {
   "cell_type": "code",
   "execution_count": 21,
   "metadata": {},
   "outputs": [
    {
     "data": {
      "text/plain": [
       "512"
      ]
     },
     "execution_count": 21,
     "metadata": {},
     "output_type": "execute_result"
    }
   ],
   "source": [
    "pow(2,9)"
   ]
  },
  {
   "cell_type": "code",
   "execution_count": 22,
   "metadata": {},
   "outputs": [
    {
     "data": {
      "text/plain": [
       "512"
      ]
     },
     "execution_count": 22,
     "metadata": {},
     "output_type": "execute_result"
    }
   ],
   "source": [
    "2**9\n"
   ]
  },
  {
   "cell_type": "code",
   "execution_count": 23,
   "metadata": {},
   "outputs": [
    {
     "data": {
      "text/plain": [
       "512.0"
      ]
     },
     "execution_count": 23,
     "metadata": {},
     "output_type": "execute_result"
    }
   ],
   "source": [
    "from math import pow\n",
    "pow(2,9)"
   ]
  },
  {
   "cell_type": "code",
   "execution_count": 24,
   "metadata": {},
   "outputs": [
    {
     "data": {
      "text/plain": [
       "49"
      ]
     },
     "execution_count": 24,
     "metadata": {},
     "output_type": "execute_result"
    }
   ],
   "source": [
    "abs(35+5+9)"
   ]
  },
  {
   "cell_type": "code",
   "execution_count": 25,
   "metadata": {},
   "outputs": [
    {
     "data": {
      "text/plain": [
       "45.24324352443534"
      ]
     },
     "execution_count": 25,
     "metadata": {},
     "output_type": "execute_result"
    }
   ],
   "source": [
    "abs(45.24324352443534524253463534)"
   ]
  },
  {
   "cell_type": "code",
   "execution_count": 26,
   "metadata": {},
   "outputs": [
    {
     "data": {
      "text/plain": [
       "35.12833614050059"
      ]
     },
     "execution_count": 26,
     "metadata": {},
     "output_type": "execute_result"
    }
   ],
   "source": [
    "abs(35+3j)"
   ]
  },
  {
   "cell_type": "code",
   "execution_count": 27,
   "metadata": {},
   "outputs": [],
   "source": [
    "all?"
   ]
  },
  {
   "cell_type": "code",
   "execution_count": 28,
   "metadata": {},
   "outputs": [
    {
     "data": {
      "text/plain": [
       "True"
      ]
     },
     "execution_count": 28,
     "metadata": {},
     "output_type": "execute_result"
    }
   ],
   "source": [
    "all('abcdef')"
   ]
  },
  {
   "cell_type": "code",
   "execution_count": 29,
   "metadata": {},
   "outputs": [
    {
     "data": {
      "text/plain": [
       "True"
      ]
     },
     "execution_count": 29,
     "metadata": {},
     "output_type": "execute_result"
    }
   ],
   "source": [
    "all([1,2,3,4,5])"
   ]
  },
  {
   "cell_type": "code",
   "execution_count": 30,
   "metadata": {},
   "outputs": [
    {
     "data": {
      "text/plain": [
       "False"
      ]
     },
     "execution_count": 30,
     "metadata": {},
     "output_type": "execute_result"
    }
   ],
   "source": [
    "all([1,2,3,4,5,0])"
   ]
  },
  {
   "cell_type": "code",
   "execution_count": 32,
   "metadata": {},
   "outputs": [],
   "source": [
    "any?"
   ]
  },
  {
   "cell_type": "code",
   "execution_count": 34,
   "metadata": {},
   "outputs": [
    {
     "data": {
      "text/plain": [
       "True"
      ]
     },
     "execution_count": 34,
     "metadata": {},
     "output_type": "execute_result"
    }
   ],
   "source": [
    "any([0,0,0,0,1])"
   ]
  },
  {
   "cell_type": "code",
   "execution_count": 35,
   "metadata": {},
   "outputs": [
    {
     "data": {
      "text/plain": [
       "False"
      ]
     },
     "execution_count": 35,
     "metadata": {},
     "output_type": "execute_result"
    }
   ],
   "source": [
    "any([0,0,0,0])"
   ]
  },
  {
   "cell_type": "code",
   "execution_count": 44,
   "metadata": {},
   "outputs": [
    {
     "name": "stdout",
     "output_type": "stream",
     "text": [
      "False\n"
     ]
    }
   ],
   "source": [
    "l=[1,2,3,4,0]\n",
    "z=True\n",
    "for i in l:\n",
    "    z=z and bool(i)\n",
    "print(z)"
   ]
  },
  {
   "cell_type": "code",
   "execution_count": 45,
   "metadata": {},
   "outputs": [
    {
     "name": "stdout",
     "output_type": "stream",
     "text": [
      "True\n"
     ]
    }
   ],
   "source": [
    "l=[0,0,0,4]\n",
    "z=False\n",
    "for i in l:\n",
    "    z=z or bool(i)\n",
    "print(z)\n"
   ]
  },
  {
   "cell_type": "code",
   "execution_count": 49,
   "metadata": {},
   "outputs": [
    {
     "name": "stdout",
     "output_type": "stream",
     "text": [
      "False\n"
     ]
    }
   ],
   "source": [
    "l=[1,2,3,0,0]\n",
    "c=0\n",
    "for i in range(len(l)):\n",
    "    if l[i]:\n",
    "        c+=1\n",
    "if c==len(l):print(\"True\")\n",
    "else:print(\"False\")"
   ]
  },
  {
   "cell_type": "code",
   "execution_count": 48,
   "metadata": {},
   "outputs": [
    {
     "name": "stdout",
     "output_type": "stream",
     "text": [
      "True\n"
     ]
    }
   ],
   "source": [
    "l=[1,2,3,90,0,0]\n",
    "c=0\n",
    "for i in l:\n",
    "    if i:\n",
    "        c=1\n",
    "if c==1:print(\"True\")\n",
    "else:print(\"False\")"
   ]
  },
  {
   "cell_type": "code",
   "execution_count": 50,
   "metadata": {},
   "outputs": [
    {
     "data": {
      "text/plain": [
       "\"'A'\""
      ]
     },
     "execution_count": 50,
     "metadata": {},
     "output_type": "execute_result"
    }
   ],
   "source": [
    "ascii(\"A\")"
   ]
  },
  {
   "cell_type": "code",
   "execution_count": 64,
   "metadata": {},
   "outputs": [],
   "source": [
    "slice?\n"
   ]
  },
  {
   "cell_type": "code",
   "execution_count": 60,
   "metadata": {},
   "outputs": [],
   "source": [
    "z=slice(1,10,2)"
   ]
  },
  {
   "cell_type": "code",
   "execution_count": 61,
   "metadata": {},
   "outputs": [
    {
     "data": {
      "text/plain": [
       "[1, 2, 3, 0, 0]"
      ]
     },
     "execution_count": 61,
     "metadata": {},
     "output_type": "execute_result"
    }
   ],
   "source": [
    "l"
   ]
  },
  {
   "cell_type": "code",
   "execution_count": 62,
   "metadata": {},
   "outputs": [],
   "source": [
    "l=[1,2,3,4,4,5,5,6,76,78,8,899,9,12]"
   ]
  },
  {
   "cell_type": "code",
   "execution_count": 63,
   "metadata": {},
   "outputs": [
    {
     "data": {
      "text/plain": [
       "[2, 4, 5, 6, 78]"
      ]
     },
     "execution_count": 63,
     "metadata": {},
     "output_type": "execute_result"
    }
   ],
   "source": [
    "l[z]"
   ]
  },
  {
   "cell_type": "code",
   "execution_count": 65,
   "metadata": {},
   "outputs": [
    {
     "data": {
      "text/plain": [
       "'hello print'"
      ]
     },
     "metadata": {},
     "output_type": "display_data"
    }
   ],
   "source": [
    "display(\"hello print\")"
   ]
  },
  {
   "cell_type": "code",
   "execution_count": 66,
   "metadata": {},
   "outputs": [
    {
     "data": {
      "text/plain": [
       "(5, 0)"
      ]
     },
     "execution_count": 66,
     "metadata": {},
     "output_type": "execute_result"
    }
   ],
   "source": [
    "divmod(25,5)"
   ]
  },
  {
   "cell_type": "code",
   "execution_count": 67,
   "metadata": {},
   "outputs": [
    {
     "data": {
      "text/plain": [
       "(2, 1)"
      ]
     },
     "execution_count": 67,
     "metadata": {},
     "output_type": "execute_result"
    }
   ],
   "source": [
    "divmod(5,2)"
   ]
  },
  {
   "cell_type": "code",
   "execution_count": 69,
   "metadata": {},
   "outputs": [
    {
     "data": {
      "text/plain": [
       "{'__name__': '__main__',\n",
       " '__doc__': 'Automatically created module for IPython interactive environment',\n",
       " '__package__': None,\n",
       " '__loader__': None,\n",
       " '__spec__': None,\n",
       " '__builtin__': <module 'builtins' (built-in)>,\n",
       " '__builtins__': <module 'builtins' (built-in)>,\n",
       " '_ih': ['',\n",
       "  \"get_ipython().run_line_magic('pinfo', 'enumerate')\",\n",
       "  'enumerate(\"abcdefgh\")',\n",
       "  'l=[1,2,3,0,4,5]',\n",
       "  'enumerate(l)',\n",
       "  \"get_ipython().run_line_magic('pinfo', 'enumerate')\",\n",
       "  'z=enumerate(l)',\n",
       "  'z',\n",
       "  'for var in z:\\n    print(var)',\n",
       "  \"eval(input('enter anything'))\",\n",
       "  \"eval(input('enter anything'))\",\n",
       "  \"exec('print('hello world')')\",\n",
       "  'exec(\"print(\\'hello world\\')\"\")',\n",
       "  'exec(\"print(\\'hello world\\')\")',\n",
       "  \"print('\\\\n')\",\n",
       "  \"print(repr('\\\\n'))\",\n",
       "  'round(25.2)',\n",
       "  'a=5\\nisinstance(a,int)',\n",
       "  'ord(\"A\")',\n",
       "  'ord(\"a\")',\n",
       "  'ord(\"0\")',\n",
       "  'pow(2,9)',\n",
       "  '2**9',\n",
       "  'from math import pow\\npow(2,9)',\n",
       "  'abs(35+5+9)',\n",
       "  'abs(45.24324352443534524253463534)',\n",
       "  'abs(35+3j)',\n",
       "  \"get_ipython().run_line_magic('pinfo', 'all')\",\n",
       "  \"all('abcdef')\",\n",
       "  'all([1,2,3,4,5])',\n",
       "  'all([1,2,3,4,5,0])',\n",
       "  'any>',\n",
       "  \"get_ipython().run_line_magic('pinfo', 'any')\",\n",
       "  'any([0,0,0,0,01])',\n",
       "  'any([0,0,0,0,1])',\n",
       "  'any([0,0,0,0])',\n",
       "  'l=[1,2,3,4]\\nl[0] and l[1] and l[2] and l[3]',\n",
       "  'l=[1,2,3,4]\\nprint(l[0] and l[1] and l[2] and l[3])',\n",
       "  'l=[1,2,3,4,0]\\nbool(l)',\n",
       "  'l=[1,2,3,4,0]\\nz=True\\nfor i in l:\\n    z=z and bool(i)\\nprint(z)',\n",
       "  'l=[1,2,3,4]\\nz=True\\nfor i in l:\\n    z=z and bool(i)\\nprint(z)',\n",
       "  'l=[1,2,3,4]\\nz=False\\nfor i in l:\\n    z=z or bool(i)\\nprint(z)',\n",
       "  'l=[1,2,3,4,0]\\nz=False\\nfor i in l:\\n    z=z or bool(i)\\nprint(z)',\n",
       "  'l=[0,0,0]\\nz=False\\nfor i in l:\\n    z=z or bool(i)\\nprint(z)',\n",
       "  'l=[1,2,3,4,0]\\nz=True\\nfor i in l:\\n    z=z and bool(i)\\nprint(z)',\n",
       "  'l=[0,0,0,4]\\nz=False\\nfor i in l:\\n    z=z or bool(i)\\nprint(z)',\n",
       "  'l=[1,2,3]\\nc=0\\nfor i in range(len(l)):\\n    if l[i]:\\n        c+=1\\nif c==len(l):print(\"True\")\\nelse:print(\"False\")',\n",
       "  'l=[1,2,3]\\nc=0\\nfor i in l:\\n    if i:\\n        c=1\\nif c==1:print(\"True\")\\nelse:print(\"False\")',\n",
       "  'l=[1,2,3,90,0,0]\\nc=0\\nfor i in l:\\n    if i:\\n        c=1\\nif c==1:print(\"True\")\\nelse:print(\"False\")',\n",
       "  'l=[1,2,3,0,0]\\nc=0\\nfor i in range(len(l)):\\n    if l[i]:\\n        c+=1\\nif c==len(l):print(\"True\")\\nelse:print(\"False\")',\n",
       "  'ascii(\"A\")',\n",
       "  \"get_ipython().run_line_magic('pinfo', 'slice')\",\n",
       "  \"slice('abcd')\",\n",
       "  \"slice('abcd',)\",\n",
       "  \"get_ipython().run_line_magic('pinfo', 'slice')\",\n",
       "  \"slice('abcd',1,2)\",\n",
       "  \"slice('abcd',1,2,3)\",\n",
       "  \"slice('abcd',1,2)\",\n",
       "  \"get_ipython().run_line_magic('pinfo', 'slice')\",\n",
       "  'slice(1,10,2)',\n",
       "  'z=slice(1,10,2)',\n",
       "  'l',\n",
       "  'l=[1,2,3,4,4,5,5,6,76,78,8,899,9,12]',\n",
       "  'l[z]',\n",
       "  \"get_ipython().run_line_magic('pinfo', 'slice')\",\n",
       "  'display(\"hello print\")',\n",
       "  'divmod(25,5)',\n",
       "  'divmod(5,2)',\n",
       "  'global()',\n",
       "  'globals()'],\n",
       " '_oh': {2: <enumerate at 0x1b1ac243af8>,\n",
       "  4: <enumerate at 0x1b1ac248bd0>,\n",
       "  7: <enumerate at 0x1b1ac24fb88>,\n",
       "  9: [1, 2, 3, 4, 5],\n",
       "  10: 158,\n",
       "  16: 25,\n",
       "  17: True,\n",
       "  18: 65,\n",
       "  19: 97,\n",
       "  20: 48,\n",
       "  21: 512,\n",
       "  22: 512,\n",
       "  23: 512.0,\n",
       "  24: 49,\n",
       "  25: 45.24324352443534,\n",
       "  26: 35.12833614050059,\n",
       "  28: True,\n",
       "  29: True,\n",
       "  30: False,\n",
       "  34: True,\n",
       "  35: False,\n",
       "  36: 4,\n",
       "  38: True,\n",
       "  50: \"'A'\",\n",
       "  52: slice(None, 'abcd', None),\n",
       "  53: slice(None, 'abcd', None),\n",
       "  55: slice('abcd', 1, 2),\n",
       "  57: slice('abcd', 1, 2),\n",
       "  59: slice(1, 10, 2),\n",
       "  61: [1, 2, 3, 0, 0],\n",
       "  63: [2, 4, 5, 6, 78],\n",
       "  66: (5, 0),\n",
       "  67: (2, 1)},\n",
       " '_dh': ['G:\\\\Workspace\\\\Python'],\n",
       " 'In': ['',\n",
       "  \"get_ipython().run_line_magic('pinfo', 'enumerate')\",\n",
       "  'enumerate(\"abcdefgh\")',\n",
       "  'l=[1,2,3,0,4,5]',\n",
       "  'enumerate(l)',\n",
       "  \"get_ipython().run_line_magic('pinfo', 'enumerate')\",\n",
       "  'z=enumerate(l)',\n",
       "  'z',\n",
       "  'for var in z:\\n    print(var)',\n",
       "  \"eval(input('enter anything'))\",\n",
       "  \"eval(input('enter anything'))\",\n",
       "  \"exec('print('hello world')')\",\n",
       "  'exec(\"print(\\'hello world\\')\"\")',\n",
       "  'exec(\"print(\\'hello world\\')\")',\n",
       "  \"print('\\\\n')\",\n",
       "  \"print(repr('\\\\n'))\",\n",
       "  'round(25.2)',\n",
       "  'a=5\\nisinstance(a,int)',\n",
       "  'ord(\"A\")',\n",
       "  'ord(\"a\")',\n",
       "  'ord(\"0\")',\n",
       "  'pow(2,9)',\n",
       "  '2**9',\n",
       "  'from math import pow\\npow(2,9)',\n",
       "  'abs(35+5+9)',\n",
       "  'abs(45.24324352443534524253463534)',\n",
       "  'abs(35+3j)',\n",
       "  \"get_ipython().run_line_magic('pinfo', 'all')\",\n",
       "  \"all('abcdef')\",\n",
       "  'all([1,2,3,4,5])',\n",
       "  'all([1,2,3,4,5,0])',\n",
       "  'any>',\n",
       "  \"get_ipython().run_line_magic('pinfo', 'any')\",\n",
       "  'any([0,0,0,0,01])',\n",
       "  'any([0,0,0,0,1])',\n",
       "  'any([0,0,0,0])',\n",
       "  'l=[1,2,3,4]\\nl[0] and l[1] and l[2] and l[3]',\n",
       "  'l=[1,2,3,4]\\nprint(l[0] and l[1] and l[2] and l[3])',\n",
       "  'l=[1,2,3,4,0]\\nbool(l)',\n",
       "  'l=[1,2,3,4,0]\\nz=True\\nfor i in l:\\n    z=z and bool(i)\\nprint(z)',\n",
       "  'l=[1,2,3,4]\\nz=True\\nfor i in l:\\n    z=z and bool(i)\\nprint(z)',\n",
       "  'l=[1,2,3,4]\\nz=False\\nfor i in l:\\n    z=z or bool(i)\\nprint(z)',\n",
       "  'l=[1,2,3,4,0]\\nz=False\\nfor i in l:\\n    z=z or bool(i)\\nprint(z)',\n",
       "  'l=[0,0,0]\\nz=False\\nfor i in l:\\n    z=z or bool(i)\\nprint(z)',\n",
       "  'l=[1,2,3,4,0]\\nz=True\\nfor i in l:\\n    z=z and bool(i)\\nprint(z)',\n",
       "  'l=[0,0,0,4]\\nz=False\\nfor i in l:\\n    z=z or bool(i)\\nprint(z)',\n",
       "  'l=[1,2,3]\\nc=0\\nfor i in range(len(l)):\\n    if l[i]:\\n        c+=1\\nif c==len(l):print(\"True\")\\nelse:print(\"False\")',\n",
       "  'l=[1,2,3]\\nc=0\\nfor i in l:\\n    if i:\\n        c=1\\nif c==1:print(\"True\")\\nelse:print(\"False\")',\n",
       "  'l=[1,2,3,90,0,0]\\nc=0\\nfor i in l:\\n    if i:\\n        c=1\\nif c==1:print(\"True\")\\nelse:print(\"False\")',\n",
       "  'l=[1,2,3,0,0]\\nc=0\\nfor i in range(len(l)):\\n    if l[i]:\\n        c+=1\\nif c==len(l):print(\"True\")\\nelse:print(\"False\")',\n",
       "  'ascii(\"A\")',\n",
       "  \"get_ipython().run_line_magic('pinfo', 'slice')\",\n",
       "  \"slice('abcd')\",\n",
       "  \"slice('abcd',)\",\n",
       "  \"get_ipython().run_line_magic('pinfo', 'slice')\",\n",
       "  \"slice('abcd',1,2)\",\n",
       "  \"slice('abcd',1,2,3)\",\n",
       "  \"slice('abcd',1,2)\",\n",
       "  \"get_ipython().run_line_magic('pinfo', 'slice')\",\n",
       "  'slice(1,10,2)',\n",
       "  'z=slice(1,10,2)',\n",
       "  'l',\n",
       "  'l=[1,2,3,4,4,5,5,6,76,78,8,899,9,12]',\n",
       "  'l[z]',\n",
       "  \"get_ipython().run_line_magic('pinfo', 'slice')\",\n",
       "  'display(\"hello print\")',\n",
       "  'divmod(25,5)',\n",
       "  'divmod(5,2)',\n",
       "  'global()',\n",
       "  'globals()'],\n",
       " 'Out': {2: <enumerate at 0x1b1ac243af8>,\n",
       "  4: <enumerate at 0x1b1ac248bd0>,\n",
       "  7: <enumerate at 0x1b1ac24fb88>,\n",
       "  9: [1, 2, 3, 4, 5],\n",
       "  10: 158,\n",
       "  16: 25,\n",
       "  17: True,\n",
       "  18: 65,\n",
       "  19: 97,\n",
       "  20: 48,\n",
       "  21: 512,\n",
       "  22: 512,\n",
       "  23: 512.0,\n",
       "  24: 49,\n",
       "  25: 45.24324352443534,\n",
       "  26: 35.12833614050059,\n",
       "  28: True,\n",
       "  29: True,\n",
       "  30: False,\n",
       "  34: True,\n",
       "  35: False,\n",
       "  36: 4,\n",
       "  38: True,\n",
       "  50: \"'A'\",\n",
       "  52: slice(None, 'abcd', None),\n",
       "  53: slice(None, 'abcd', None),\n",
       "  55: slice('abcd', 1, 2),\n",
       "  57: slice('abcd', 1, 2),\n",
       "  59: slice(1, 10, 2),\n",
       "  61: [1, 2, 3, 0, 0],\n",
       "  63: [2, 4, 5, 6, 78],\n",
       "  66: (5, 0),\n",
       "  67: (2, 1)},\n",
       " 'get_ipython': <bound method InteractiveShell.get_ipython of <ipykernel.zmqshell.ZMQInteractiveShell object at 0x000001B1ABD4E6D8>>,\n",
       " 'exit': <IPython.core.autocall.ZMQExitAutocall at 0x1b1abdbccc0>,\n",
       " 'quit': <IPython.core.autocall.ZMQExitAutocall at 0x1b1abdbccc0>,\n",
       " '_': (2, 1),\n",
       " '__': (5, 0),\n",
       " '___': [2, 4, 5, 6, 78],\n",
       " '_i': 'global()',\n",
       " '_ii': 'divmod(5,2)',\n",
       " '_iii': 'divmod(25,5)',\n",
       " '_i1': 'enumerate?',\n",
       " '_i2': 'enumerate(\"abcdefgh\")',\n",
       " '_2': <enumerate at 0x1b1ac243af8>,\n",
       " '_i3': 'l=[1,2,3,0,4,5]',\n",
       " 'l': [1, 2, 3, 4, 4, 5, 5, 6, 76, 78, 8, 899, 9, 12],\n",
       " '_i4': 'enumerate(l)',\n",
       " '_4': <enumerate at 0x1b1ac248bd0>,\n",
       " '_i5': 'enumerate?',\n",
       " '_i6': 'z=enumerate(l)',\n",
       " 'z': slice(1, 10, 2),\n",
       " '_i7': 'z',\n",
       " '_7': <enumerate at 0x1b1ac24fb88>,\n",
       " '_i8': 'for var in z:\\n    print(var)',\n",
       " 'var': (5, 5),\n",
       " '_i9': \"eval(input('enter anything'))\",\n",
       " '_9': [1, 2, 3, 4, 5],\n",
       " '_i10': \"eval(input('enter anything'))\",\n",
       " '_10': 158,\n",
       " '_i11': \"exec('print('hello world')')\",\n",
       " '_i12': 'exec(\"print(\\'hello world\\')\"\")',\n",
       " '_i13': 'exec(\"print(\\'hello world\\')\")',\n",
       " '_i14': \"print('\\\\n')\",\n",
       " '_i15': \"print(repr('\\\\n'))\",\n",
       " '_i16': 'round(25.2)',\n",
       " '_16': 25,\n",
       " '_i17': 'a=5\\nisinstance(a,int)',\n",
       " 'a': 5,\n",
       " '_17': True,\n",
       " '_i18': 'ord(\"A\")',\n",
       " '_18': 65,\n",
       " '_i19': 'ord(\"a\")',\n",
       " '_19': 97,\n",
       " '_i20': 'ord(\"0\")',\n",
       " '_20': 48,\n",
       " '_i21': 'pow(2,9)',\n",
       " '_21': 512,\n",
       " '_i22': '2**9',\n",
       " '_22': 512,\n",
       " '_i23': 'from math import pow\\npow(2,9)',\n",
       " 'pow': <function math.pow(x, y, /)>,\n",
       " '_23': 512.0,\n",
       " '_i24': 'abs(35+5+9)',\n",
       " '_24': 49,\n",
       " '_i25': 'abs(45.24324352443534524253463534)',\n",
       " '_25': 45.24324352443534,\n",
       " '_i26': 'abs(35+3j)',\n",
       " '_26': 35.12833614050059,\n",
       " '_i27': 'all?',\n",
       " '_i28': \"all('abcdef')\",\n",
       " '_28': True,\n",
       " '_i29': 'all([1,2,3,4,5])',\n",
       " '_29': True,\n",
       " '_i30': 'all([1,2,3,4,5,0])',\n",
       " '_30': False,\n",
       " '_i31': 'any>',\n",
       " '_i32': 'any?',\n",
       " '_i33': 'any([0,0,0,0,01])',\n",
       " '_i34': 'any([0,0,0,0,1])',\n",
       " '_34': True,\n",
       " '_i35': 'any([0,0,0,0])',\n",
       " '_35': False,\n",
       " '_i36': 'l=[1,2,3,4]\\nl[0] and l[1] and l[2] and l[3]',\n",
       " '_36': 4,\n",
       " '_i37': 'l=[1,2,3,4]\\nprint(l[0] and l[1] and l[2] and l[3])',\n",
       " '_i38': 'l=[1,2,3,4,0]\\nbool(l)',\n",
       " '_38': True,\n",
       " '_i39': 'l=[1,2,3,4,0]\\nz=True\\nfor i in l:\\n    z=z and bool(i)\\nprint(z)',\n",
       " 'i': 4,\n",
       " '_i40': 'l=[1,2,3,4]\\nz=True\\nfor i in l:\\n    z=z and bool(i)\\nprint(z)',\n",
       " '_i41': 'l=[1,2,3,4]\\nz=False\\nfor i in l:\\n    z=z or bool(i)\\nprint(z)',\n",
       " '_i42': 'l=[1,2,3,4,0]\\nz=False\\nfor i in l:\\n    z=z or bool(i)\\nprint(z)',\n",
       " '_i43': 'l=[0,0,0]\\nz=False\\nfor i in l:\\n    z=z or bool(i)\\nprint(z)',\n",
       " '_i44': 'l=[1,2,3,4,0]\\nz=True\\nfor i in l:\\n    z=z and bool(i)\\nprint(z)',\n",
       " '_i45': 'l=[0,0,0,4]\\nz=False\\nfor i in l:\\n    z=z or bool(i)\\nprint(z)',\n",
       " '_i46': 'l=[1,2,3]\\nc=0\\nfor i in range(len(l)):\\n    if l[i]:\\n        c+=1\\nif c==len(l):print(\"True\")\\nelse:print(\"False\")',\n",
       " 'c': 3,\n",
       " '_i47': 'l=[1,2,3]\\nc=0\\nfor i in l:\\n    if i:\\n        c=1\\nif c==1:print(\"True\")\\nelse:print(\"False\")',\n",
       " '_i48': 'l=[1,2,3,90,0,0]\\nc=0\\nfor i in l:\\n    if i:\\n        c=1\\nif c==1:print(\"True\")\\nelse:print(\"False\")',\n",
       " '_i49': 'l=[1,2,3,0,0]\\nc=0\\nfor i in range(len(l)):\\n    if l[i]:\\n        c+=1\\nif c==len(l):print(\"True\")\\nelse:print(\"False\")',\n",
       " '_i50': 'ascii(\"A\")',\n",
       " '_50': \"'A'\",\n",
       " '_i51': 'slice?',\n",
       " '_i52': \"slice('abcd')\",\n",
       " '_52': slice(None, 'abcd', None),\n",
       " '_i53': \"slice('abcd',)\",\n",
       " '_53': slice(None, 'abcd', None),\n",
       " '_i54': 'slice?',\n",
       " '_i55': \"slice('abcd',1,2)\",\n",
       " '_55': slice('abcd', 1, 2),\n",
       " '_i56': \"slice('abcd',1,2,3)\",\n",
       " '_i57': \"slice('abcd',1,2)\",\n",
       " '_57': slice('abcd', 1, 2),\n",
       " '_i58': 'slice?',\n",
       " '_i59': 'slice(1,10,2)',\n",
       " '_59': slice(1, 10, 2),\n",
       " '_i60': 'z=slice(1,10,2)',\n",
       " '_i61': 'l',\n",
       " '_61': [1, 2, 3, 0, 0],\n",
       " '_i62': 'l=[1,2,3,4,4,5,5,6,76,78,8,899,9,12]',\n",
       " '_i63': 'l[z]',\n",
       " '_63': [2, 4, 5, 6, 78],\n",
       " '_i64': 'slice?',\n",
       " '_i65': 'display(\"hello print\")',\n",
       " '_i66': 'divmod(25,5)',\n",
       " '_66': (5, 0),\n",
       " '_i67': 'divmod(5,2)',\n",
       " '_67': (2, 1),\n",
       " '_i68': 'global()',\n",
       " '_i69': 'globals()'}"
      ]
     },
     "execution_count": 69,
     "metadata": {},
     "output_type": "execute_result"
    }
   ],
   "source": [
    "globals()"
   ]
  },
  {
   "cell_type": "code",
   "execution_count": 70,
   "metadata": {},
   "outputs": [
    {
     "data": {
      "text/plain": [
       "8315274433719620810"
      ]
     },
     "execution_count": 70,
     "metadata": {},
     "output_type": "execute_result"
    }
   ],
   "source": [
    "hash((1,2,3,4,5))"
   ]
  },
  {
   "cell_type": "code",
   "execution_count": 71,
   "metadata": {},
   "outputs": [
    {
     "ename": "TypeError",
     "evalue": "unhashable type: 'list'",
     "output_type": "error",
     "traceback": [
      "\u001b[1;31m---------------------------------------------------------------------------\u001b[0m",
      "\u001b[1;31mTypeError\u001b[0m                                 Traceback (most recent call last)",
      "\u001b[1;32m<ipython-input-71-797c767403b9>\u001b[0m in \u001b[0;36m<module>\u001b[1;34m\u001b[0m\n\u001b[1;32m----> 1\u001b[1;33m \u001b[0mhash\u001b[0m\u001b[1;33m(\u001b[0m\u001b[1;33m[\u001b[0m\u001b[1;36m1\u001b[0m\u001b[1;33m,\u001b[0m\u001b[1;36m2\u001b[0m\u001b[1;33m,\u001b[0m\u001b[1;36m3\u001b[0m\u001b[1;33m,\u001b[0m\u001b[1;36m4\u001b[0m\u001b[1;33m,\u001b[0m\u001b[1;36m5\u001b[0m\u001b[1;33m]\u001b[0m\u001b[1;33m)\u001b[0m\u001b[1;33m\u001b[0m\u001b[1;33m\u001b[0m\u001b[0m\n\u001b[0m",
      "\u001b[1;31mTypeError\u001b[0m: unhashable type: 'list'"
     ]
    }
   ],
   "source": [
    "hash([1,2,3,4,5])"
   ]
  },
  {
   "cell_type": "code",
   "execution_count": 72,
   "metadata": {},
   "outputs": [
    {
     "name": "stdout",
     "output_type": "stream",
     "text": [
      "Help on class range in module builtins:\n",
      "\n",
      "class range(object)\n",
      " |  range(stop) -> range object\n",
      " |  range(start, stop[, step]) -> range object\n",
      " |  \n",
      " |  Return an object that produces a sequence of integers from start (inclusive)\n",
      " |  to stop (exclusive) by step.  range(i, j) produces i, i+1, i+2, ..., j-1.\n",
      " |  start defaults to 0, and stop is omitted!  range(4) produces 0, 1, 2, 3.\n",
      " |  These are exactly the valid indices for a list of 4 elements.\n",
      " |  When step is given, it specifies the increment (or decrement).\n",
      " |  \n",
      " |  Methods defined here:\n",
      " |  \n",
      " |  __bool__(self, /)\n",
      " |      self != 0\n",
      " |  \n",
      " |  __contains__(self, key, /)\n",
      " |      Return key in self.\n",
      " |  \n",
      " |  __eq__(self, value, /)\n",
      " |      Return self==value.\n",
      " |  \n",
      " |  __ge__(self, value, /)\n",
      " |      Return self>=value.\n",
      " |  \n",
      " |  __getattribute__(self, name, /)\n",
      " |      Return getattr(self, name).\n",
      " |  \n",
      " |  __getitem__(self, key, /)\n",
      " |      Return self[key].\n",
      " |  \n",
      " |  __gt__(self, value, /)\n",
      " |      Return self>value.\n",
      " |  \n",
      " |  __hash__(self, /)\n",
      " |      Return hash(self).\n",
      " |  \n",
      " |  __iter__(self, /)\n",
      " |      Implement iter(self).\n",
      " |  \n",
      " |  __le__(self, value, /)\n",
      " |      Return self<=value.\n",
      " |  \n",
      " |  __len__(self, /)\n",
      " |      Return len(self).\n",
      " |  \n",
      " |  __lt__(self, value, /)\n",
      " |      Return self<value.\n",
      " |  \n",
      " |  __ne__(self, value, /)\n",
      " |      Return self!=value.\n",
      " |  \n",
      " |  __reduce__(...)\n",
      " |      Helper for pickle.\n",
      " |  \n",
      " |  __repr__(self, /)\n",
      " |      Return repr(self).\n",
      " |  \n",
      " |  __reversed__(...)\n",
      " |      Return a reverse iterator.\n",
      " |  \n",
      " |  count(...)\n",
      " |      rangeobject.count(value) -> integer -- return number of occurrences of value\n",
      " |  \n",
      " |  index(...)\n",
      " |      rangeobject.index(value, [start, [stop]]) -> integer -- return index of value.\n",
      " |      Raise ValueError if the value is not present.\n",
      " |  \n",
      " |  ----------------------------------------------------------------------\n",
      " |  Static methods defined here:\n",
      " |  \n",
      " |  __new__(*args, **kwargs) from builtins.type\n",
      " |      Create and return a new object.  See help(type) for accurate signature.\n",
      " |  \n",
      " |  ----------------------------------------------------------------------\n",
      " |  Data descriptors defined here:\n",
      " |  \n",
      " |  start\n",
      " |  \n",
      " |  step\n",
      " |  \n",
      " |  stop\n",
      "\n"
     ]
    }
   ],
   "source": [
    "help(range)"
   ]
  },
  {
   "cell_type": "code",
   "execution_count": 73,
   "metadata": {},
   "outputs": [
    {
     "name": "stdout",
     "output_type": "stream",
     "text": [
      " Volume in drive G is Peeyush\n",
      " Volume Serial Number is C0DF-7B8F\n",
      "\n",
      " Directory of G:\\Workspace\\Python\n",
      "\n",
      "15-06-2019  14:44    <DIR>          .\n",
      "15-06-2019  14:44    <DIR>          ..\n",
      "15-06-2019  11:22    <DIR>          .ipynb_checkpoints\n",
      "15-06-2019  11:39            11,899 Assignment.ipynb\n",
      "13-06-2019  15:27            16,489 Conditional Statement.ipynb\n",
      "13-06-2019  15:19           106,709 first_notebook.ipynb\n",
      "15-06-2019  14:44            58,748 Loop.ipynb\n",
      "11-06-2019  15:05            16,625 Operator.ipynb\n",
      "10-06-2019  15:23            67,003 Tuple.ipynb\n",
      "               6 File(s)        277,473 bytes\n",
      "               3 Dir(s)  126,542,110,720 bytes free\n"
     ]
    }
   ],
   "source": [
    "%ls"
   ]
  },
  {
   "cell_type": "code",
   "execution_count": 76,
   "metadata": {},
   "outputs": [],
   "source": [
    "z=zip([1,2,3,4,5,6,7],[11,33,44,55,66])"
   ]
  },
  {
   "cell_type": "code",
   "execution_count": 77,
   "metadata": {},
   "outputs": [
    {
     "name": "stdout",
     "output_type": "stream",
     "text": [
      "(1, 11)\n",
      "(2, 33)\n",
      "(3, 44)\n",
      "(4, 55)\n",
      "(5, 66)\n"
     ]
    }
   ],
   "source": [
    "for var in z:\n",
    "    print(var)"
   ]
  },
  {
   "cell_type": "code",
   "execution_count": 78,
   "metadata": {},
   "outputs": [],
   "source": [
    "a=5\n"
   ]
  },
  {
   "cell_type": "code",
   "execution_count": 79,
   "metadata": {},
   "outputs": [
    {
     "data": {
      "text/plain": [
       "False"
      ]
     },
     "execution_count": 79,
     "metadata": {},
     "output_type": "execute_result"
    }
   ],
   "source": [
    "callable(a)"
   ]
  },
  {
   "cell_type": "code",
   "execution_count": 80,
   "metadata": {},
   "outputs": [
    {
     "data": {
      "text/plain": [
       "True"
      ]
     },
     "execution_count": 80,
     "metadata": {},
     "output_type": "execute_result"
    }
   ],
   "source": [
    "a=print\n",
    "callable(a)"
   ]
  },
  {
   "cell_type": "code",
   "execution_count": 81,
   "metadata": {},
   "outputs": [
    {
     "data": {
      "text/plain": [
       "'A'"
      ]
     },
     "execution_count": 81,
     "metadata": {},
     "output_type": "execute_result"
    }
   ],
   "source": [
    "chr(65)"
   ]
  },
  {
   "cell_type": "code",
   "execution_count": 82,
   "metadata": {},
   "outputs": [],
   "source": [
    "z=[1,2,3,4,5,56,5]"
   ]
  },
  {
   "cell_type": "code",
   "execution_count": 83,
   "metadata": {},
   "outputs": [
    {
     "data": {
      "text/plain": [
       "bytearray(b'\\x01\\x02\\x03\\x04\\x058\\x05')"
      ]
     },
     "execution_count": 83,
     "metadata": {},
     "output_type": "execute_result"
    }
   ],
   "source": [
    "bytearray(z)"
   ]
  },
  {
   "cell_type": "code",
   "execution_count": 85,
   "metadata": {},
   "outputs": [
    {
     "data": {
      "text/plain": [
       "b'\\x01\\x02\\x03\\x04\\x058\\x05'"
      ]
     },
     "execution_count": 85,
     "metadata": {},
     "output_type": "execute_result"
    }
   ],
   "source": [
    "bytes(z)"
   ]
  },
  {
   "cell_type": "code",
   "execution_count": 86,
   "metadata": {},
   "outputs": [
    {
     "data": {
      "text/plain": [
       "<memory at 0x000001B1ABC0F4C8>"
      ]
     },
     "execution_count": 86,
     "metadata": {},
     "output_type": "execute_result"
    }
   ],
   "source": [
    "z=bytearray(z)\n",
    "memoryview(z)"
   ]
  },
  {
   "cell_type": "code",
   "execution_count": null,
   "metadata": {},
   "outputs": [],
   "source": []
  }
 ],
 "metadata": {
  "kernelspec": {
   "display_name": "Python 3",
   "language": "python",
   "name": "python3"
  },
  "language_info": {
   "codemirror_mode": {
    "name": "ipython",
    "version": 3
   },
   "file_extension": ".py",
   "mimetype": "text/x-python",
   "name": "python",
   "nbconvert_exporter": "python",
   "pygments_lexer": "ipython3",
   "version": "3.7.3"
  }
 },
 "nbformat": 4,
 "nbformat_minor": 2
}
