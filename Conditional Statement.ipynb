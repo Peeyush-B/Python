{
 "cells": [
  {
   "cell_type": "code",
   "execution_count": 1,
   "metadata": {},
   "outputs": [
    {
     "name": "stdout",
     "output_type": "stream",
     "text": [
      "if' body\n",
      "outer part\n"
     ]
    }
   ],
   "source": [
    "a=5\n",
    "if a==5:\n",
    "    print(\"if' body\")\n",
    "print(\"outer part\")"
   ]
  },
  {
   "cell_type": "code",
   "execution_count": 2,
   "metadata": {},
   "outputs": [
    {
     "name": "stdout",
     "output_type": "stream",
     "text": [
      "outer part\n"
     ]
    }
   ],
   "source": [
    "a=6\n",
    "if a==5:\n",
    "    print(\"if' body\")\n",
    "print(\"outer part\")"
   ]
  },
  {
   "cell_type": "code",
   "execution_count": 3,
   "metadata": {},
   "outputs": [
    {
     "name": "stdout",
     "output_type": "stream",
     "text": [
      "if' body\n",
      "outer part\n"
     ]
    }
   ],
   "source": [
    "if a:\n",
    "    print(\"if' body\")\n",
    "print(\"outer part\")"
   ]
  },
  {
   "cell_type": "code",
   "execution_count": 4,
   "metadata": {},
   "outputs": [
    {
     "name": "stdout",
     "output_type": "stream",
     "text": [
      "outer part\n"
     ]
    }
   ],
   "source": [
    "if 0:\n",
    "\n",
    "    print(\"if' body\")\n",
    "print(\"outer part\")"
   ]
  },
  {
   "cell_type": "code",
   "execution_count": 5,
   "metadata": {},
   "outputs": [
    {
     "name": "stdout",
     "output_type": "stream",
     "text": [
      "value of a is not 5\n"
     ]
    }
   ],
   "source": [
    "if a==5:\n",
    "    print('value of a =5')\n",
    "else:\n",
    "    print('value of a is not 5')"
   ]
  },
  {
   "cell_type": "code",
   "execution_count": 7,
   "metadata": {},
   "outputs": [
    {
     "name": "stdout",
     "output_type": "stream",
     "text": [
      "enter a number35\n",
      "given number is odd\n"
     ]
    }
   ],
   "source": [
    "a=int(input(\"enter a number\"))\n",
    "if a%2==0:\n",
    "    print(\"given numbre is even\")\n",
    "else:\n",
    "    print('given number is odd')"
   ]
  },
  {
   "cell_type": "code",
   "execution_count": 8,
   "metadata": {},
   "outputs": [
    {
     "name": "stdout",
     "output_type": "stream",
     "text": [
      "enter a number36\n",
      "given numbre is even\n"
     ]
    }
   ],
   "source": [
    "if int(input(\"enter a number\"))%2==0:\n",
    "    print(\"given numbre is even\")\n",
    "else:\n",
    "    print('given number is odd')"
   ]
  },
  {
   "cell_type": "code",
   "execution_count": 11,
   "metadata": {},
   "outputs": [
    {
     "name": "stdout",
     "output_type": "stream",
     "text": [
      "enter a number35\n",
      "given numbre is odd\n"
     ]
    }
   ],
   "source": [
    "if int(input(\"enter a number\"))%2:\n",
    "    print(\"given numbre is odd\")\n",
    "else:\n",
    "    print('given number is even')"
   ]
  },
  {
   "cell_type": "code",
   "execution_count": 12,
   "metadata": {},
   "outputs": [
    {
     "name": "stdout",
     "output_type": "stream",
     "text": [
      "enter a number34\n",
      "given number is even\n"
     ]
    }
   ],
   "source": [
    "if int(input(\"enter a number\"))%2:print(\"given numbre is odd\")\n",
    "else:print('given number is even')"
   ]
  },
  {
   "cell_type": "code",
   "execution_count": 13,
   "metadata": {},
   "outputs": [
    {
     "name": "stdout",
     "output_type": "stream",
     "text": [
      "enter a number34\n",
      "Even\n"
     ]
    }
   ],
   "source": [
    "print(\"odd\" if int(input(\"enter a number\"))%2 else \"Even\")"
   ]
  },
  {
   "cell_type": "code",
   "execution_count": 17,
   "metadata": {},
   "outputs": [
    {
     "name": "stdout",
     "output_type": "stream",
     "text": [
      "enter a16\n",
      "enter b3\n",
      "enter c5\n",
      "16 is greatest\n"
     ]
    }
   ],
   "source": [
    "a=int(input(\"enter a\"))\n",
    "b=int(input(\"enter b\"))\n",
    "c=int(input(\"enter c\"))\n",
    "if a>b:\n",
    "    if a>c:\n",
    "        print(f\"{a} is greatest\")\n",
    "    else:\n",
    "        print(f\"{c} is greatest\")\n",
    "else:\n",
    "    if b>c:\n",
    "        print(f\"{b} is greatest\")\n",
    "    else:\n",
    "        print(f\"{c} is greatest\")\n",
    "    "
   ]
  },
  {
   "cell_type": "code",
   "execution_count": 18,
   "metadata": {},
   "outputs": [
    {
     "name": "stdout",
     "output_type": "stream",
     "text": [
      "enter a1\n",
      "enter b1\n",
      "enter c1\n",
      "all are same\n"
     ]
    }
   ],
   "source": [
    "a=int(input(\"enter a\"))\n",
    "b=int(input(\"enter b\"))\n",
    "c=int(input(\"enter c\"))\n",
    "if a>b and a>c:\n",
    "    print(f\"{a} is greatest\")\n",
    "elif b>a and b>c:\n",
    "    print(f\"{b} is greatest\")\n",
    "elif c>a and c>b:\n",
    "    print(f\"{c} is greatest\")\n",
    "else:\n",
    "    print('all are same')"
   ]
  },
  {
   "cell_type": "code",
   "execution_count": 21,
   "metadata": {},
   "outputs": [
    {
     "name": "stdout",
     "output_type": "stream",
     "text": [
      "enter a number0\n",
      "0 is zero\n"
     ]
    }
   ],
   "source": [
    "a=int(input(\"enter a number\"))\n",
    "if a>0:\n",
    "    print(f\"{a} is positive\")\n",
    "elif a<0:\n",
    "    print(f\"{a} is negative\")\n",
    "else:\n",
    "    print(f'{a} is zero')"
   ]
  },
  {
   "cell_type": "code",
   "execution_count": 22,
   "metadata": {},
   "outputs": [
    {
     "name": "stdout",
     "output_type": "stream",
     "text": [
      "enter a23\n",
      "enter b45\n",
      "enter c32\n"
     ]
    },
    {
     "data": {
      "text/plain": [
       "45"
      ]
     },
     "execution_count": 22,
     "metadata": {},
     "output_type": "execute_result"
    }
   ],
   "source": [
    "a=int(input(\"enter a\"))\n",
    "b=int(input(\"enter b\"))\n",
    "c=int(input(\"enter c\"))\n",
    "max(a,b,c)"
   ]
  },
  {
   "cell_type": "code",
   "execution_count": 23,
   "metadata": {},
   "outputs": [
    {
     "name": "stdout",
     "output_type": "stream",
     "text": [
      "enter a12\n",
      "enter b34\n",
      "enter c55\n",
      "enter a33\n",
      "enter b12\n",
      "enter c09\n"
     ]
    },
    {
     "data": {
      "text/plain": [
       "55"
      ]
     },
     "execution_count": 23,
     "metadata": {},
     "output_type": "execute_result"
    }
   ],
   "source": [
    "a=int(input(\"enter a\"))\n",
    "b=int(input(\"enter b\"))\n",
    "c=int(input(\"enter c\"))\n",
    "d=int(input(\"enter d\"))\n",
    "e=int(input(\"enter e\"))\n",
    "f=int(input(\"enter f\"))\n",
    "max(a,b,c,d,e,f)"
   ]
  },
  {
   "cell_type": "code",
   "execution_count": 24,
   "metadata": {},
   "outputs": [],
   "source": [
    "from random import randint\n"
   ]
  },
  {
   "cell_type": "code",
   "execution_count": 33,
   "metadata": {},
   "outputs": [
    {
     "data": {
      "text/plain": [
       "9"
      ]
     },
     "execution_count": 33,
     "metadata": {},
     "output_type": "execute_result"
    }
   ],
   "source": [
    "randint(1,10)"
   ]
  },
  {
   "cell_type": "code",
   "execution_count": 34,
   "metadata": {},
   "outputs": [],
   "source": [
    "randint?"
   ]
  },
  {
   "cell_type": "code",
   "execution_count": 36,
   "metadata": {},
   "outputs": [
    {
     "name": "stdout",
     "output_type": "stream",
     "text": [
      "enter a number\n",
      "1.R\n",
      "2.P\n",
      "3.S :-3\n",
      "***computer wins***\n",
      "computer choice= 1\n"
     ]
    }
   ],
   "source": [
    "from time import sleep\n",
    "print(\"enter a number\")\n",
    "p=int(input(\"1.R\\n2.P\\n3.S :-\"))\n",
    "c=randint(1,3)\n",
    "sleep(1)\n",
    "if p==c:\n",
    "    print(\"***Draw***\")\n",
    "elif p==1 and c==3 or p==2 and c==1 or p==3 and c==2:\n",
    "    print(\"***Player wins***\")\n",
    "    print(\"computer choice =\",c)\n",
    "else:\n",
    "    print(\"***computer wins***\")\n",
    "    print(\"computer choice=\",c)\n",
    "\n",
    "    "
   ]
  },
  {
   "cell_type": "code",
   "execution_count": 38,
   "metadata": {},
   "outputs": [
    {
     "name": "stdout",
     "output_type": "stream",
     "text": [
      "enter foo|barFOO\n",
      "enter only foo|bar\n"
     ]
    }
   ],
   "source": [
    "a=input(\"enter foo|bar\")\n",
    "if a=='foo':\n",
    "    print(\"bar\")\n",
    "elif a=='bar':\n",
    "    print(\"foo\")\n",
    "else:\n",
    "    print(\"enter only foo|bar\")"
   ]
  },
  {
   "cell_type": "code",
   "execution_count": 39,
   "metadata": {},
   "outputs": [
    {
     "name": "stdout",
     "output_type": "stream",
     "text": [
      "enter foo|bar     FOO\n",
      "bar\n"
     ]
    }
   ],
   "source": [
    "a=input(\"enter foo|bar\").lower().strip()\n",
    "if a=='foo':\n",
    "    print(\"bar\")\n",
    "elif a=='bar':\n",
    "    print(\"foo\")\n",
    "else:\n",
    "    print(\"enter only foo|bar\")"
   ]
  },
  {
   "cell_type": "code",
   "execution_count": 40,
   "metadata": {},
   "outputs": [],
   "source": [
    "from random import choice"
   ]
  },
  {
   "cell_type": "code",
   "execution_count": 42,
   "metadata": {},
   "outputs": [
    {
     "name": "stdout",
     "output_type": "stream",
     "text": [
      "enter a number\n",
      "R\n",
      "P\n",
      "S :-r\n",
      "***Player wins***\n",
      "computer choice = p\n"
     ]
    }
   ],
   "source": [
    "from time import sleep\n",
    "print(\"enter a number\")\n",
    "p=input(\"R\\nP\\nS :-\").lower().strip()\n",
    "c=choice(\"rps\")\n",
    "sleep(1)\n",
    "if p==c:\n",
    "    print(\"***Draw***\")\n",
    "elif p==\"r\" and c==\"s\" or p==\"p\" and c==\"r\" or p==\"r\" and c==\"p\":\n",
    "    print(\"***Player wins***\")\n",
    "    print(\"computer choice =\",c)\n",
    "else:\n",
    "    print(\"***computer wins***\")\n",
    "    print(\"computer choice=\",c)\n"
   ]
  },
  {
   "cell_type": "code",
   "execution_count": 46,
   "metadata": {},
   "outputs": [
    {
     "name": "stdout",
     "output_type": "stream",
     "text": [
      "enter a number1456541\n",
      "given number is palindrome\n"
     ]
    }
   ],
   "source": [
    "a=input(\"enter a number\")\n",
    "b=a[::-1]\n",
    "if a==b:\n",
    "    print(\"given number is palindrome\")\n",
    "else:\n",
    "    print(\"given number is not palindrome\")\n"
   ]
  },
  {
   "cell_type": "code",
   "execution_count": 49,
   "metadata": {},
   "outputs": [
    {
     "name": "stdout",
     "output_type": "stream",
     "text": [
      "enter a stringbcd\n",
      "not present\n"
     ]
    }
   ],
   "source": [
    "s=input(\"enter a string\")\n",
    "l=list(s)\n",
    "if 'a' in l or 'e' in l or 'i' in l or 'o' in l or 'u' in l:\n",
    "    print(\"present\")\n",
    "else:\n",
    "    print(\"not present\")\n",
    "    "
   ]
  },
  {
   "cell_type": "code",
   "execution_count": 56,
   "metadata": {},
   "outputs": [
    {
     "name": "stdout",
     "output_type": "stream",
     "text": [
      "enter a stringpeeyush\n",
      "3\n"
     ]
    }
   ],
   "source": [
    "s=input(\"enter a string\")\n",
    "i=0\n",
    "i+=s.count('a')\n",
    "i+=s.count('e')\n",
    "i+=s.count('i')\n",
    "i+=s.count('o')\n",
    "i+=s.count('u')\n",
    "print(i)"
   ]
  },
  {
   "cell_type": "code",
   "execution_count": 57,
   "metadata": {},
   "outputs": [
    {
     "name": "stdout",
     "output_type": "stream",
     "text": [
      "enter a stringpeeyush\n",
      "3\n"
     ]
    }
   ],
   "source": [
    "s=input(\"enter a string\")\n",
    "print(s.count('a')+s.count('e')+s.count('i')+s.count('o')+s.count('u'))"
   ]
  },
  {
   "cell_type": "code",
   "execution_count": 59,
   "metadata": {},
   "outputs": [
    {
     "name": "stdout",
     "output_type": "stream",
     "text": [
      "hello\n"
     ]
    }
   ],
   "source": [
    "if a==5:\n",
    "    pass\n",
    "else:\n",
    "    print(\"hello\")\n"
   ]
  },
  {
   "cell_type": "code",
   "execution_count": 18,
   "metadata": {},
   "outputs": [
    {
     "name": "stdout",
     "output_type": "stream",
     "text": [
      "---------TRUTH & DARE---------\n",
      "enter players name seprated by ',':-PEEyush,kanishk,ally,loky\n",
      "****ally is playing****\n",
      "Chose One:-\n",
      "1.Truth\n",
      "2.Dare2\n",
      "your task is-> Be someone’s pet for the next 5 minutes\n"
     ]
    }
   ],
   "source": [
    "from random import choice\n",
    "from random import randint\n",
    "q=['Tell me about your most awkward date',\n",
    "   'What are you most self-conscious about?',\n",
    "   'What is the biggest lie you have ever told',\n",
    "   'What is the most embarrassing picture of you',\n",
    "   'Tell us your most embarrassing vomit story',\n",
    "   'What do most people think is true about you, but isn’t'\n",
    "  ]\n",
    "d=['Talk in an accent for the next 3 rounds',\n",
    "   'Attempt to do a magic trick',\n",
    "   'Do four cartwheels in row',\n",
    "   'Be someone’s pet for the next 5 minutes',\n",
    "   'Attempt to break dance for 30 seconds'\n",
    "  ]\n",
    "print(\"TRUTH & DARE\".center(30,'-'))\n",
    "n=input(\"enter players name seprated by ',':-\").split(',')\n",
    "name=n[randint(0,len(n)-1)]\n",
    "print(f\"****{name} is playing****\")\n",
    "c=int(input(\"Chose One:-\\n1.Truth\\n2.Dare\"))\n",
    "if c==1:\n",
    "    trt=choice(t)\n",
    "    print(\"your question is->\",trt)\n",
    "elif c==2:\n",
    "    tsk=choice(d)\n",
    "    print(\"your task is->\",tsk)\n",
    "else:\n",
    "    print(\"chose only 1 or 2\")\n"
   ]
  },
  {
   "cell_type": "code",
   "execution_count": 8,
   "metadata": {},
   "outputs": [],
   "source": [
    "l1=[1,2,3,4,5]"
   ]
  },
  {
   "cell_type": "code",
   "execution_count": 10,
   "metadata": {},
   "outputs": [
    {
     "ename": "AttributeError",
     "evalue": "'list' object has no attribute 'deepcopy'",
     "output_type": "error",
     "traceback": [
      "\u001b[1;31m---------------------------------------------------------------------------\u001b[0m",
      "\u001b[1;31mAttributeError\u001b[0m                            Traceback (most recent call last)",
      "\u001b[1;32m<ipython-input-10-c1f4e1e122a0>\u001b[0m in \u001b[0;36m<module>\u001b[1;34m\u001b[0m\n\u001b[0;32m      1\u001b[0m \u001b[0ml2\u001b[0m\u001b[1;33m=\u001b[0m\u001b[0ml1\u001b[0m\u001b[1;33m.\u001b[0m\u001b[0mcopy\u001b[0m\u001b[1;33m(\u001b[0m\u001b[1;33m)\u001b[0m\u001b[1;33m\u001b[0m\u001b[1;33m\u001b[0m\u001b[0m\n\u001b[1;32m----> 2\u001b[1;33m \u001b[0ml3\u001b[0m\u001b[1;33m=\u001b[0m\u001b[0ml1\u001b[0m\u001b[1;33m.\u001b[0m\u001b[0mdeepcopy\u001b[0m\u001b[1;33m(\u001b[0m\u001b[1;33m)\u001b[0m\u001b[1;33m\u001b[0m\u001b[1;33m\u001b[0m\u001b[0m\n\u001b[0m",
      "\u001b[1;31mAttributeError\u001b[0m: 'list' object has no attribute 'deepcopy'"
     ]
    }
   ],
   "source": [
    "l2=l1.copy()\n",
    "l3=l1.deepcopy()\n"
   ]
  },
  {
   "cell_type": "code",
   "execution_count": 12,
   "metadata": {},
   "outputs": [],
   "source": [
    "d='sss'"
   ]
  },
  {
   "cell_type": "code",
   "execution_count": 14,
   "metadata": {},
   "outputs": [],
   "source": [
    "d.center?"
   ]
  },
  {
   "cell_type": "code",
   "execution_count": 19,
   "metadata": {},
   "outputs": [
    {
     "data": {
      "text/plain": [
       "-5"
      ]
     },
     "execution_count": 19,
     "metadata": {},
     "output_type": "execute_result"
    }
   ],
   "source": [
    "~4\n"
   ]
  },
  {
   "cell_type": "code",
   "execution_count": 22,
   "metadata": {},
   "outputs": [
    {
     "data": {
      "text/plain": [
       "-3"
      ]
     },
     "execution_count": 22,
     "metadata": {},
     "output_type": "execute_result"
    }
   ],
   "source": [
    "i=2\n",
    "~i"
   ]
  },
  {
   "cell_type": "code",
   "execution_count": null,
   "metadata": {},
   "outputs": [],
   "source": []
  }
 ],
 "metadata": {
  "kernelspec": {
   "display_name": "Python 3",
   "language": "python",
   "name": "python3"
  },
  "language_info": {
   "codemirror_mode": {
    "name": "ipython",
    "version": 3
   },
   "file_extension": ".py",
   "mimetype": "text/x-python",
   "name": "python",
   "nbconvert_exporter": "python",
   "pygments_lexer": "ipython3",
   "version": "3.7.3"
  }
 },
 "nbformat": 4,
 "nbformat_minor": 2
}
