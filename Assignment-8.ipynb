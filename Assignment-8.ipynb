{
 "cells": [
  {
   "cell_type": "code",
   "execution_count": 1,
   "metadata": {},
   "outputs": [
    {
     "name": "stdout",
     "output_type": "stream",
     "text": [
      "enter a number:-25\n",
      "square root= 5.0\n",
      "square root= 5.0\n"
     ]
    }
   ],
   "source": [
    "from math import sqrt\n",
    "a=int(input('enter a number:-'))\n",
    "print('square root=',sqrt(a))\n",
    "print('square root=',a**.5)"
   ]
  },
  {
   "cell_type": "code",
   "execution_count": 7,
   "metadata": {},
   "outputs": [
    {
     "name": "stdout",
     "output_type": "stream",
     "text": [
      "enter all sides os triangle:-\n",
      "13\n",
      "12\n",
      "11\n",
      "area = 61.48170459575759\n"
     ]
    }
   ],
   "source": [
    "print('enter all sides os triangle:-')\n",
    "a=int(input())\n",
    "b=int(input())\n",
    "c=int(input())\n",
    "s=(a+b+c)/2\n",
    "ar=sqrt(s*(s-a)*(s-b)*(s-c))\n",
    "print(\"area =\",ar)"
   ]
  },
  {
   "cell_type": "code",
   "execution_count": 9,
   "metadata": {},
   "outputs": [
    {
     "name": "stdout",
     "output_type": "stream",
     "text": [
      "Quadratic equation: a*x^2+b*x+c\n",
      "Enter a1\n",
      "Enter b5\n",
      "Enter c6\n",
      "Root 1=-2.0  Root 2=-3.0\n"
     ]
    }
   ],
   "source": [
    "print(\"Quadratic equation: a*x^2+b*x+c\")\n",
    "a=int(input(\"Enter a\"))\n",
    "b=int(input(\"Enter b\"))\n",
    "c=int(input(\"Enter c\"))\n",
    "r=(b**2)-4*(a*c)\n",
    "r1=r**(1/2)\n",
    "if r>0:\n",
    "    s1=((-b)+r1)/(2*a)\n",
    "    s2=((-b)-r1)/(2*a)\n",
    "    print(f\"Root 1={s1}  Root 2={s2}\")\n",
    "elif r==0:\n",
    "    s1=-b/2*a\n",
    "    print(f\"Root ={s1}\")\n",
    "else:\n",
    "    print(\"Invaid\")"
   ]
  },
  {
   "cell_type": "code",
   "execution_count": 10,
   "metadata": {},
   "outputs": [
    {
     "name": "stdout",
     "output_type": "stream",
     "text": [
      "12\n",
      "13\n",
      "before swap\n",
      "a=12\tb=13\n",
      "after swap\n",
      "a=13\tb=12\n"
     ]
    }
   ],
   "source": [
    "a=int(input())\n",
    "b=int(input())\n",
    "print(f'before swap\\na={a}\\tb={b}')\n",
    "a,b=b,a\n",
    "print(f'after swap\\na={a}\\tb={b}')"
   ]
  },
  {
   "cell_type": "code",
   "execution_count": 16,
   "metadata": {},
   "outputs": [
    {
     "name": "stdout",
     "output_type": "stream",
     "text": [
      "6\n"
     ]
    }
   ],
   "source": [
    "from random import randint\n",
    "print(randint(0,9))"
   ]
  },
  {
   "cell_type": "code",
   "execution_count": 18,
   "metadata": {},
   "outputs": [
    {
     "name": "stdout",
     "output_type": "stream",
     "text": [
      "enter distance in kilometer:-70\n",
      "distance in miles= 43.4959833\n"
     ]
    }
   ],
   "source": [
    "n=int(input('enter distance in kilometer:-'))\n",
    "mil=n*0.62137119\n",
    "print('distance in miles=',mil)"
   ]
  },
  {
   "cell_type": "code",
   "execution_count": 19,
   "metadata": {},
   "outputs": [
    {
     "name": "stdout",
     "output_type": "stream",
     "text": [
      "enter temprature in celsius:--40\n",
      "temprature in fahrenheit= -40.0\n"
     ]
    }
   ],
   "source": [
    "c=int(input('enter temprature in celsius:-'))\n",
    "f=(c*9/5)+32\n",
    "print('temprature in fahrenheit=',f)"
   ]
  },
  {
   "cell_type": "code",
   "execution_count": 31,
   "metadata": {},
   "outputs": [
    {
     "name": "stdout",
     "output_type": "stream",
     "text": [
      "enter a number100\n",
      "Not Prime\n"
     ]
    }
   ],
   "source": [
    "n=int(input('enter a number'))\n",
    "x=0\n",
    "for i in range(2,n):\n",
    "    if n%i==0:\n",
    "        x=1\n",
    "        break\n",
    "if x==0:\n",
    "    print('Prime')\n",
    "else:\n",
    "    print('Not Prime')"
   ]
  },
  {
   "cell_type": "code",
   "execution_count": 40,
   "metadata": {},
   "outputs": [
    {
     "name": "stdout",
     "output_type": "stream",
     "text": [
      "enter interval->\n",
      "begning:-0\n",
      "ending:-20\n",
      "0 1 2 3 5 7 11 13 17 19 "
     ]
    }
   ],
   "source": [
    "def prime(n):\n",
    "    if n in [0,1,2]:\n",
    "        print(n,end=' ')\n",
    "    else:\n",
    "        for i in range(2,n):\n",
    "            x=0\n",
    "            if n%i==0:\n",
    "                x=1\n",
    "                return\n",
    "        if x==0:\n",
    "            print(n,end=' ')\n",
    "print(\"enter interval->\")\n",
    "a=int(input(\"begning:-\"))\n",
    "b=int(input(\"ending:-\"))\n",
    "for var in range(a,b+1):\n",
    "    prime(var)\n"
   ]
  },
  {
   "cell_type": "code",
   "execution_count": 42,
   "metadata": {},
   "outputs": [
    {
     "name": "stdout",
     "output_type": "stream",
     "text": [
      "enter a number5\n",
      "factorial  of given number = 120\n"
     ]
    }
   ],
   "source": [
    "n=int(input(\"enter a number\"))\n",
    "fact=1\n",
    "while n>0:\n",
    "    fact*=n\n",
    "    n=n-1\n",
    "print('factorial  of given number =',fact)\n"
   ]
  },
  {
   "cell_type": "code",
   "execution_count": 43,
   "metadata": {},
   "outputs": [
    {
     "name": "stdout",
     "output_type": "stream",
     "text": [
      "enter a number:-5\n",
      "5 X 1 = 5\n",
      "5 X 2 = 10\n",
      "5 X 3 = 15\n",
      "5 X 4 = 20\n",
      "5 X 5 = 25\n",
      "5 X 6 = 30\n",
      "5 X 7 = 35\n",
      "5 X 8 = 40\n",
      "5 X 9 = 45\n",
      "5 X 10 = 50\n"
     ]
    }
   ],
   "source": [
    "n=int(input('enter a number:-'))\n",
    "for var in range(1,11):\n",
    "    print(f\"{n} X {var} =\",n*var)"
   ]
  },
  {
   "cell_type": "code",
   "execution_count": 44,
   "metadata": {},
   "outputs": [
    {
     "name": "stdout",
     "output_type": "stream",
     "text": [
      "enter the length of fibonacci series:-10\n",
      "0 1 1 2 3 5 8 13 21 34 "
     ]
    }
   ],
   "source": [
    "n=int(input('enter the length of fibonacci series:-'))\n",
    "a=0\n",
    "b=1\n",
    "for var in range(n):\n",
    "    print(a,end=' ')\n",
    "    c=a+b\n",
    "    a=b\n",
    "    b=c\n",
    "    \n",
    "    "
   ]
  },
  {
   "cell_type": "code",
   "execution_count": 49,
   "metadata": {},
   "outputs": [
    {
     "name": "stdout",
     "output_type": "stream",
     "text": [
      "enter a number:-371\n",
      "armstrong\n"
     ]
    }
   ],
   "source": [
    "n=list(input('enter a number:-'))\n",
    "sum=0\n",
    "for var in n:\n",
    "    sum+=int(var)**3\n",
    "if str(sum)==''.join(n):\n",
    "    print(\"armstrong\")\n",
    "else:\n",
    "    print(\"not armstrong\")"
   ]
  },
  {
   "cell_type": "code",
   "execution_count": 53,
   "metadata": {},
   "outputs": [
    {
     "name": "stdout",
     "output_type": "stream",
     "text": [
      "enter interval->\n",
      "begning:-0\n",
      "ending:-1000\n",
      "0 1 153 370 371 407 "
     ]
    }
   ],
   "source": [
    "def arm(n):\n",
    "    n=list(str(n))\n",
    "    sum=0\n",
    "    for var in n:\n",
    "        sum+=int(var)**3\n",
    "    if str(sum)==''.join(n):\n",
    "        print(sum,end=' ')\n",
    "           \n",
    "\n",
    "print(\"enter interval->\")\n",
    "a=int(input(\"begning:-\"))\n",
    "b=int(input(\"ending:-\"))\n",
    "for var in range(a,b+1):\n",
    "    arm(var)"
   ]
  },
  {
   "cell_type": "code",
   "execution_count": 56,
   "metadata": {},
   "outputs": [
    {
     "name": "stdout",
     "output_type": "stream",
     "text": [
      "enter n to calculate sum of first n natural number1000\n",
      "sum of first 1000 natural numbers= 500500\n"
     ]
    }
   ],
   "source": [
    "n=int(input('enter n to calculate sum of first n natural number'))\n",
    "sum=0\n",
    "for i in range(n+1):\n",
    "    sum+=i\n",
    "print(f\"sum of first {n} natural numbers=\",sum)"
   ]
  },
  {
   "cell_type": "code",
   "execution_count": 1,
   "metadata": {},
   "outputs": [
    {
     "name": "stdout",
     "output_type": "stream",
     "text": [
      "2^0= 1\n",
      "2^1= 2\n",
      "2^2= 4\n",
      "2^3= 8\n",
      "2^4= 16\n",
      "2^5= 32\n",
      "2^6= 64\n",
      "2^7= 128\n",
      "2^8= 256\n",
      "2^9= 512\n",
      "2^10= 1024\n"
     ]
    }
   ],
   "source": [
    "l=list(map(lambda x:2**x,range(0,11)))\n",
    "for var in range(0,len(l)):\n",
    "    print(f\"2^{var}=\",l[var])\n"
   ]
  },
  {
   "cell_type": "code",
   "execution_count": 9,
   "metadata": {},
   "outputs": [
    {
     "name": "stdout",
     "output_type": "stream",
     "text": [
      "enter a number5\n",
      "number divide by 5 ->\n",
      "5,10,15,20,25,30,35,40,45,50,55,60,65,70,75,80,85,90,95,"
     ]
    }
   ],
   "source": [
    "n=int(input(\"enter a number\"))\n",
    "print(\"number divide by\",n,\"->\")\n",
    "for i in range(1,100):\n",
    "    if i%n==0:\n",
    "        print(i,end=',')\n",
    "        "
   ]
  },
  {
   "cell_type": "code",
   "execution_count": 11,
   "metadata": {},
   "outputs": [
    {
     "name": "stdout",
     "output_type": "stream",
     "text": [
      "enter a number:-10\n",
      "binary:- 0b1010\n",
      "octal:- 0o12\n",
      "hexadecimal:- 0xa\n"
     ]
    }
   ],
   "source": [
    "n=int(input(\"enter a number:-\"))\n",
    "print(\"binary:-\",bin(n))\n",
    "print(\"octal:-\",oct(n))\n",
    "print(\"hexadecimal:-\",hex(n))"
   ]
  },
  {
   "cell_type": "code",
   "execution_count": 23,
   "metadata": {},
   "outputs": [
    {
     "name": "stdout",
     "output_type": "stream",
     "text": [
      "enter a charactor:-#\n",
      "ASCII value of # -> 35\n"
     ]
    }
   ],
   "source": [
    "n=input(\"enter a charactor:-\")\n",
    "print(f\"ASCII value of {n} ->\",ord(n))"
   ]
  },
  {
   "cell_type": "code",
   "execution_count": 28,
   "metadata": {},
   "outputs": [
    {
     "name": "stdout",
     "output_type": "stream",
     "text": [
      "enter 1st number:-4\n",
      "enter 2nd number:-8\n",
      "HCF of 4 and 8= 4\n"
     ]
    }
   ],
   "source": [
    "a=int(input(\"enter 1st number:-\"))\n",
    "b=int(input(\"enter 2nd number:-\"))\n",
    "for i in range(1,min(a+1,b+1)):\n",
    "    if a%i==0 and a%i==0:\n",
    "        x=i\n",
    "print(f'HCF of {a} and {b}=',x)"
   ]
  },
  {
   "cell_type": "code",
   "execution_count": 32,
   "metadata": {},
   "outputs": [
    {
     "name": "stdout",
     "output_type": "stream",
     "text": [
      "enter 1st number:-4\n",
      "enter 2nd number:-3\n",
      "LCM of 4 and 3= 12\n"
     ]
    }
   ],
   "source": [
    "a=int(input(\"enter 1st number:-\"))\n",
    "b=int(input(\"enter 2nd number:-\"))\n",
    "for i in range(1,max(a+1,b+1)):\n",
    "    if i%a==0 and i%b==0:\n",
    "        x=i\n",
    "        break\n",
    "print(f'LCM of {a} and {b}=',x)"
   ]
  },
  {
   "cell_type": "code",
   "execution_count": 33,
   "metadata": {},
   "outputs": [
    {
     "name": "stdout",
     "output_type": "stream",
     "text": [
      "enter a number50\n",
      "factors of 50 -->\n",
      "1,2,5,10,25,50,"
     ]
    }
   ],
   "source": [
    "n=int(input(\"enter a number\"))\n",
    "print(f\"factors of {n} -->\")\n",
    "for i in range(1,n+1):\n",
    "    if n%i==0:\n",
    "        print(i,end=\",\")"
   ]
  },
  {
   "cell_type": "code",
   "execution_count": 4,
   "metadata": {},
   "outputs": [
    {
     "name": "stdout",
     "output_type": "stream",
     "text": [
      "enter 1st number2\n",
      "enter 2nd number6\n",
      "enter operation to perform:-\n",
      "+\t-\n",
      "*\t/\n",
      "**\t%\n",
      "**\n",
      "64\n"
     ]
    }
   ],
   "source": [
    "a=int(input('enter 1st number'))\n",
    "b=int(input('enter 2nd number'))\n",
    "x=input(\"enter operation to perform:-\\n+\\t-\\n*\\t/\\n**\\t%\\n\")\n",
    "if x=='+':\n",
    "    print(a+b)\n",
    "elif x=='-':\n",
    "    print(a-b)\n",
    "elif x=='*':\n",
    "    print(a*b)\n",
    "elif x=='/':\n",
    "    print(a/b)\n",
    "elif x=='**':\n",
    "    print(a**b)\n",
    "elif x=='%':\n",
    "    print(a%b)\n",
    "else:\n",
    "    print(\"invalid operation\")"
   ]
  },
  {
   "cell_type": "code",
   "execution_count": 5,
   "metadata": {},
   "outputs": [
    {
     "name": "stdout",
     "output_type": "stream",
     "text": [
      "enter the length of fibonacci series:-10\n",
      "0 1 1 2 3 5 8 13 21 34 55 "
     ]
    }
   ],
   "source": [
    "def fib(x,y):\n",
    "    global c\n",
    "    if c<=n:\n",
    "        print(x,end=' ')\n",
    "        c+=1\n",
    "        fib(y,x+y)\n",
    "    \n",
    "n=int(input('enter the length of fibonacci series:-'))\n",
    "c=0\n",
    "fib(0,1)"
   ]
  },
  {
   "cell_type": "code",
   "execution_count": 6,
   "metadata": {},
   "outputs": [
    {
     "name": "stdout",
     "output_type": "stream",
     "text": [
      "enter value of n to find sum of 1st n natural number:-100\n",
      "sum of 1st 100 natural number= 5050\n"
     ]
    }
   ],
   "source": [
    "def sm(x):\n",
    "    global sum\n",
    "    if x>0:\n",
    "        sum=sum+x\n",
    "        sm(x-1)\n",
    "n=int(input('enter value of n to find sum of 1st n natural number:-'))\n",
    "sum=0\n",
    "sm(n)\n",
    "print(f\"sum of 1st {n} natural number=\",sum)"
   ]
  },
  {
   "cell_type": "code",
   "execution_count": 41,
   "metadata": {},
   "outputs": [
    {
     "name": "stdout",
     "output_type": "stream",
     "text": [
      "You card: King of Heart\n"
     ]
    }
   ],
   "source": [
    "from itertools import product\n",
    "import random\n",
    "deck1= list(product(range(2,12),['Spade','Heart','Diamond','Club']))\n",
    "deck2=list(product(['Ace','Jack','Queen','King'],['Spade','Heart','Diamond','Club']))\n",
    "deck=deck1+deck2\n",
    "random.shuffle(deck)\n",
    "i=random.randint(0,13)\n",
    "print(\"You card:\",deck[i][0], \"of\", deck[i][1])"
   ]
  },
  {
   "cell_type": "code",
   "execution_count": 46,
   "metadata": {},
   "outputs": [
    {
     "name": "stdout",
     "output_type": "stream",
     "text": [
      "Enter year:-1999\n",
      "Enter month:-5\n",
      "      May 1999\n",
      "Mo Tu We Th Fr Sa Su\n",
      "                1  2\n",
      " 3  4  5  6  7  8  9\n",
      "10 11 12 13 14 15 16\n",
      "17 18 19 20 21 22 23\n",
      "24 25 26 27 28 29 30\n",
      "31\n",
      "\n"
     ]
    }
   ],
   "source": [
    "from calendar import month\n",
    "yy = int(input(\"Enter year:-\"))\n",
    "mm = int(input(\"Enter month:-\"))\n",
    "print(month(yy, mm))"
   ]
  },
  {
   "cell_type": "code",
   "execution_count": 44,
   "metadata": {},
   "outputs": [],
   "source": [
    "month?"
   ]
  },
  {
   "cell_type": "code",
   "execution_count": 48,
   "metadata": {},
   "outputs": [
    {
     "name": "stdout",
     "output_type": "stream",
     "text": [
      "enter a number:-5\n",
      "factorial of  5 = 120\n"
     ]
    }
   ],
   "source": [
    "def rec(x):\n",
    "    if x>0:\n",
    "        return x*rec(x-1)\n",
    "    else:\n",
    "        return 1\n",
    "n=int(input(\"enter a number:-\"))\n",
    "print(\"factorial of \",n,\"=\",rec(n))"
   ]
  },
  {
   "cell_type": "code",
   "execution_count": 51,
   "metadata": {},
   "outputs": [
    {
     "name": "stdout",
     "output_type": "stream",
     "text": [
      "enter [1]-[1]:-1\n",
      "enter [1]-[2]:-2\n",
      "enter [2]-[1]:-3\n",
      "enter [2]-[2]:-4\n",
      "enter [1]-[1]:-1\n",
      "enter [1]-[2]:-2\n",
      "enter [2]-[1]:-3\n",
      "enter [2]-[2]:-4\n"
     ]
    }
   ],
   "source": [
    "m1=[[int(input(f'enter [{r+1}]-[{c+1}]:-'))for c in range(2)]for r in range(2)]\n",
    "m2=[[int(input(f'enter [{r+1}]-[{c+1}]:-'))for c in range(2)]for r in range(2)]"
   ]
  },
  {
   "cell_type": "code",
   "execution_count": 66,
   "metadata": {},
   "outputs": [
    {
     "name": "stdout",
     "output_type": "stream",
     "text": [
      "enter [1]-[1]:-1\n",
      "enter [1]-[2]:-2\n",
      "enter [2]-[1]:-3\n",
      "enter [2]-[2]:-4\n",
      "enter [1]-[1]:-1\n",
      "enter [1]-[2]:-2\n",
      "enter [2]-[1]:-3\n",
      "enter [2]-[2]:-4\n",
      "[[2, 4],\n",
      " [6, 8]]\n"
     ]
    }
   ],
   "source": [
    "from pprint import pprint\n",
    "m1=[[int(input(f'enter [{r+1}]-[{c+1}]:-'))for c in range(2)]for r in range(2)]\n",
    "m2=[[int(input(f'enter [{r+1}]-[{c+1}]:-'))for c in range(2)]for r in range(2)]\n",
    "sum=[[m1[r][c]+m2[r][c]for c in range(2)]for r in range(2)]\n",
    "\n",
    "pprint(sum,width=15)"
   ]
  },
  {
   "cell_type": "code",
   "execution_count": 61,
   "metadata": {},
   "outputs": [
    {
     "name": "stdout",
     "output_type": "stream",
     "text": [
      "enter [1]-[1]:-1\n",
      "enter [1]-[2]:-2\n",
      "enter [2]-[1]:-3\n",
      "enter [2]-[2]:-4\n",
      "\n",
      "1 3 \n",
      "2 4 "
     ]
    }
   ],
   "source": [
    "from pprint import pprint\n",
    "m1=[[int(input(f'enter [{r+1}]-[{c+1}]:-'))for c in range(2)]for r in range(2)]\n",
    "\n",
    "for r in range(2):\n",
    "    print('')\n",
    "    for c in range(2):\n",
    "        print(m1[c][r],end=' ')"
   ]
  },
  {
   "cell_type": "code",
   "execution_count": 64,
   "metadata": {},
   "outputs": [
    {
     "name": "stdout",
     "output_type": "stream",
     "text": [
      "enter [1]-[1]:-1\n",
      "enter [1]-[2]:-2\n",
      "enter [2]-[1]:-3\n",
      "enter [2]-[2]:-4\n",
      "[[1, 3],\n",
      " [2, 4]]\n"
     ]
    }
   ],
   "source": [
    "m1=[[int(input(f'enter [{r+1}]-[{c+1}]:-'))for c in range(2)]for r in range(2)]\n",
    "tp=[[m1[c][r]for c in range(2)]for r in range(2)]\n",
    "pprint(tp,width=10)"
   ]
  },
  {
   "cell_type": "code",
   "execution_count": 68,
   "metadata": {},
   "outputs": [
    {
     "name": "stdout",
     "output_type": "stream",
     "text": [
      "enter a string:-abcba\n",
      "pallindrome\n"
     ]
    }
   ],
   "source": [
    "n=input('enter a string:-')\n",
    "if n==n[::-1]:print(\"pallindrome\")\n",
    "else:print(\"not pallindrome\")"
   ]
  },
  {
   "cell_type": "code",
   "execution_count": 71,
   "metadata": {},
   "outputs": [
    {
     "name": "stdout",
     "output_type": "stream",
     "text": [
      "enter a string:-peeyush,amskgd,dadadda?lknjasid\n"
     ]
    },
    {
     "ename": "AttributeError",
     "evalue": "'list' object has no attribute 'isalpha'",
     "output_type": "error",
     "traceback": [
      "\u001b[1;31m---------------------------------------------------------------------------\u001b[0m",
      "\u001b[1;31mAttributeError\u001b[0m                            Traceback (most recent call last)",
      "\u001b[1;32m<ipython-input-71-a769da227362>\u001b[0m in \u001b[0;36m<module>\u001b[1;34m\u001b[0m\n\u001b[0;32m      2\u001b[0m \u001b[0mx\u001b[0m\u001b[1;33m=\u001b[0m\u001b[0mn\u001b[0m\u001b[1;33m.\u001b[0m\u001b[0mcopy\u001b[0m\u001b[1;33m(\u001b[0m\u001b[1;33m)\u001b[0m\u001b[1;33m\u001b[0m\u001b[1;33m\u001b[0m\u001b[0m\n\u001b[0;32m      3\u001b[0m \u001b[1;32mfor\u001b[0m \u001b[0mi\u001b[0m \u001b[1;32min\u001b[0m \u001b[0mx\u001b[0m\u001b[1;33m:\u001b[0m\u001b[1;33m\u001b[0m\u001b[1;33m\u001b[0m\u001b[0m\n\u001b[1;32m----> 4\u001b[1;33m     \u001b[1;32mif\u001b[0m \u001b[0mx\u001b[0m\u001b[1;33m.\u001b[0m\u001b[0misalpha\u001b[0m\u001b[1;33m(\u001b[0m\u001b[1;33m)\u001b[0m\u001b[1;33m:\u001b[0m\u001b[1;32mpass\u001b[0m\u001b[1;33m\u001b[0m\u001b[1;33m\u001b[0m\u001b[0m\n\u001b[0m\u001b[0;32m      5\u001b[0m     \u001b[1;32melse\u001b[0m\u001b[1;33m:\u001b[0m\u001b[0mn\u001b[0m\u001b[1;33m.\u001b[0m\u001b[0mremove\u001b[0m\u001b[1;33m(\u001b[0m\u001b[0mx\u001b[0m\u001b[1;33m)\u001b[0m\u001b[1;33m\u001b[0m\u001b[1;33m\u001b[0m\u001b[0m\n\u001b[0;32m      6\u001b[0m \u001b[0mn\u001b[0m\u001b[1;33m=\u001b[0m\u001b[1;34m''\u001b[0m\u001b[1;33m.\u001b[0m\u001b[0mjoin\u001b[0m\u001b[1;33m(\u001b[0m\u001b[0mn\u001b[0m\u001b[1;33m)\u001b[0m\u001b[1;33m\u001b[0m\u001b[1;33m\u001b[0m\u001b[0m\n",
      "\u001b[1;31mAttributeError\u001b[0m: 'list' object has no attribute 'isalpha'"
     ]
    }
   ],
   "source": [
    "n=list(input('enter a string:-'))\n",
    "x=n.copy()\n",
    "for i in x:\n",
    "    if x.isalpha():pass\n",
    "    else:n.remove(x)\n",
    "n=''.join(n)\n",
    "print(n)"
   ]
  },
  {
   "cell_type": "code",
   "execution_count": 69,
   "metadata": {},
   "outputs": [],
   "source": []
  },
  {
   "cell_type": "code",
   "execution_count": null,
   "metadata": {},
   "outputs": [],
   "source": []
  }
 ],
 "metadata": {
  "kernelspec": {
   "display_name": "Python 3",
   "language": "python",
   "name": "python3"
  },
  "language_info": {
   "codemirror_mode": {
    "name": "ipython",
    "version": 3
   },
   "file_extension": ".py",
   "mimetype": "text/x-python",
   "name": "python",
   "nbconvert_exporter": "python",
   "pygments_lexer": "ipython3",
   "version": "3.7.3"
  }
 },
 "nbformat": 4,
 "nbformat_minor": 2
}
